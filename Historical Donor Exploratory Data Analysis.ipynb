{
 "cells": [
  {
   "cell_type": "markdown",
   "metadata": {},
   "source": [
    "# Data Analysis\n",
    "\n",
    "\n",
    "**Who**\n",
    "All individual donors who gave to the c3 recorded in NGP, minus monthly donors and Indiegogo donors. We’re working with 1,561 donors in this analysis.\n",
    "\n",
    "**Approach**\n",
    "This is what I would call an “exploratory data analysis.” My goal here was to simply understand or donor data and start asking questions. Like every good analysis, I wound up with more questions than I was able to answer.   \n",
    "\n",
    "**I started my analysis by asking the questions:**  \n",
    "How many of our donors give below \\\\$100? Below \\\\$500? Below \\\\$1,000?  \n",
    "What’s the average lifetime value of our donors?  \n",
    "How many of our donors give once and then never again?  \n",
    "Who loves us the most (donors with the most gifts)?  "
   ]
  },
  {
   "cell_type": "code",
   "execution_count": 1,
   "metadata": {},
   "outputs": [],
   "source": [
    "import pandas as pd\n",
    "import numpy as np\n",
    "import matplotlib.pyplot as plt\n",
    "import seaborn as sns\n",
    "import datetime\n",
    "datetime.datetime.strptime\n",
    "import warnings\n",
    "warnings.filterwarnings('ignore')\n",
    "\n",
    "\n",
    "%matplotlib inline"
   ]
  },
  {
   "cell_type": "code",
   "execution_count": 2,
   "metadata": {},
   "outputs": [
    {
     "data": {
      "text/html": [
       "<div>\n",
       "<style scoped>\n",
       "    .dataframe tbody tr th:only-of-type {\n",
       "        vertical-align: middle;\n",
       "    }\n",
       "\n",
       "    .dataframe tbody tr th {\n",
       "        vertical-align: top;\n",
       "    }\n",
       "\n",
       "    .dataframe thead th {\n",
       "        text-align: right;\n",
       "    }\n",
       "</style>\n",
       "<table border=\"1\" class=\"dataframe\">\n",
       "  <thead>\n",
       "    <tr style=\"text-align: right;\">\n",
       "      <th></th>\n",
       "      <th>Contact Name</th>\n",
       "      <th>Count</th>\n",
       "      <th>Contribution ID</th>\n",
       "      <th>Received On</th>\n",
       "      <th>Amount</th>\n",
       "      <th>Designation</th>\n",
       "      <th>Contribution Type</th>\n",
       "      <th>Cycle</th>\n",
       "      <th>Period</th>\n",
       "      <th>Contribution.Note</th>\n",
       "      <th>Source Code Path</th>\n",
       "      <th>Contact ID</th>\n",
       "    </tr>\n",
       "  </thead>\n",
       "  <tbody>\n",
       "    <tr>\n",
       "      <th>0</th>\n",
       "      <td>4112</td>\n",
       "      <td>NaN</td>\n",
       "      <td>VNW16CGKCY8</td>\n",
       "      <td>2011-07-08</td>\n",
       "      <td>2000.0</td>\n",
       "      <td>New Era Colorado Foundation</td>\n",
       "      <td>Monetary Contribution</td>\n",
       "      <td>NaN</td>\n",
       "      <td>NaN</td>\n",
       "      <td>NaN</td>\n",
       "      <td>NaN</td>\n",
       "      <td>VNX0EGHGYZ0</td>\n",
       "    </tr>\n",
       "    <tr>\n",
       "      <th>1</th>\n",
       "      <td>1966</td>\n",
       "      <td>NaN</td>\n",
       "      <td>VNW16CGJP70</td>\n",
       "      <td>2013-10-11</td>\n",
       "      <td>100.0</td>\n",
       "      <td>New Era Colorado Foundation</td>\n",
       "      <td>Monetary Contribution</td>\n",
       "      <td>NaN</td>\n",
       "      <td>NaN</td>\n",
       "      <td>NaN</td>\n",
       "      <td>NaN</td>\n",
       "      <td>VNX0EGHVH14</td>\n",
       "    </tr>\n",
       "    <tr>\n",
       "      <th>2</th>\n",
       "      <td>4716</td>\n",
       "      <td>NaN</td>\n",
       "      <td>VNW16E3PPR3</td>\n",
       "      <td>2015-12-22</td>\n",
       "      <td>2500.0</td>\n",
       "      <td>New Era Colorado Foundation</td>\n",
       "      <td>Monetary Contribution</td>\n",
       "      <td>NaN</td>\n",
       "      <td>NaN</td>\n",
       "      <td>NaN</td>\n",
       "      <td>NaN</td>\n",
       "      <td>VNX0EGJ1973</td>\n",
       "    </tr>\n",
       "    <tr>\n",
       "      <th>3</th>\n",
       "      <td>4793</td>\n",
       "      <td>NaN</td>\n",
       "      <td>VNW16CGFH74</td>\n",
       "      <td>2008-02-07</td>\n",
       "      <td>21.0</td>\n",
       "      <td>New Era Colorado Foundation</td>\n",
       "      <td>Monetary Contribution</td>\n",
       "      <td>NaN</td>\n",
       "      <td>NaN</td>\n",
       "      <td>NaN</td>\n",
       "      <td>NaN</td>\n",
       "      <td>VNX0EGH3992</td>\n",
       "    </tr>\n",
       "    <tr>\n",
       "      <th>4</th>\n",
       "      <td>1932</td>\n",
       "      <td>NaN</td>\n",
       "      <td>VNW16CGDHA2</td>\n",
       "      <td>2007-03-21</td>\n",
       "      <td>50.0</td>\n",
       "      <td>New Era Colorado Foundation</td>\n",
       "      <td>Monetary Contribution</td>\n",
       "      <td>NaN</td>\n",
       "      <td>NaN</td>\n",
       "      <td>NaN</td>\n",
       "      <td>NaN</td>\n",
       "      <td>VNX0EGH2VW2</td>\n",
       "    </tr>\n",
       "  </tbody>\n",
       "</table>\n",
       "</div>"
      ],
      "text/plain": [
       "    Contact Name  Count Contribution ID Received On  Amount  \\\n",
       "0           4112    NaN     VNW16CGKCY8  2011-07-08  2000.0   \n",
       "1           1966    NaN     VNW16CGJP70  2013-10-11   100.0   \n",
       "2           4716    NaN     VNW16E3PPR3  2015-12-22  2500.0   \n",
       "3           4793    NaN     VNW16CGFH74  2008-02-07    21.0   \n",
       "4           1932    NaN     VNW16CGDHA2  2007-03-21    50.0   \n",
       "\n",
       "                   Designation      Contribution Type  Cycle  Period  \\\n",
       "0  New Era Colorado Foundation  Monetary Contribution    NaN     NaN   \n",
       "1  New Era Colorado Foundation  Monetary Contribution    NaN     NaN   \n",
       "2  New Era Colorado Foundation  Monetary Contribution    NaN     NaN   \n",
       "3  New Era Colorado Foundation  Monetary Contribution    NaN     NaN   \n",
       "4  New Era Colorado Foundation  Monetary Contribution    NaN     NaN   \n",
       "\n",
       "  Contribution.Note  Source Code Path   Contact ID  \n",
       "0               NaN               NaN  VNX0EGHGYZ0  \n",
       "1               NaN               NaN  VNX0EGHVH14  \n",
       "2               NaN               NaN  VNX0EGJ1973  \n",
       "3               NaN               NaN  VNX0EGH3992  \n",
       "4               NaN               NaN  VNX0EGH2VW2  "
      ]
     },
     "execution_count": 2,
     "metadata": {},
     "output_type": "execute_result"
    }
   ],
   "source": [
    "data = pd.read_csv(\"data/historical_data.csv\")\n",
    "data.head()"
   ]
  },
  {
   "cell_type": "markdown",
   "metadata": {},
   "source": [
    "## Liftime Value"
   ]
  },
  {
   "cell_type": "code",
   "execution_count": 3,
   "metadata": {},
   "outputs": [
    {
     "data": {
      "text/html": [
       "<div>\n",
       "<style scoped>\n",
       "    .dataframe tbody tr th:only-of-type {\n",
       "        vertical-align: middle;\n",
       "    }\n",
       "\n",
       "    .dataframe tbody tr th {\n",
       "        vertical-align: top;\n",
       "    }\n",
       "\n",
       "    .dataframe thead th {\n",
       "        text-align: right;\n",
       "    }\n",
       "</style>\n",
       "<table border=\"1\" class=\"dataframe\">\n",
       "  <thead>\n",
       "    <tr style=\"text-align: right;\">\n",
       "      <th></th>\n",
       "      <th>lifetime_amount</th>\n",
       "    </tr>\n",
       "    <tr>\n",
       "      <th>Contact Name</th>\n",
       "      <th></th>\n",
       "    </tr>\n",
       "  </thead>\n",
       "  <tbody>\n",
       "    <tr>\n",
       "      <th>4421</th>\n",
       "      <td>301000.0</td>\n",
       "    </tr>\n",
       "    <tr>\n",
       "      <th>5780</th>\n",
       "      <td>50000.0</td>\n",
       "    </tr>\n",
       "    <tr>\n",
       "      <th>673</th>\n",
       "      <td>50000.0</td>\n",
       "    </tr>\n",
       "    <tr>\n",
       "      <th>6974</th>\n",
       "      <td>35500.0</td>\n",
       "    </tr>\n",
       "    <tr>\n",
       "      <th>6980</th>\n",
       "      <td>35000.0</td>\n",
       "    </tr>\n",
       "    <tr>\n",
       "      <th>813</th>\n",
       "      <td>35000.0</td>\n",
       "    </tr>\n",
       "    <tr>\n",
       "      <th>1456</th>\n",
       "      <td>26100.0</td>\n",
       "    </tr>\n",
       "    <tr>\n",
       "      <th>5906</th>\n",
       "      <td>25000.0</td>\n",
       "    </tr>\n",
       "    <tr>\n",
       "      <th>3058</th>\n",
       "      <td>25000.0</td>\n",
       "    </tr>\n",
       "    <tr>\n",
       "      <th>6093</th>\n",
       "      <td>25000.0</td>\n",
       "    </tr>\n",
       "    <tr>\n",
       "      <th>3521</th>\n",
       "      <td>23000.0</td>\n",
       "    </tr>\n",
       "    <tr>\n",
       "      <th>3475</th>\n",
       "      <td>18000.0</td>\n",
       "    </tr>\n",
       "    <tr>\n",
       "      <th>3887</th>\n",
       "      <td>16000.0</td>\n",
       "    </tr>\n",
       "    <tr>\n",
       "      <th>3304</th>\n",
       "      <td>16000.0</td>\n",
       "    </tr>\n",
       "    <tr>\n",
       "      <th>7135</th>\n",
       "      <td>12000.0</td>\n",
       "    </tr>\n",
       "  </tbody>\n",
       "</table>\n",
       "</div>"
      ],
      "text/plain": [
       "               lifetime_amount\n",
       " Contact Name                 \n",
       "4421                  301000.0\n",
       "5780                   50000.0\n",
       "673                    50000.0\n",
       "6974                   35500.0\n",
       "6980                   35000.0\n",
       "813                    35000.0\n",
       "1456                   26100.0\n",
       "5906                   25000.0\n",
       "3058                   25000.0\n",
       "6093                   25000.0\n",
       "3521                   23000.0\n",
       "3475                   18000.0\n",
       "3887                   16000.0\n",
       "3304                   16000.0\n",
       "7135                   12000.0"
      ]
     },
     "execution_count": 3,
     "metadata": {},
     "output_type": "execute_result"
    }
   ],
   "source": [
    "donors_by_lifetime = data.groupby([' Contact Name'])['Amount'].sum().sort_values(ascending = False).to_frame()\n",
    "donors_by_lifetime.columns = ['lifetime_amount']\n",
    "donors_by_lifetime.head(15)"
   ]
  },
  {
   "cell_type": "code",
   "execution_count": 42,
   "metadata": {},
   "outputs": [
    {
     "data": {
      "text/html": [
       "<div>\n",
       "<style scoped>\n",
       "    .dataframe tbody tr th:only-of-type {\n",
       "        vertical-align: middle;\n",
       "    }\n",
       "\n",
       "    .dataframe tbody tr th {\n",
       "        vertical-align: top;\n",
       "    }\n",
       "\n",
       "    .dataframe thead th {\n",
       "        text-align: right;\n",
       "    }\n",
       "</style>\n",
       "<table border=\"1\" class=\"dataframe\">\n",
       "  <thead>\n",
       "    <tr style=\"text-align: right;\">\n",
       "      <th></th>\n",
       "      <th>lifetime_amount</th>\n",
       "    </tr>\n",
       "  </thead>\n",
       "  <tbody>\n",
       "    <tr>\n",
       "      <th>count</th>\n",
       "      <td>1561.000000</td>\n",
       "    </tr>\n",
       "    <tr>\n",
       "      <th>mean</th>\n",
       "      <td>736.985951</td>\n",
       "    </tr>\n",
       "    <tr>\n",
       "      <th>std</th>\n",
       "      <td>8180.588119</td>\n",
       "    </tr>\n",
       "    <tr>\n",
       "      <th>min</th>\n",
       "      <td>0.000000</td>\n",
       "    </tr>\n",
       "    <tr>\n",
       "      <th>25%</th>\n",
       "      <td>25.000000</td>\n",
       "    </tr>\n",
       "    <tr>\n",
       "      <th>50%</th>\n",
       "      <td>50.000000</td>\n",
       "    </tr>\n",
       "    <tr>\n",
       "      <th>75%</th>\n",
       "      <td>105.000000</td>\n",
       "    </tr>\n",
       "    <tr>\n",
       "      <th>max</th>\n",
       "      <td>301000.000000</td>\n",
       "    </tr>\n",
       "  </tbody>\n",
       "</table>\n",
       "</div>"
      ],
      "text/plain": [
       "       lifetime_amount\n",
       "count      1561.000000\n",
       "mean        736.985951\n",
       "std        8180.588119\n",
       "min           0.000000\n",
       "25%          25.000000\n",
       "50%          50.000000\n",
       "75%         105.000000\n",
       "max      301000.000000"
      ]
     },
     "execution_count": 42,
     "metadata": {},
     "output_type": "execute_result"
    }
   ],
   "source": [
    "donors_by_lifetime.describe()"
   ]
  },
  {
   "cell_type": "markdown",
   "metadata": {},
   "source": [
    "### Distribution of Lifetime Values\n",
    "5.8% of donors have a lifetime value of \\\\$1,000 or more and make up 86.0% of our total revenue. This means that 94.2% of our donors are small dollar donors, and make up 14% of our total revenue. Given the 80/20 rule, these numbers make sense.\n"
   ]
  },
  {
   "cell_type": "code",
   "execution_count": 47,
   "metadata": {},
   "outputs": [
    {
     "data": {
      "text/plain": [
       "lifetime_amount    0.057655\n",
       "dtype: float64"
      ]
     },
     "execution_count": 47,
     "metadata": {},
     "output_type": "execute_result"
    }
   ],
   "source": [
    "donors_by_lifetime.loc[(donors_by_lifetime[\"lifetime_amount\"] > 1000)].count()/len(donors_by_lifetime)"
   ]
  },
  {
   "cell_type": "code",
   "execution_count": 50,
   "metadata": {},
   "outputs": [
    {
     "data": {
      "text/plain": [
       "0.8599927069330386"
      ]
     },
     "execution_count": 50,
     "metadata": {},
     "output_type": "execute_result"
    }
   ],
   "source": [
    "donors_by_lifetime.loc[(donors_by_lifetime[\"lifetime_amount\"] > 1000)].lifetime_amount.sum()/donors_by_lifetime.lifetime_amount.sum()"
   ]
  },
  {
   "cell_type": "code",
   "execution_count": 51,
   "metadata": {},
   "outputs": [
    {
     "data": {
      "text/plain": [
       "lifetime_amount    0.942345\n",
       "dtype: float64"
      ]
     },
     "execution_count": 51,
     "metadata": {},
     "output_type": "execute_result"
    }
   ],
   "source": [
    "donors_by_lifetime.loc[(donors_by_lifetime[\"lifetime_amount\"] <= 1000)].count()/len(donors_by_lifetime)"
   ]
  },
  {
   "cell_type": "code",
   "execution_count": 52,
   "metadata": {},
   "outputs": [
    {
     "data": {
      "text/plain": [
       "0.14000729306696116"
      ]
     },
     "execution_count": 52,
     "metadata": {},
     "output_type": "execute_result"
    }
   ],
   "source": [
    "donors_by_lifetime.loc[(donors_by_lifetime[\"lifetime_amount\"] <= 1000)].lifetime_amount.sum()/donors_by_lifetime.lifetime_amount.sum()"
   ]
  },
  {
   "cell_type": "code",
   "execution_count": 4,
   "metadata": {},
   "outputs": [],
   "source": [
    "donors_100_1000 = donors_by_lifetime.loc[(donors_by_lifetime[\"lifetime_amount\"] > 100) & (donors_by_lifetime[\"lifetime_amount\"] <= 1000)]"
   ]
  },
  {
   "cell_type": "code",
   "execution_count": 5,
   "metadata": {},
   "outputs": [
    {
     "data": {
      "text/plain": [
       "<matplotlib.axes._subplots.AxesSubplot at 0x7f4664f14048>"
      ]
     },
     "execution_count": 5,
     "metadata": {},
     "output_type": "execute_result"
    },
    {
     "data": {
      "image/png": "[encoded data removed]",
      "text/plain": [
       "<Figure size 842.4x595.44 with 1 Axes>"
      ]
     },
     "metadata": {},
     "output_type": "display_data"
    }
   ],
   "source": [
    "a4_dims = (11.7, 8.27)\n",
    "fig, ax = plt.subplots(figsize=a4_dims)\n",
    "\n",
    "sns.distplot(donors_100_1000['lifetime_amount'], bins = 30)"
   ]
  },
  {
   "cell_type": "code",
   "execution_count": 6,
   "metadata": {},
   "outputs": [],
   "source": [
    "donors_900_10000 = donors_by_lifetime.loc[(donors_by_lifetime[\"lifetime_amount\"] > 900) & (donors_by_lifetime[\"lifetime_amount\"] <= 10000)]"
   ]
  },
  {
   "cell_type": "code",
   "execution_count": 7,
   "metadata": {},
   "outputs": [
    {
     "data": {
      "text/plain": [
       "<matplotlib.axes._subplots.AxesSubplot at 0x7f4662c245f8>"
      ]
     },
     "execution_count": 7,
     "metadata": {},
     "output_type": "execute_result"
    },
    {
     "data": {
      "image/png": "[encoded data removed]",
      "text/plain": [
       "<Figure size 842.4x595.44 with 1 Axes>"
      ]
     },
     "metadata": {},
     "output_type": "display_data"
    }
   ],
   "source": [
    "a4_dims = (11.7, 8.27)\n",
    "fig, ax = plt.subplots(figsize=a4_dims)\n",
    "\n",
    "sns.distplot(donors_900_10000['lifetime_amount'], bins = 30)"
   ]
  },
  {
   "cell_type": "markdown",
   "metadata": {},
   "source": [
    "## Quick Check on Lifetime Amounts  \n",
    "\n",
    "7.5% of donors have a lifetime value of \\\\$1,000 or more and make up 88.3\\% of our total revenue.\n",
    "\n",
    "This means that 92.5\\% of our donors are small dollar donors, and make up 16\\% of our total revenue. Given the 80/20 rule, these numbers make sense."
   ]
  },
  {
   "cell_type": "code",
   "execution_count": 8,
   "metadata": {},
   "outputs": [
    {
     "data": {
      "text/plain": [
       "lifetime_amount    0.074952\n",
       "dtype: float64"
      ]
     },
     "execution_count": 8,
     "metadata": {},
     "output_type": "execute_result"
    }
   ],
   "source": [
    "donors_by_lifetime.loc[(donors_by_lifetime[\"lifetime_amount\"] >= 1000)].count()/len(donors_by_lifetime)"
   ]
  },
  {
   "cell_type": "code",
   "execution_count": 9,
   "metadata": {},
   "outputs": [
    {
     "data": {
      "text/plain": [
       "0.88346208882523"
      ]
     },
     "execution_count": 9,
     "metadata": {},
     "output_type": "execute_result"
    }
   ],
   "source": [
    "total_major_donors = donors_by_lifetime.loc[(donors_by_lifetime[\"lifetime_amount\"] >= 1000)].lifetime_amount.sum()\n",
    "total = donors_by_lifetime.lifetime_amount.sum()\n",
    "total_major_donors/total"
   ]
  },
  {
   "cell_type": "markdown",
   "metadata": {},
   "source": [
    "## Checking for Repeat Donors  \n",
    "\n",
    "How many of our donors only give once? How many gifts does someone give before they lapse?"
   ]
  },
  {
   "cell_type": "code",
   "execution_count": 10,
   "metadata": {},
   "outputs": [
    {
     "data": {
      "text/html": [
       "<div>\n",
       "<style scoped>\n",
       "    .dataframe tbody tr th:only-of-type {\n",
       "        vertical-align: middle;\n",
       "    }\n",
       "\n",
       "    .dataframe tbody tr th {\n",
       "        vertical-align: top;\n",
       "    }\n",
       "\n",
       "    .dataframe thead th {\n",
       "        text-align: right;\n",
       "    }\n",
       "</style>\n",
       "<table border=\"1\" class=\"dataframe\">\n",
       "  <thead>\n",
       "    <tr style=\"text-align: right;\">\n",
       "      <th></th>\n",
       "      <th>number_of_gifts</th>\n",
       "    </tr>\n",
       "    <tr>\n",
       "      <th>Contact Name</th>\n",
       "      <th></th>\n",
       "    </tr>\n",
       "  </thead>\n",
       "  <tbody>\n",
       "    <tr>\n",
       "      <th>1365</th>\n",
       "      <td>12</td>\n",
       "    </tr>\n",
       "    <tr>\n",
       "      <th>530</th>\n",
       "      <td>12</td>\n",
       "    </tr>\n",
       "    <tr>\n",
       "      <th>4543</th>\n",
       "      <td>11</td>\n",
       "    </tr>\n",
       "    <tr>\n",
       "      <th>482</th>\n",
       "      <td>11</td>\n",
       "    </tr>\n",
       "    <tr>\n",
       "      <th>417</th>\n",
       "      <td>10</td>\n",
       "    </tr>\n",
       "  </tbody>\n",
       "</table>\n",
       "</div>"
      ],
      "text/plain": [
       "               number_of_gifts\n",
       " Contact Name                 \n",
       "1365                        12\n",
       "530                         12\n",
       "4543                        11\n",
       "482                         11\n",
       "417                         10"
      ]
     },
     "execution_count": 10,
     "metadata": {},
     "output_type": "execute_result"
    }
   ],
   "source": [
    "by_gifts = data.groupby([' Contact Name']).size().sort_values(ascending = False).to_frame()\n",
    "by_gifts.columns = ['number_of_gifts']\n",
    "by_gifts.head()"
   ]
  },
  {
   "cell_type": "markdown",
   "metadata": {},
   "source": [
    "## Repeat Donors\n",
    "76\\% of our donors have given only once. This isn't our exact retention rate, because it doesn't take into account time. "
   ]
  },
  {
   "cell_type": "code",
   "execution_count": 11,
   "metadata": {},
   "outputs": [
    {
     "data": {
      "text/plain": [
       "0.7616912235746316"
      ]
     },
     "execution_count": 11,
     "metadata": {},
     "output_type": "execute_result"
    }
   ],
   "source": [
    "only_once = by_gifts.loc[by_gifts['number_of_gifts'] == 1]\n",
    "len(only_once)/len(by_gifts)"
   ]
  },
  {
   "cell_type": "code",
   "execution_count": 12,
   "metadata": {},
   "outputs": [],
   "source": [
    "repeat_donors = by_gifts.loc[by_gifts['number_of_gifts'] != 1]\n"
   ]
  },
  {
   "cell_type": "markdown",
   "metadata": {},
   "source": [
    "Let's take a look at some summary statistics. 372 of our donors have given more than once. The average number a gift someone gives is 3, with a median of 2. Most of the data fall within the range of 2 to 4 gifts. I wonder how these stats would change when we separate out small dollar donors from major donors."
   ]
  },
  {
   "cell_type": "code",
   "execution_count": 13,
   "metadata": {},
   "outputs": [
    {
     "data": {
      "text/html": [
       "<div>\n",
       "<style scoped>\n",
       "    .dataframe tbody tr th:only-of-type {\n",
       "        vertical-align: middle;\n",
       "    }\n",
       "\n",
       "    .dataframe tbody tr th {\n",
       "        vertical-align: top;\n",
       "    }\n",
       "\n",
       "    .dataframe thead th {\n",
       "        text-align: right;\n",
       "    }\n",
       "</style>\n",
       "<table border=\"1\" class=\"dataframe\">\n",
       "  <thead>\n",
       "    <tr style=\"text-align: right;\">\n",
       "      <th></th>\n",
       "      <th>number_of_gifts</th>\n",
       "    </tr>\n",
       "  </thead>\n",
       "  <tbody>\n",
       "    <tr>\n",
       "      <th>count</th>\n",
       "      <td>372.000000</td>\n",
       "    </tr>\n",
       "    <tr>\n",
       "      <th>mean</th>\n",
       "      <td>3.201613</td>\n",
       "    </tr>\n",
       "    <tr>\n",
       "      <th>std</th>\n",
       "      <td>1.801376</td>\n",
       "    </tr>\n",
       "    <tr>\n",
       "      <th>min</th>\n",
       "      <td>2.000000</td>\n",
       "    </tr>\n",
       "    <tr>\n",
       "      <th>25%</th>\n",
       "      <td>2.000000</td>\n",
       "    </tr>\n",
       "    <tr>\n",
       "      <th>50%</th>\n",
       "      <td>2.000000</td>\n",
       "    </tr>\n",
       "    <tr>\n",
       "      <th>75%</th>\n",
       "      <td>4.000000</td>\n",
       "    </tr>\n",
       "    <tr>\n",
       "      <th>max</th>\n",
       "      <td>12.000000</td>\n",
       "    </tr>\n",
       "  </tbody>\n",
       "</table>\n",
       "</div>"
      ],
      "text/plain": [
       "       number_of_gifts\n",
       "count       372.000000\n",
       "mean          3.201613\n",
       "std           1.801376\n",
       "min           2.000000\n",
       "25%           2.000000\n",
       "50%           2.000000\n",
       "75%           4.000000\n",
       "max          12.000000"
      ]
     },
     "execution_count": 13,
     "metadata": {},
     "output_type": "execute_result"
    }
   ],
   "source": [
    "repeat_donors.describe()"
   ]
  },
  {
   "cell_type": "code",
   "execution_count": 14,
   "metadata": {},
   "outputs": [
    {
     "data": {
      "text/plain": [
       "2.0"
      ]
     },
     "execution_count": 14,
     "metadata": {},
     "output_type": "execute_result"
    }
   ],
   "source": [
    "np.median(repeat_donors.number_of_gifts)"
   ]
  },
  {
   "cell_type": "markdown",
   "metadata": {},
   "source": [
    "## Differences between small and major donors"
   ]
  },
  {
   "cell_type": "code",
   "execution_count": 15,
   "metadata": {},
   "outputs": [],
   "source": [
    "# separate out major and small donors into two dataframes\n",
    "major = donors_by_lifetime.loc[(donors_by_lifetime[\"lifetime_amount\"] >= 1000)]\n",
    "small = donors_by_lifetime.loc[(donors_by_lifetime[\"lifetime_amount\"] < 1000)]"
   ]
  },
  {
   "cell_type": "code",
   "execution_count": 16,
   "metadata": {},
   "outputs": [],
   "source": [
    "# locate the donors in the dataframe with individual transcations\n",
    "i1 = data[\" Contact Name\"]\n",
    "i2 = major.index\n",
    "major = data[i1.isin(i2)]"
   ]
  },
  {
   "cell_type": "code",
   "execution_count": 17,
   "metadata": {},
   "outputs": [],
   "source": [
    "# locate the donors in the dataframe with individual transcations\n",
    "i1 = data[\" Contact Name\"]\n",
    "i2 = small.index\n",
    "small = data[i1.isin(i2)]"
   ]
  },
  {
   "cell_type": "code",
   "execution_count": 18,
   "metadata": {},
   "outputs": [
    {
     "data": {
      "text/html": [
       "<div>\n",
       "<style scoped>\n",
       "    .dataframe tbody tr th:only-of-type {\n",
       "        vertical-align: middle;\n",
       "    }\n",
       "\n",
       "    .dataframe tbody tr th {\n",
       "        vertical-align: top;\n",
       "    }\n",
       "\n",
       "    .dataframe thead th {\n",
       "        text-align: right;\n",
       "    }\n",
       "</style>\n",
       "<table border=\"1\" class=\"dataframe\">\n",
       "  <thead>\n",
       "    <tr style=\"text-align: right;\">\n",
       "      <th></th>\n",
       "      <th>number_of_gifts</th>\n",
       "    </tr>\n",
       "    <tr>\n",
       "      <th>Contact Name</th>\n",
       "      <th></th>\n",
       "    </tr>\n",
       "  </thead>\n",
       "  <tbody>\n",
       "    <tr>\n",
       "      <th>1365</th>\n",
       "      <td>12</td>\n",
       "    </tr>\n",
       "    <tr>\n",
       "      <th>530</th>\n",
       "      <td>12</td>\n",
       "    </tr>\n",
       "    <tr>\n",
       "      <th>482</th>\n",
       "      <td>11</td>\n",
       "    </tr>\n",
       "    <tr>\n",
       "      <th>3454</th>\n",
       "      <td>10</td>\n",
       "    </tr>\n",
       "    <tr>\n",
       "      <th>5848</th>\n",
       "      <td>9</td>\n",
       "    </tr>\n",
       "    <tr>\n",
       "      <th>6290</th>\n",
       "      <td>9</td>\n",
       "    </tr>\n",
       "    <tr>\n",
       "      <th>2357</th>\n",
       "      <td>8</td>\n",
       "    </tr>\n",
       "    <tr>\n",
       "      <th>3818</th>\n",
       "      <td>8</td>\n",
       "    </tr>\n",
       "    <tr>\n",
       "      <th>3058</th>\n",
       "      <td>8</td>\n",
       "    </tr>\n",
       "    <tr>\n",
       "      <th>7542</th>\n",
       "      <td>7</td>\n",
       "    </tr>\n",
       "  </tbody>\n",
       "</table>\n",
       "</div>"
      ],
      "text/plain": [
       "               number_of_gifts\n",
       " Contact Name                 \n",
       "1365                        12\n",
       "530                         12\n",
       "482                         11\n",
       "3454                        10\n",
       "5848                         9\n",
       "6290                         9\n",
       "2357                         8\n",
       "3818                         8\n",
       "3058                         8\n",
       "7542                         7"
      ]
     },
     "execution_count": 18,
     "metadata": {},
     "output_type": "execute_result"
    }
   ],
   "source": [
    "# major gifts by number of gifts\n",
    "major_by_gifts = major.groupby([' Contact Name']).size().sort_values(ascending = False).to_frame()\n",
    "major_by_gifts.columns = ['number_of_gifts']\n",
    "major_by_gifts.head(10)"
   ]
  },
  {
   "cell_type": "code",
   "execution_count": 41,
   "metadata": {},
   "outputs": [
    {
     "data": {
      "text/plain": [
       "<matplotlib.axes._subplots.AxesSubplot at 0x7f4655d2b860>"
      ]
     },
     "execution_count": 41,
     "metadata": {},
     "output_type": "execute_result"
    },
    {
     "data": {
      "image/png": "[encoded data removed]",
      "text/plain": [
       "<Figure size 1440x720 with 1 Axes>"
      ]
     },
     "metadata": {},
     "output_type": "display_data"
    }
   ],
   "source": [
    "plt.figure(figsize=(20,10))\n",
    "sns.distplot(major_by_gifts[\"number_of_gifts\"], bins = 10)"
   ]
  },
  {
   "cell_type": "code",
   "execution_count": 19,
   "metadata": {},
   "outputs": [],
   "source": [
    "#small gifts by number of gifts\n",
    "small_by_gifts = small.groupby([' Contact Name']).size().sort_values(ascending = False).to_frame()\n",
    "small_by_gifts.columns = ['number_of_gifts']\n"
   ]
  },
  {
   "cell_type": "code",
   "execution_count": 20,
   "metadata": {},
   "outputs": [],
   "source": [
    "small_by_gifts[\"type\"] = \"small\"\n",
    "major_by_gifts[\"type\"] = \"major\"\n",
    "all_gifts = pd.concat([small_by_gifts, major_by_gifts])"
   ]
  },
  {
   "cell_type": "markdown",
   "metadata": {},
   "source": [
    "We see below that most small dollar donors only give a few number of times (primarily only one gift), while major donors have a larger spread, ranging primarily from 1 to 5 gifts."
   ]
  },
  {
   "cell_type": "code",
   "execution_count": 21,
   "metadata": {},
   "outputs": [
    {
     "data": {
      "image/png": "[encoded data removed]",
      "text/plain": [
       "<Figure size 360x360 with 1 Axes>"
      ]
     },
     "metadata": {},
     "output_type": "display_data"
    }
   ],
   "source": [
    "sns.catplot(x=\"type\", y=\"number_of_gifts\", kind=\"violin\", data=all_gifts);\n"
   ]
  },
  {
   "cell_type": "code",
   "execution_count": 37,
   "metadata": {},
   "outputs": [
    {
     "data": {
      "text/plain": [
       "<Figure size 1440x720 with 0 Axes>"
      ]
     },
     "metadata": {},
     "output_type": "display_data"
    },
    {
     "data": {
      "image/png": "[encoded data removed]",
      "text/plain": [
       "<Figure size 360x360 with 1 Axes>"
      ]
     },
     "metadata": {},
     "output_type": "display_data"
    }
   ],
   "source": [
    "plt.figure(figsize=(20,10))\n",
    "sns.catplot(x=\"type\", y=\"number_of_gifts\", kind=\"boxen\", data=all_gifts);\n"
   ]
  },
  {
   "cell_type": "markdown",
   "metadata": {},
   "source": [
    "Below we see that we have 1,444 small dollar donors and 117 major donors. Small dollar donors on average give 1.3 gifts, while major donors on average give 3.5 gifts. We clearly see that most small dollar donors usually give only once. This tells me that there is room for imporvement in our retention rate for small dollar donors."
   ]
  },
  {
   "cell_type": "code",
   "execution_count": 23,
   "metadata": {},
   "outputs": [
    {
     "data": {
      "text/html": [
       "<div>\n",
       "<style scoped>\n",
       "    .dataframe tbody tr th:only-of-type {\n",
       "        vertical-align: middle;\n",
       "    }\n",
       "\n",
       "    .dataframe tbody tr th {\n",
       "        vertical-align: top;\n",
       "    }\n",
       "\n",
       "    .dataframe thead th {\n",
       "        text-align: right;\n",
       "    }\n",
       "</style>\n",
       "<table border=\"1\" class=\"dataframe\">\n",
       "  <thead>\n",
       "    <tr style=\"text-align: right;\">\n",
       "      <th></th>\n",
       "      <th>number_of_gifts</th>\n",
       "    </tr>\n",
       "  </thead>\n",
       "  <tbody>\n",
       "    <tr>\n",
       "      <th>count</th>\n",
       "      <td>1444.000000</td>\n",
       "    </tr>\n",
       "    <tr>\n",
       "      <th>mean</th>\n",
       "      <td>1.360111</td>\n",
       "    </tr>\n",
       "    <tr>\n",
       "      <th>std</th>\n",
       "      <td>0.935458</td>\n",
       "    </tr>\n",
       "    <tr>\n",
       "      <th>min</th>\n",
       "      <td>1.000000</td>\n",
       "    </tr>\n",
       "    <tr>\n",
       "      <th>25%</th>\n",
       "      <td>1.000000</td>\n",
       "    </tr>\n",
       "    <tr>\n",
       "      <th>50%</th>\n",
       "      <td>1.000000</td>\n",
       "    </tr>\n",
       "    <tr>\n",
       "      <th>75%</th>\n",
       "      <td>1.000000</td>\n",
       "    </tr>\n",
       "    <tr>\n",
       "      <th>max</th>\n",
       "      <td>11.000000</td>\n",
       "    </tr>\n",
       "  </tbody>\n",
       "</table>\n",
       "</div>"
      ],
      "text/plain": [
       "       number_of_gifts\n",
       "count      1444.000000\n",
       "mean          1.360111\n",
       "std           0.935458\n",
       "min           1.000000\n",
       "25%           1.000000\n",
       "50%           1.000000\n",
       "75%           1.000000\n",
       "max          11.000000"
      ]
     },
     "execution_count": 23,
     "metadata": {},
     "output_type": "execute_result"
    }
   ],
   "source": [
    "all_gifts.loc[all_gifts[\"type\"] == \"small\"].describe()"
   ]
  },
  {
   "cell_type": "code",
   "execution_count": 24,
   "metadata": {},
   "outputs": [
    {
     "data": {
      "text/html": [
       "<div>\n",
       "<style scoped>\n",
       "    .dataframe tbody tr th:only-of-type {\n",
       "        vertical-align: middle;\n",
       "    }\n",
       "\n",
       "    .dataframe tbody tr th {\n",
       "        vertical-align: top;\n",
       "    }\n",
       "\n",
       "    .dataframe thead th {\n",
       "        text-align: right;\n",
       "    }\n",
       "</style>\n",
       "<table border=\"1\" class=\"dataframe\">\n",
       "  <thead>\n",
       "    <tr style=\"text-align: right;\">\n",
       "      <th></th>\n",
       "      <th>number_of_gifts</th>\n",
       "    </tr>\n",
       "  </thead>\n",
       "  <tbody>\n",
       "    <tr>\n",
       "      <th>count</th>\n",
       "      <td>117.000000</td>\n",
       "    </tr>\n",
       "    <tr>\n",
       "      <th>mean</th>\n",
       "      <td>3.555556</td>\n",
       "    </tr>\n",
       "    <tr>\n",
       "      <th>std</th>\n",
       "      <td>2.614431</td>\n",
       "    </tr>\n",
       "    <tr>\n",
       "      <th>min</th>\n",
       "      <td>1.000000</td>\n",
       "    </tr>\n",
       "    <tr>\n",
       "      <th>25%</th>\n",
       "      <td>1.000000</td>\n",
       "    </tr>\n",
       "    <tr>\n",
       "      <th>50%</th>\n",
       "      <td>3.000000</td>\n",
       "    </tr>\n",
       "    <tr>\n",
       "      <th>75%</th>\n",
       "      <td>5.000000</td>\n",
       "    </tr>\n",
       "    <tr>\n",
       "      <th>max</th>\n",
       "      <td>12.000000</td>\n",
       "    </tr>\n",
       "  </tbody>\n",
       "</table>\n",
       "</div>"
      ],
      "text/plain": [
       "       number_of_gifts\n",
       "count       117.000000\n",
       "mean          3.555556\n",
       "std           2.614431\n",
       "min           1.000000\n",
       "25%           1.000000\n",
       "50%           3.000000\n",
       "75%           5.000000\n",
       "max          12.000000"
      ]
     },
     "execution_count": 24,
     "metadata": {},
     "output_type": "execute_result"
    }
   ],
   "source": [
    "all_gifts.loc[all_gifts[\"type\"] == \"major\"].describe()"
   ]
  },
  {
   "cell_type": "markdown",
   "metadata": {},
   "source": [
    "## Retention Rate  for Small Dollar Donors\n",
    "\n",
    "The retention rate is what percentage of your donors give two years in a row. It is useful for determine how well you keep your donors, and can provide a launching for point fo improving donor communications."
   ]
  },
  {
   "cell_type": "code",
   "execution_count": 25,
   "metadata": {},
   "outputs": [],
   "source": [
    "#convert column to datetime\n",
    "small['Received On'] = pd.to_datetime(small['Received On'])\n"
   ]
  },
  {
   "cell_type": "code",
   "execution_count": 26,
   "metadata": {},
   "outputs": [],
   "source": [
    "# this is a horrible workaround for something I presume is easy\n",
    "# Create separate dataframes and add a yes if the donation was received in a given year, per donor\n",
    "small_2007 = small[small['Received On'].apply(lambda x: x.year == 2007)]\n",
    "small_2007[\"2007\"] = \"yes\"\n",
    "small_2008 = small[small['Received On'].apply(lambda x: x.year == 2008)]\n",
    "small_2008[\"2008\"] = \"yes\"\n",
    "small_2009 = small[small['Received On'].apply(lambda x: x.year == 2009)]\n",
    "small_2009[\"2009\"] = \"yes\"\n",
    "small_2010 = small[small['Received On'].apply(lambda x: x.year == 2010)]\n",
    "small_2010[\"2010\"] = \"yes\"\n",
    "small_2011 = small[small['Received On'].apply(lambda x: x.year == 2011)]\n",
    "small_2011[\"2011\"] = \"yes\"\n",
    "small_2012 = small[small['Received On'].apply(lambda x: x.year == 2012)]\n",
    "small_2012[\"2012\"] = \"yes\"\n",
    "small_2013 = small[small['Received On'].apply(lambda x: x.year == 2013)]\n",
    "small_2013[\"2013\"] = \"yes\"\n",
    "small_2014 = small[small['Received On'].apply(lambda x: x.year == 2014)]\n",
    "small_2014[\"2014\"] = \"yes\"\n",
    "small_2015 = small[small['Received On'].apply(lambda x: x.year == 2015)]\n",
    "small_2015[\"2015\"] = \"yes\"\n",
    "small_2016 = small[small['Received On'].apply(lambda x: x.year == 2016)]\n",
    "small_2016[\"2016\"] = \"yes\"\n",
    "small_2017 = small[small['Received On'].apply(lambda x: x.year == 2017)]\n",
    "small_2017[\"2017\"] = \"yes\"\n",
    "small_2018 = small[small['Received On'].apply(lambda x: x.year == 2018)]\n",
    "small_2018[\"2018\"] = \"yes\"\n",
    "\n"
   ]
  },
  {
   "cell_type": "code",
   "execution_count": 27,
   "metadata": {},
   "outputs": [],
   "source": [
    "data = pd.DataFrame(columns=[' Contact Name','Count','Contribution ID','Recevied On',\n",
    "                           'Amount','Designation','Contribution Type', 'Cycle',\n",
    "                          'Period', 'Contribution.Note', 'Source Code Path', 'Contact ID', \n",
    "                          '2007', '2008', '2009', '2010', '2011', '2012', '2013', '2014', '2015',\n",
    "                          '2016', '2017', '2018'])"
   ]
  },
  {
   "cell_type": "code",
   "execution_count": 28,
   "metadata": {},
   "outputs": [],
   "source": [
    "data = pd.concat([data, small_2007, small_2008, small_2009, small_2010, \n",
    "           small_2011, small_2012, small_2013, small_2014,\n",
    "          small_2015, small_2016, small_2017, small_2018])"
   ]
  },
  {
   "cell_type": "code",
   "execution_count": 29,
   "metadata": {},
   "outputs": [],
   "source": [
    "df = data.groupby([' Contact Name']).count().iloc[:, [1,3,4,5,6,7,8,9,10,11,12,13,14]]"
   ]
  },
  {
   "cell_type": "code",
   "execution_count": 30,
   "metadata": {},
   "outputs": [],
   "source": [
    "# calculate the retention rate\n",
    "retention_2009 = df.loc[(df[\"2008\"] >= 1) & (df[\"2009\"] >= 1)].Amount.count()/len(small_2008)*100\n",
    "retention_2010 = df.loc[(df[\"2009\"] >= 1) & (df[\"2010\"] >= 1)].Amount.count()/len(small_2009)\n",
    "retention_2011 = df.loc[(df[\"2010\"] >= 1) & (df[\"2011\"] >= 1)].Amount.count()/len(small_2010)\n",
    "retention_2012 = df.loc[(df[\"2011\"] >= 1) & (df[\"2012\"] >= 1)].Amount.count()/len(small_2011)\n",
    "retention_2013 = df.loc[(df[\"2012\"] >= 1) & (df[\"2013\"] >= 1)].Amount.count()/len(small_2012)\n",
    "retention_2014 = df.loc[(df[\"2013\"] >= 1) & (df[\"2014\"] >= 1)].Amount.count()/len(small_2013)\n",
    "retention_2015 = df.loc[(df[\"2014\"] >= 1) & (df[\"2015\"] >= 1)].Amount.count()/len(small_2014)\n",
    "retention_2016 = df.loc[(df[\"2015\"] >= 1) & (df[\"2016\"] >= 1)].Amount.count()/len(small_2015)\n",
    "retention_2017 = df.loc[(df[\"2016\"] >= 1) & (df[\"2017\"] >= 1)].Amount.count()/len(small_2016)\n",
    "retention_2018 = df.loc[(df[\"2017\"] >= 1) & (df[\"2018\"] >= 1)].Amount.count()/len(small_2017)\n"
   ]
  },
  {
   "cell_type": "code",
   "execution_count": 31,
   "metadata": {},
   "outputs": [
    {
     "name": "stdout",
     "output_type": "stream",
     "text": [
      "The retention rate for 2009 was : 0.0%\n",
      "The retention rate for 2010 was : 5.9%\n",
      "The retention rate for 2011 was : 6.4%\n",
      "The retention rate for 2012 was : 10.8%\n",
      "The retention rate for 2013 was : 11.8%\n",
      "The retention rate for 2014 was : 8.5%\n",
      "The retention rate for 2015 was : 7.7%\n",
      "The retention rate for 2016 was : 16.9%\n",
      "The retention rate for 2017 was : 15.2%\n",
      "The retention rate for 2018 was : 8.9%\n"
     ]
    }
   ],
   "source": [
    "# print the retention rates\n",
    "print(\"The retention rate for 2009 was :\", \"{:.1%}\".format(retention_2009))\n",
    "print(\"The retention rate for 2010 was :\", \"{:.1%}\".format(retention_2010))\n",
    "print(\"The retention rate for 2011 was :\", \"{:.1%}\".format(retention_2011))\n",
    "print(\"The retention rate for 2012 was :\", \"{:.1%}\".format(retention_2012))\n",
    "print(\"The retention rate for 2013 was :\", \"{:.1%}\".format(retention_2013))\n",
    "print(\"The retention rate for 2014 was :\", \"{:.1%}\".format(retention_2014))\n",
    "print(\"The retention rate for 2015 was :\", \"{:.1%}\".format(retention_2015))\n",
    "print(\"The retention rate for 2016 was :\", \"{:.1%}\".format(retention_2016))\n",
    "print(\"The retention rate for 2017 was :\", \"{:.1%}\".format(retention_2017))\n",
    "print(\"The retention rate for 2018 was :\", \"{:.1%}\".format(retention_2018))\n",
    "\n"
   ]
  },
  {
   "cell_type": "code",
   "execution_count": 32,
   "metadata": {},
   "outputs": [
    {
     "data": {
      "text/html": [
       "<div>\n",
       "<style scoped>\n",
       "    .dataframe tbody tr th:only-of-type {\n",
       "        vertical-align: middle;\n",
       "    }\n",
       "\n",
       "    .dataframe tbody tr th {\n",
       "        vertical-align: top;\n",
       "    }\n",
       "\n",
       "    .dataframe thead th {\n",
       "        text-align: right;\n",
       "    }\n",
       "</style>\n",
       "<table border=\"1\" class=\"dataframe\">\n",
       "  <thead>\n",
       "    <tr style=\"text-align: right;\">\n",
       "      <th></th>\n",
       "      <th>Year</th>\n",
       "      <th>Retention_Rate</th>\n",
       "    </tr>\n",
       "  </thead>\n",
       "  <tbody>\n",
       "    <tr>\n",
       "      <th>0</th>\n",
       "      <td>2009</td>\n",
       "      <td>0.000000</td>\n",
       "    </tr>\n",
       "    <tr>\n",
       "      <th>1</th>\n",
       "      <td>2010</td>\n",
       "      <td>5.882353</td>\n",
       "    </tr>\n",
       "    <tr>\n",
       "      <th>2</th>\n",
       "      <td>2011</td>\n",
       "      <td>6.382979</td>\n",
       "    </tr>\n",
       "    <tr>\n",
       "      <th>3</th>\n",
       "      <td>2012</td>\n",
       "      <td>10.810811</td>\n",
       "    </tr>\n",
       "    <tr>\n",
       "      <th>4</th>\n",
       "      <td>2013</td>\n",
       "      <td>11.818182</td>\n",
       "    </tr>\n",
       "  </tbody>\n",
       "</table>\n",
       "</div>"
      ],
      "text/plain": [
       "   Year  Retention_Rate\n",
       "0  2009        0.000000\n",
       "1  2010        5.882353\n",
       "2  2011        6.382979\n",
       "3  2012       10.810811\n",
       "4  2013       11.818182"
      ]
     },
     "execution_count": 32,
     "metadata": {},
     "output_type": "execute_result"
    }
   ],
   "source": [
    "data = [[\"2009\", retention_2009*100], [\"2010\", retention_2010*100], [\"2011\",retention_2011*100], \n",
    "        [\"2012\", retention_2012*100], [\"2013\", retention_2013*100], [\"2014\", retention_2014*100],\n",
    "    [\"2015\",retention_2015*100], [\"2016\", retention_2016*100], [\"2017\",retention_2017*100],\n",
    "    [\"2018\",retention_2018*100]]\n",
    "plot_df = pd.DataFrame(data, columns = [\"Year\", \"Retention_Rate\"])\n",
    "plot_df.head()"
   ]
  },
  {
   "cell_type": "code",
   "execution_count": 58,
   "metadata": {},
   "outputs": [
    {
     "data": {
      "text/plain": [
       "<matplotlib.axes._subplots.AxesSubplot at 0x7f465556ef98>"
      ]
     },
     "execution_count": 58,
     "metadata": {},
     "output_type": "execute_result"
    },
    {
     "data": {
      "image/png": "[encoded data removed]",
      "text/plain": [
       "<Figure size 1440x720 with 1 Axes>"
      ]
     },
     "metadata": {},
     "output_type": "display_data"
    }
   ],
   "source": [
    "plt.figure(figsize=(20,10))\n",
    "plt.xlabel('xlabel', fontsize=18)\n",
    "plt.ylabel('ylabel', fontsize=16)\n",
    "plt.tick_params(axis='both', which='major', labelsize=20)\n",
    "plt.tick_params(axis='both', which='minor', labelsize=20)\n",
    "sns.set_style(\"whitegrid\")\n",
    "sns.barplot(x = \"Year\", y = \"Retention_Rate\", data = plot_df, palette=\"Blues_d\", saturation=.5)"
   ]
  },
  {
   "cell_type": "code",
   "execution_count": 34,
   "metadata": {},
   "outputs": [
    {
     "data": {
      "text/plain": [
       "Received On\n",
       "2001.0      1\n",
       "2007.0     50\n",
       "2008.0     64\n",
       "2009.0     17\n",
       "2010.0     47\n",
       "2011.0    148\n",
       "2012.0    110\n",
       "2013.0    435\n",
       "2014.0    352\n",
       "2015.0    189\n",
       "2016.0    269\n",
       "2017.0    169\n",
       "2018.0    112\n",
       "Name: Amount, dtype: int64"
      ]
     },
     "execution_count": 34,
     "metadata": {},
     "output_type": "execute_result"
    }
   ],
   "source": [
    "small.groupby(small[\"Received On\"].dt.year).Amount.count()"
   ]
  }
 ],
 "metadata": {
  "kernelspec": {
   "display_name": "Python 3",
   "language": "python",
   "name": "python3"
  },
  "language_info": {
   "codemirror_mode": {
    "name": "ipython",
    "version": 3
   },
   "file_extension": ".py",
   "mimetype": "text/x-python",
   "name": "python",
   "nbconvert_exporter": "python",
   "pygments_lexer": "ipython3",
   "version": "3.6.6"
  }
 },
 "nbformat": 4,
 "nbformat_minor": 2
}
