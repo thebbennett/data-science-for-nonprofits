{
 "cells": [
  {
   "cell_type": "markdown",
   "metadata": {},
   "source": [
    "# Historical Donor Data - Cleaning \n",
    "\n",
    "**Who**\n",
    "All individual donors who gave to the c3 recorded in NGP, minus monthly donors. We have  \n",
    "We’re working with 2,329 donors in this analysis.\n",
    "\n",
    "**Approach**\n",
    "This is what I would call an “exploratory data analysis.” My goal here was to simply understand or donor data and start asking questions. Like every good analysis, I wound up with more questions than I was able to answer.   \n",
    "\n",
    "**I started my analysis by asking the questions:**  \n",
    "How many of our donors give below \\\\$100? Below \\\\$500? Below \\\\$1,000?  \n",
    "What’s the average lifetime value of our donors?  \n",
    "How many of our donors give once and then never again?  \n",
    "Who loves us the most (donors with the most gifts)?  \n"
   ]
  },
  {
   "cell_type": "code",
   "execution_count": 1,
   "metadata": {},
   "outputs": [],
   "source": [
    "# load the necessary packages\n",
    "import pandas as pd\n",
    "import numpy as np\n",
    "import matplotlib.pyplot as plt\n",
    "import seaborn as sns\n",
    "import datetime\n",
    "datetime.datetime.strptime\n",
    "\n",
    "%matplotlib inline"
   ]
  },
  {
   "cell_type": "code",
   "execution_count": 2,
   "metadata": {},
   "outputs": [],
   "source": [
    "# read in the data for the c4 and the c3\n",
    "c3 = pd.read_csv(\"data/all_c3_donors.Csv\")\n",
    "c4 = pd.read_csv(\"data/all_c4_donors.csv\")"
   ]
  },
  {
   "cell_type": "markdown",
   "metadata": {},
   "source": [
    "# Data Cleaning  \n",
    "\n",
    "I just joined this organization and had never touched their data before, so I had no idea what I was getting myself into. I had a vague understanding that our data were messy, incomplete, and just plain bad, so I decided to poke around and see for myself.\n",
    "\n",
    "## The Data  \n",
    "\n",
    "We start, as always, by reading in the data and taking a look. Since you are reading this over the Internet, I have made the donor data anonymous."
   ]
  },
  {
   "cell_type": "code",
   "execution_count": 3,
   "metadata": {},
   "outputs": [
    {
     "name": "stderr",
     "output_type": "stream",
     "text": [
      "/home/thebbennett/anaconda3/lib/python3.6/site-packages/ipykernel_launcher.py:4: SettingWithCopyWarning: \n",
      "A value is trying to be set on a copy of a slice from a DataFrame.\n",
      "Try using .loc[row_indexer,col_indexer] = value instead\n",
      "\n",
      "See the caveats in the documentation: http://pandas.pydata.org/pandas-docs/stable/indexing.html#indexing-view-versus-copy\n",
      "  after removing the cwd from sys.path.\n"
     ]
    },
    {
     "data": {
      "text/html": [
       "<div>\n",
       "<style scoped>\n",
       "    .dataframe tbody tr th:only-of-type {\n",
       "        vertical-align: middle;\n",
       "    }\n",
       "\n",
       "    .dataframe tbody tr th {\n",
       "        vertical-align: top;\n",
       "    }\n",
       "\n",
       "    .dataframe thead th {\n",
       "        text-align: right;\n",
       "    }\n",
       "</style>\n",
       "<table border=\"1\" class=\"dataframe\">\n",
       "  <thead>\n",
       "    <tr style=\"text-align: right;\">\n",
       "      <th></th>\n",
       "      <th>date</th>\n",
       "      <th>amount</th>\n",
       "      <th>name</th>\n",
       "    </tr>\n",
       "  </thead>\n",
       "  <tbody>\n",
       "    <tr>\n",
       "      <th>0</th>\n",
       "      <td>06/15/2013</td>\n",
       "      <td>25.0</td>\n",
       "      <td>1900</td>\n",
       "    </tr>\n",
       "    <tr>\n",
       "      <th>1</th>\n",
       "      <td>07/08/2011</td>\n",
       "      <td>2000.0</td>\n",
       "      <td>4112</td>\n",
       "    </tr>\n",
       "    <tr>\n",
       "      <th>2</th>\n",
       "      <td>09/03/2013</td>\n",
       "      <td>25.0</td>\n",
       "      <td>4182</td>\n",
       "    </tr>\n",
       "    <tr>\n",
       "      <th>3</th>\n",
       "      <td>10/11/2013</td>\n",
       "      <td>100.0</td>\n",
       "      <td>1966</td>\n",
       "    </tr>\n",
       "    <tr>\n",
       "      <th>4</th>\n",
       "      <td>09/03/2013</td>\n",
       "      <td>25.0</td>\n",
       "      <td>1973</td>\n",
       "    </tr>\n",
       "    <tr>\n",
       "      <th>5</th>\n",
       "      <td>09/03/2013</td>\n",
       "      <td>10.0</td>\n",
       "      <td>2004</td>\n",
       "    </tr>\n",
       "    <tr>\n",
       "      <th>6</th>\n",
       "      <td>09/13/2013</td>\n",
       "      <td>1.0</td>\n",
       "      <td>2028</td>\n",
       "    </tr>\n",
       "    <tr>\n",
       "      <th>7</th>\n",
       "      <td>05/15/2014</td>\n",
       "      <td>10.0</td>\n",
       "      <td>2145</td>\n",
       "    </tr>\n",
       "    <tr>\n",
       "      <th>8</th>\n",
       "      <td>08/26/2014</td>\n",
       "      <td>10.0</td>\n",
       "      <td>2145</td>\n",
       "    </tr>\n",
       "    <tr>\n",
       "      <th>9</th>\n",
       "      <td>09/02/2013</td>\n",
       "      <td>5.0</td>\n",
       "      <td>4367</td>\n",
       "    </tr>\n",
       "  </tbody>\n",
       "</table>\n",
       "</div>"
      ],
      "text/plain": [
       "         date  amount  name\n",
       "0  06/15/2013    25.0  1900\n",
       "1  07/08/2011  2000.0  4112\n",
       "2  09/03/2013    25.0  4182\n",
       "3  10/11/2013   100.0  1966\n",
       "4  09/03/2013    25.0  1973\n",
       "5  09/03/2013    10.0  2004\n",
       "6  09/13/2013     1.0  2028\n",
       "7  05/15/2014    10.0  2145\n",
       "8  08/26/2014    10.0  2145\n",
       "9  09/02/2013     5.0  4367"
      ]
     },
     "execution_count": 3,
     "metadata": {},
     "output_type": "execute_result"
    }
   ],
   "source": [
    "# Let's make the donors anonymous \n",
    "c3_small = c3.iloc[:,[2,3,11]]\n",
    "c3_small.columns = ['date', 'amount', 'name']\n",
    "c3_small[\"name\"] = c3_small[\"name\"].astype('category').cat.codes\n",
    "c3_small.head(10)"
   ]
  },
  {
   "cell_type": "markdown",
   "metadata": {},
   "source": [
    "The above table lists individual donations by transaction date, but as a fundraiser I'm interested in donors themselves. I grouped the data above my name and summed their total contribution amounts to get their \"lifetime value.\""
   ]
  },
  {
   "cell_type": "code",
   "execution_count": 4,
   "metadata": {},
   "outputs": [
    {
     "data": {
      "text/html": [
       "<div>\n",
       "<style scoped>\n",
       "    .dataframe tbody tr th:only-of-type {\n",
       "        vertical-align: middle;\n",
       "    }\n",
       "\n",
       "    .dataframe tbody tr th {\n",
       "        vertical-align: top;\n",
       "    }\n",
       "\n",
       "    .dataframe thead th {\n",
       "        text-align: right;\n",
       "    }\n",
       "</style>\n",
       "<table border=\"1\" class=\"dataframe\">\n",
       "  <thead>\n",
       "    <tr style=\"text-align: right;\">\n",
       "      <th></th>\n",
       "      <th>lifetime_amount</th>\n",
       "    </tr>\n",
       "    <tr>\n",
       "      <th>name</th>\n",
       "      <th></th>\n",
       "    </tr>\n",
       "  </thead>\n",
       "  <tbody>\n",
       "    <tr>\n",
       "      <th>4421</th>\n",
       "      <td>301000.0</td>\n",
       "    </tr>\n",
       "    <tr>\n",
       "      <th>673</th>\n",
       "      <td>50000.0</td>\n",
       "    </tr>\n",
       "    <tr>\n",
       "      <th>5780</th>\n",
       "      <td>50000.0</td>\n",
       "    </tr>\n",
       "    <tr>\n",
       "      <th>6974</th>\n",
       "      <td>35500.0</td>\n",
       "    </tr>\n",
       "    <tr>\n",
       "      <th>813</th>\n",
       "      <td>35000.0</td>\n",
       "    </tr>\n",
       "    <tr>\n",
       "      <th>6980</th>\n",
       "      <td>35000.0</td>\n",
       "    </tr>\n",
       "    <tr>\n",
       "      <th>3537</th>\n",
       "      <td>30555.0</td>\n",
       "    </tr>\n",
       "    <tr>\n",
       "      <th>1456</th>\n",
       "      <td>26100.0</td>\n",
       "    </tr>\n",
       "    <tr>\n",
       "      <th>6093</th>\n",
       "      <td>25000.0</td>\n",
       "    </tr>\n",
       "    <tr>\n",
       "      <th>5906</th>\n",
       "      <td>25000.0</td>\n",
       "    </tr>\n",
       "    <tr>\n",
       "      <th>3058</th>\n",
       "      <td>25000.0</td>\n",
       "    </tr>\n",
       "    <tr>\n",
       "      <th>3521</th>\n",
       "      <td>23000.0</td>\n",
       "    </tr>\n",
       "    <tr>\n",
       "      <th>4565</th>\n",
       "      <td>20885.0</td>\n",
       "    </tr>\n",
       "    <tr>\n",
       "      <th>3475</th>\n",
       "      <td>18000.0</td>\n",
       "    </tr>\n",
       "    <tr>\n",
       "      <th>3887</th>\n",
       "      <td>16000.0</td>\n",
       "    </tr>\n",
       "  </tbody>\n",
       "</table>\n",
       "</div>"
      ],
      "text/plain": [
       "      lifetime_amount\n",
       "name                 \n",
       "4421         301000.0\n",
       "673           50000.0\n",
       "5780          50000.0\n",
       "6974          35500.0\n",
       "813           35000.0\n",
       "6980          35000.0\n",
       "3537          30555.0\n",
       "1456          26100.0\n",
       "6093          25000.0\n",
       "5906          25000.0\n",
       "3058          25000.0\n",
       "3521          23000.0\n",
       "4565          20885.0\n",
       "3475          18000.0\n",
       "3887          16000.0"
      ]
     },
     "execution_count": 4,
     "metadata": {},
     "output_type": "execute_result"
    }
   ],
   "source": [
    "# What are the lifetime amounts of our top donors?\n",
    "donors_by_lifetime = c3_small.groupby(['name'])['amount'].sum().sort_values(ascending = False).to_frame()\n",
    "donors_by_lifetime.columns = ['lifetime_amount']\n",
    "donors_by_lifetime.head(15)"
   ]
  },
  {
   "cell_type": "markdown",
   "metadata": {},
   "source": [
    "I was told that my org championed an international Indiegogo campaign that garnered 6,000+ donors. While this is awesome, as a fundraise I know this will heavily skew our retention rates. I know that we really only have 2,000 or so active donors, so carrying around 6,000 one-time donors we'll never be able to contact again isn't useful for our work.  \n",
    "\n",
    "The only issue is, I had no idea how these donors were coded into our database, if at all.  \n",
    "\n",
    "But before we begin, let's see what the distribution is for all giving."
   ]
  },
  {
   "cell_type": "code",
   "execution_count": 5,
   "metadata": {},
   "outputs": [],
   "source": [
    "# create a separate dataframe for small dollar donors\n",
    "sub_100 = donors_by_lifetime.loc[donors_by_lifetime[\"lifetime_amount\"] <= 100]"
   ]
  },
  {
   "cell_type": "code",
   "execution_count": 6,
   "metadata": {},
   "outputs": [
    {
     "data": {
      "text/plain": [
       "[Text(0,0.5,'Frequency'), Text(0.5,0,'Lifetime Value ($)')]"
      ]
     },
     "execution_count": 6,
     "metadata": {},
     "output_type": "execute_result"
    },
    {
     "data": {
      "image/png": "[encoded data removed]",
      "text/plain": [
       "<Figure size 842.4x595.44 with 1 Axes>"
      ]
     },
     "metadata": {},
     "output_type": "display_data"
    }
   ],
   "source": [
    "# Plot a histogram of all donor lifetime value, for the heck of it\n",
    "a4_dims = (11.7, 8.27)\n",
    "fig, ax = plt.subplots(figsize=a4_dims)\n",
    "sns.set_style('white')\n",
    "\n",
    "sns.distplot(donors_by_lifetime['lifetime_amount'], bins = 20, kde = False)\n",
    "ax.set(xlabel='Lifetime Value ($)', ylabel='Frequency')\n"
   ]
  },
  {
   "cell_type": "markdown",
   "metadata": {},
   "source": [
    "No matter the number of bins, this graph looks the same. We overwhelmingly have small dollar gifts in this unclean data set. \n",
    "\n",
    "Let's look only at small dollar donors (donors with lifetime values under \\\\$100)"
   ]
  },
  {
   "cell_type": "code",
   "execution_count": 7,
   "metadata": {},
   "outputs": [
    {
     "data": {
      "text/plain": [
       "[Text(0,0.5,'Frequency'), Text(0.5,0,'Lifetime Value ($)')]"
      ]
     },
     "execution_count": 7,
     "metadata": {},
     "output_type": "execute_result"
    },
    {
     "data": {
      "image/png": "[encoded data removed]",
      "text/plain": [
       "<Figure size 842.4x595.44 with 1 Axes>"
      ]
     },
     "metadata": {},
     "output_type": "display_data"
    }
   ],
   "source": [
    "# Plot a histogram of small dollar donors and their lifetime values\n",
    "a4_dims = (11.7, 8.27)\n",
    "fig, ax = plt.subplots(figsize=a4_dims)\n",
    "sns.set_style('white')\n",
    "#sns.set_context(\"poster\")\n",
    "\n",
    "sns.distplot(sub_100['lifetime_amount'], bins = 10, kde = False)\n",
    "ax.set(xlabel='Lifetime Value ($)', ylabel='Frequency')\n"
   ]
  },
  {
   "cell_type": "code",
   "execution_count": 8,
   "metadata": {},
   "outputs": [
    {
     "data": {
      "text/plain": [
       "lifetime_amount    3677\n",
       "dtype: int64"
      ]
     },
     "execution_count": 8,
     "metadata": {},
     "output_type": "execute_result"
    }
   ],
   "source": [
    "sub_100.loc[sub_100['lifetime_amount'] >= 25].count()"
   ]
  },
  {
   "cell_type": "code",
   "execution_count": 9,
   "metadata": {},
   "outputs": [
    {
     "data": {
      "text/plain": [
       "lifetime_amount    0.255166\n",
       "dtype: float64"
      ]
     },
     "execution_count": 9,
     "metadata": {},
     "output_type": "execute_result"
    }
   ],
   "source": [
    "donors_by_lifetime.loc[donors_by_lifetime[\"lifetime_amount\"] == 25].count()/len(donors_by_lifetime)"
   ]
  },
  {
   "cell_type": "markdown",
   "metadata": {},
   "source": [
    "With a zoomed in data set, we see that we have thousands of donors with lifetime values \\\\$25 or below -- 3,677 of them (or 25.5\\%!) in fact. I bet that these are our Indiegogo folk, so let's look at removing these donor from the analysis."
   ]
  },
  {
   "cell_type": "markdown",
   "metadata": {},
   "source": [
    "## Removing the One Time Indiegogo Folk"
   ]
  },
  {
   "cell_type": "markdown",
   "metadata": {},
   "source": [
    "We start by making a fresh, clean dataframe and calling it \"c3_clean\". This definitely won't become cumbersome later on.  \n",
    "\n"
   ]
  },
  {
   "cell_type": "code",
   "execution_count": 10,
   "metadata": {},
   "outputs": [],
   "source": [
    "c3_clean = c3\n",
    "c3_clean[\" Contact Name\"] = c3_clean[\" Contact Name\"].astype('category').cat.codes\n",
    "c3_clean = c3_clean.set_index(\" Contact Name\")\n"
   ]
  },
  {
   "cell_type": "code",
   "execution_count": 11,
   "metadata": {},
   "outputs": [],
   "source": [
    "c3_clean[\"Received On\"] = pd.to_datetime(c3_clean[\"Received On\"])\n"
   ]
  },
  {
   "cell_type": "code",
   "execution_count": 12,
   "metadata": {},
   "outputs": [
    {
     "data": {
      "text/plain": [
       "Index(['Count', 'Contribution ID', 'Received On', 'Amount', 'Designation',\n",
       "       'Contribution Type', 'Cycle', 'Period', 'Contribution.Note',\n",
       "       ' Source Code Path', ' Contact ID'],\n",
       "      dtype='object')"
      ]
     },
     "execution_count": 12,
     "metadata": {},
     "output_type": "execute_result"
    }
   ],
   "source": [
    "c3_clean.columns"
   ]
  },
  {
   "cell_type": "markdown",
   "metadata": {},
   "source": [
    "By plotting the gifts over time, we easily spoot the Indiegogo campaign: 2013. Let's zero in on that year."
   ]
  },
  {
   "cell_type": "code",
   "execution_count": 13,
   "metadata": {},
   "outputs": [
    {
     "data": {
      "text/plain": [
       "<matplotlib.axes._subplots.AxesSubplot at 0x7f75ccb66208>"
      ]
     },
     "execution_count": 13,
     "metadata": {},
     "output_type": "execute_result"
    },
    {
     "data": {
      "image/png": "[encoded data removed]",
      "text/plain": [
       "<Figure size 432x288 with 1 Axes>"
      ]
     },
     "metadata": {},
     "output_type": "display_data"
    }
   ],
   "source": [
    "c3_clean.groupby(c3_clean[\"Received On\"].dt.year).Amount.count().plot(kind=\"bar\", color = 'blue')\n"
   ]
  },
  {
   "cell_type": "markdown",
   "metadata": {},
   "source": [
    "We can plot a bar graph of 2013 once we've segmented out the 2013 donors."
   ]
  },
  {
   "cell_type": "code",
   "execution_count": 14,
   "metadata": {},
   "outputs": [],
   "source": [
    "donors_2013 = c3_clean[c3_clean['Received On'].apply(lambda x: x.year == 2013)]\n"
   ]
  },
  {
   "cell_type": "markdown",
   "metadata": {},
   "source": [
    "Bingo. The crowdfunding campaign occured in September of 2013."
   ]
  },
  {
   "cell_type": "code",
   "execution_count": 23,
   "metadata": {},
   "outputs": [
    {
     "data": {
      "text/plain": [
       "<matplotlib.axes._subplots.AxesSubplot at 0x7f75cdce26a0>"
      ]
     },
     "execution_count": 23,
     "metadata": {},
     "output_type": "execute_result"
    },
    {
     "data": {
      "image/png": "[encoded data removed]",
      "text/plain": [
       "<Figure size 432x288 with 1 Axes>"
      ]
     },
     "metadata": {},
     "output_type": "display_data"
    }
   ],
   "source": [
    "donors_2013.groupby(donors_2013[\"Received On\"].dt.month).Amount.count().plot(kind=\"bar\", color = 'blue')\n"
   ]
  },
  {
   "cell_type": "markdown",
   "metadata": {},
   "source": [
    "There were a whopping 6,128 donors during the Indiegogo campaign! We can now filter out these donors from the original dataframe to build our c3_clean dataframe."
   ]
  },
  {
   "cell_type": "code",
   "execution_count": 16,
   "metadata": {},
   "outputs": [
    {
     "data": {
      "text/plain": [
       "6128"
      ]
     },
     "execution_count": 16,
     "metadata": {},
     "output_type": "execute_result"
    }
   ],
   "source": [
    "indiegogo = donors_2013[donors_2013['Received On'].apply(lambda x: x.month == 9)]\n",
    "len(indiegogo)"
   ]
  },
  {
   "cell_type": "code",
   "execution_count": 17,
   "metadata": {},
   "outputs": [],
   "source": [
    "i1 = c3_clean.index\n",
    "i2 = indiegogo.index\n",
    "c3_clean = c3_clean[~i1.isin(i2)]"
   ]
  },
  {
   "cell_type": "markdown",
   "metadata": {},
   "source": [
    "## Removing monthly donors  \n",
    "\n",
    "We don't want to include monthly donors when computing statistics like retention rate or attrition, as they heavily skew the data. Let's create a separate csv for monthly donors and analyze them separately, and keep the future historical donor analysis for one-time donors.  \n",
    "\n",
    "Monthly donations have the source code \"Player contribution\", so we can search the source code path column for mentions of 'player'. "
   ]
  },
  {
   "cell_type": "code",
   "execution_count": 19,
   "metadata": {},
   "outputs": [
    {
     "data": {
      "text/html": [
       "<div>\n",
       "<style scoped>\n",
       "    .dataframe tbody tr th:only-of-type {\n",
       "        vertical-align: middle;\n",
       "    }\n",
       "\n",
       "    .dataframe tbody tr th {\n",
       "        vertical-align: top;\n",
       "    }\n",
       "\n",
       "    .dataframe thead th {\n",
       "        text-align: right;\n",
       "    }\n",
       "</style>\n",
       "<table border=\"1\" class=\"dataframe\">\n",
       "  <thead>\n",
       "    <tr style=\"text-align: right;\">\n",
       "      <th></th>\n",
       "      <th>Count</th>\n",
       "      <th>Contribution ID</th>\n",
       "      <th>Received On</th>\n",
       "      <th>Amount</th>\n",
       "      <th>Designation</th>\n",
       "      <th>Contribution Type</th>\n",
       "      <th>Cycle</th>\n",
       "      <th>Period</th>\n",
       "      <th>Contribution.Note</th>\n",
       "      <th>Source Code Path</th>\n",
       "      <th>Contact ID</th>\n",
       "    </tr>\n",
       "    <tr>\n",
       "      <th>Contact Name</th>\n",
       "      <th></th>\n",
       "      <th></th>\n",
       "      <th></th>\n",
       "      <th></th>\n",
       "      <th></th>\n",
       "      <th></th>\n",
       "      <th></th>\n",
       "      <th></th>\n",
       "      <th></th>\n",
       "      <th></th>\n",
       "      <th></th>\n",
       "    </tr>\n",
       "  </thead>\n",
       "  <tbody>\n",
       "    <tr>\n",
       "      <th>3344</th>\n",
       "      <td>NaN</td>\n",
       "      <td>VNW16EPKCJ9</td>\n",
       "      <td>2016-08-15</td>\n",
       "      <td>5.0</td>\n",
       "      <td>New Era Colorado Foundation</td>\n",
       "      <td>Monetary Contribution</td>\n",
       "      <td>NaN</td>\n",
       "      <td>NaN</td>\n",
       "      <td>NaN</td>\n",
       "      <td>c3 Donors/Player contribution</td>\n",
       "      <td>VNX0EGHJ7D6</td>\n",
       "    </tr>\n",
       "    <tr>\n",
       "      <th>3903</th>\n",
       "      <td>NaN</td>\n",
       "      <td>VNW16E2V624</td>\n",
       "      <td>2015-11-15</td>\n",
       "      <td>5.0</td>\n",
       "      <td>New Era Colorado Foundation</td>\n",
       "      <td>Monetary Contribution</td>\n",
       "      <td>NaN</td>\n",
       "      <td>Primary</td>\n",
       "      <td>NaN</td>\n",
       "      <td>c3 Donors/Player contribution</td>\n",
       "      <td>VNX0EGH8D82</td>\n",
       "    </tr>\n",
       "    <tr>\n",
       "      <th>3353</th>\n",
       "      <td>NaN</td>\n",
       "      <td>VNW16DM0RJ5</td>\n",
       "      <td>2015-02-15</td>\n",
       "      <td>5.0</td>\n",
       "      <td>New Era Colorado Foundation</td>\n",
       "      <td>Monetary Contribution</td>\n",
       "      <td>NaN</td>\n",
       "      <td>NaN</td>\n",
       "      <td>NaN</td>\n",
       "      <td>c3 Donors/Player contribution</td>\n",
       "      <td>VNX0EGJ17E3</td>\n",
       "    </tr>\n",
       "    <tr>\n",
       "      <th>3353</th>\n",
       "      <td>NaN</td>\n",
       "      <td>VNW16DQ6KD7</td>\n",
       "      <td>2015-05-15</td>\n",
       "      <td>5.0</td>\n",
       "      <td>New Era Colorado Foundation</td>\n",
       "      <td>Monetary Contribution</td>\n",
       "      <td>NaN</td>\n",
       "      <td>NaN</td>\n",
       "      <td>NaN</td>\n",
       "      <td>c3 Donors/Player contribution</td>\n",
       "      <td>VNX0EGJ17E3</td>\n",
       "    </tr>\n",
       "    <tr>\n",
       "      <th>3353</th>\n",
       "      <td>NaN</td>\n",
       "      <td>VNW16DN7177</td>\n",
       "      <td>2014-12-15</td>\n",
       "      <td>5.0</td>\n",
       "      <td>New Era Colorado Foundation</td>\n",
       "      <td>Monetary Contribution</td>\n",
       "      <td>NaN</td>\n",
       "      <td>NaN</td>\n",
       "      <td>NaN</td>\n",
       "      <td>c3 Donors/Player contribution</td>\n",
       "      <td>VNX0EGJ17E3</td>\n",
       "    </tr>\n",
       "  </tbody>\n",
       "</table>\n",
       "</div>"
      ],
      "text/plain": [
       "               Count Contribution ID Received On  Amount  \\\n",
       " Contact Name                                              \n",
       "3344             NaN     VNW16EPKCJ9  2016-08-15     5.0   \n",
       "3903             NaN     VNW16E2V624  2015-11-15     5.0   \n",
       "3353             NaN     VNW16DM0RJ5  2015-02-15     5.0   \n",
       "3353             NaN     VNW16DQ6KD7  2015-05-15     5.0   \n",
       "3353             NaN     VNW16DN7177  2014-12-15     5.0   \n",
       "\n",
       "                               Designation      Contribution Type  Cycle  \\\n",
       " Contact Name                                                              \n",
       "3344           New Era Colorado Foundation  Monetary Contribution    NaN   \n",
       "3903           New Era Colorado Foundation  Monetary Contribution    NaN   \n",
       "3353           New Era Colorado Foundation  Monetary Contribution    NaN   \n",
       "3353           New Era Colorado Foundation  Monetary Contribution    NaN   \n",
       "3353           New Era Colorado Foundation  Monetary Contribution    NaN   \n",
       "\n",
       "                Period Contribution.Note               Source Code Path  \\\n",
       " Contact Name                                                             \n",
       "3344               NaN               NaN  c3 Donors/Player contribution   \n",
       "3903           Primary               NaN  c3 Donors/Player contribution   \n",
       "3353               NaN               NaN  c3 Donors/Player contribution   \n",
       "3353               NaN               NaN  c3 Donors/Player contribution   \n",
       "3353               NaN               NaN  c3 Donors/Player contribution   \n",
       "\n",
       "                Contact ID  \n",
       " Contact Name               \n",
       "3344           VNX0EGHJ7D6  \n",
       "3903           VNX0EGH8D82  \n",
       "3353           VNX0EGJ17E3  \n",
       "3353           VNX0EGJ17E3  \n",
       "3353           VNX0EGJ17E3  "
      ]
     },
     "execution_count": 19,
     "metadata": {},
     "output_type": "execute_result"
    }
   ],
   "source": [
    "monthly_gifts = c3_clean[c3_clean[' Source Code Path'].str.contains(\"Player\") == True]\n",
    "monthly_gifts.head()"
   ]
  },
  {
   "cell_type": "markdown",
   "metadata": {},
   "source": [
    "Let's save out this dataframe and then filter these transactions out from our clean dataframe."
   ]
  },
  {
   "cell_type": "code",
   "execution_count": 26,
   "metadata": {},
   "outputs": [],
   "source": [
    "#save the dataframe to a csv\n",
    "monthly_gifts.to_csv(\"data/monthly.csv\")"
   ]
  },
  {
   "cell_type": "code",
   "execution_count": 28,
   "metadata": {},
   "outputs": [],
   "source": [
    "# create a new dataframe that contains no monthly gifts\n",
    "no_monthly = pd.concat([c3_clean, monthly_gifts]).drop_duplicates(keep=False)\n"
   ]
  },
  {
   "cell_type": "code",
   "execution_count": 29,
   "metadata": {},
   "outputs": [],
   "source": [
    "# save the new dataframe as a csv\n",
    "no_monthly.to_csv(\"data/historical_data.csv\")"
   ]
  },
  {
   "cell_type": "markdown",
   "metadata": {},
   "source": [
    "# Wrapping It Up  \n",
    "\n",
    "Let's take a look at some summaries below to check our work. \n"
   ]
  },
  {
   "cell_type": "code",
   "execution_count": 30,
   "metadata": {},
   "outputs": [
    {
     "name": "stdout",
     "output_type": "stream",
     "text": [
      "<class 'pandas.core.frame.DataFrame'>\n",
      "Int64Index: 6420 entries, 4112 to -1\n",
      "Data columns (total 11 columns):\n",
      "Count                1 non-null float64\n",
      "Contribution ID      6419 non-null object\n",
      "Received On          6419 non-null datetime64[ns]\n",
      "Amount               6419 non-null float64\n",
      "Designation          6419 non-null object\n",
      "Contribution Type    6419 non-null object\n",
      "Cycle                0 non-null float64\n",
      "Period               0 non-null object\n",
      "Contribution.Note    5 non-null object\n",
      " Source Code Path    4582 non-null object\n",
      " Contact ID          6419 non-null object\n",
      "dtypes: datetime64[ns](1), float64(3), object(7)\n",
      "memory usage: 601.9+ KB\n"
     ]
    }
   ],
   "source": [
    "no_monthly.info()"
   ]
  },
  {
   "cell_type": "code",
   "execution_count": 31,
   "metadata": {},
   "outputs": [
    {
     "data": {
      "text/html": [
       "<div>\n",
       "<style scoped>\n",
       "    .dataframe tbody tr th:only-of-type {\n",
       "        vertical-align: middle;\n",
       "    }\n",
       "\n",
       "    .dataframe tbody tr th {\n",
       "        vertical-align: top;\n",
       "    }\n",
       "\n",
       "    .dataframe thead th {\n",
       "        text-align: right;\n",
       "    }\n",
       "</style>\n",
       "<table border=\"1\" class=\"dataframe\">\n",
       "  <thead>\n",
       "    <tr style=\"text-align: right;\">\n",
       "      <th></th>\n",
       "      <th>Count</th>\n",
       "      <th>Amount</th>\n",
       "      <th>Cycle</th>\n",
       "    </tr>\n",
       "  </thead>\n",
       "  <tbody>\n",
       "    <tr>\n",
       "      <th>count</th>\n",
       "      <td>1.0</td>\n",
       "      <td>6419.000000</td>\n",
       "      <td>0.0</td>\n",
       "    </tr>\n",
       "    <tr>\n",
       "      <th>mean</th>\n",
       "      <td>29613.0</td>\n",
       "      <td>195.870050</td>\n",
       "      <td>NaN</td>\n",
       "    </tr>\n",
       "    <tr>\n",
       "      <th>std</th>\n",
       "      <td>NaN</td>\n",
       "      <td>2411.450474</td>\n",
       "      <td>NaN</td>\n",
       "    </tr>\n",
       "    <tr>\n",
       "      <th>min</th>\n",
       "      <td>29613.0</td>\n",
       "      <td>1.000000</td>\n",
       "      <td>NaN</td>\n",
       "    </tr>\n",
       "    <tr>\n",
       "      <th>25%</th>\n",
       "      <td>29613.0</td>\n",
       "      <td>10.000000</td>\n",
       "      <td>NaN</td>\n",
       "    </tr>\n",
       "    <tr>\n",
       "      <th>50%</th>\n",
       "      <td>29613.0</td>\n",
       "      <td>15.000000</td>\n",
       "      <td>NaN</td>\n",
       "    </tr>\n",
       "    <tr>\n",
       "      <th>75%</th>\n",
       "      <td>29613.0</td>\n",
       "      <td>50.000000</td>\n",
       "      <td>NaN</td>\n",
       "    </tr>\n",
       "    <tr>\n",
       "      <th>max</th>\n",
       "      <td>29613.0</td>\n",
       "      <td>100000.000000</td>\n",
       "      <td>NaN</td>\n",
       "    </tr>\n",
       "  </tbody>\n",
       "</table>\n",
       "</div>"
      ],
      "text/plain": [
       "         Count         Amount  Cycle\n",
       "count      1.0    6419.000000    0.0\n",
       "mean   29613.0     195.870050    NaN\n",
       "std        NaN    2411.450474    NaN\n",
       "min    29613.0       1.000000    NaN\n",
       "25%    29613.0      10.000000    NaN\n",
       "50%    29613.0      15.000000    NaN\n",
       "75%    29613.0      50.000000    NaN\n",
       "max    29613.0  100000.000000    NaN"
      ]
     },
     "execution_count": 31,
     "metadata": {},
     "output_type": "execute_result"
    }
   ],
   "source": [
    "no_monthly.describe()"
   ]
  },
  {
   "cell_type": "code",
   "execution_count": null,
   "metadata": {},
   "outputs": [],
   "source": []
  }
 ],
 "metadata": {
  "kernelspec": {
   "display_name": "Python 3",
   "language": "python",
   "name": "python3"
  },
  "language_info": {
   "codemirror_mode": {
    "name": "ipython",
    "version": 3
   },
   "file_extension": ".py",
   "mimetype": "text/x-python",
   "name": "python",
   "nbconvert_exporter": "python",
   "pygments_lexer": "ipython3",
   "version": "3.6.6"
  }
 },
 "nbformat": 4,
 "nbformat_minor": 2
}
