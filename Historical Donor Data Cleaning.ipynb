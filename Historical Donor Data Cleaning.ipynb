{
 "cells": [
  {
   "cell_type": "markdown",
   "metadata": {},
   "source": [
    "# Historical Donor Data Analysis \n",
    "\n",
    "**Who**\n",
    "All individual donors who gave to the c3 recorded in NGP, minus monthly donors. We have  \n",
    "We’re working with 2,329 donors in this analysis.\n",
    "\n",
    "**Approach**\n",
    "This is what I would call an “exploratory data analysis.” My goal here was to simply understand or donor data and start asking questions. Like every good analysis, I wound up with more questions than I was able to answer.   \n",
    "\n",
    "**I started my analysis by asking the questions:**  \n",
    "How many of our donors give below \\\\$100? Below \\\\$500? Below \\\\$1,000?  \n",
    "What’s the average lifetime value of our donors?  \n",
    "How many of our donors give once and then never again?  \n",
    "Who loves us the most (donors with the most gifts)?  \n"
   ]
  },
  {
   "cell_type": "code",
   "execution_count": 87,
   "metadata": {},
   "outputs": [],
   "source": [
    "# load the necessary packages\n",
    "import pandas as pd\n",
    "import numpy as np\n",
    "import matplotlib.pyplot as plt\n",
    "import seaborn as sns\n",
    "import datetime\n",
    "datetime.datetime.strptime\n",
    "\n",
    "%matplotlib inline"
   ]
  },
  {
   "cell_type": "code",
   "execution_count": 2,
   "metadata": {},
   "outputs": [],
   "source": [
    "# read in the data for the c4 and the c3\n",
    "c3 = pd.read_csv(\"data/all_c3_donors.Csv\")\n",
    "c4 = pd.read_csv(\"data/all_c4_donors.csv\")"
   ]
  },
  {
   "cell_type": "markdown",
   "metadata": {},
   "source": [
    "# Data Cleaning  \n",
    "\n",
    "I just joined this organization and had never touched their data before, so I had no idea what I was getting myself into. I had a vague understanding that our data were messy, incomplete, and just plain bad, so I decided to poke around and see for myself.\n",
    "\n",
    "## The Data  \n",
    "\n",
    "We start, as always, by reading in the data and taking a look. Since you are reading this over the Internet, I have made the donor data anonymous."
   ]
  },
  {
   "cell_type": "code",
   "execution_count": 56,
   "metadata": {},
   "outputs": [
    {
     "name": "stderr",
     "output_type": "stream",
     "text": [
      "/home/thebbennett/anaconda3/lib/python3.6/site-packages/ipykernel_launcher.py:4: SettingWithCopyWarning: \n",
      "A value is trying to be set on a copy of a slice from a DataFrame.\n",
      "Try using .loc[row_indexer,col_indexer] = value instead\n",
      "\n",
      "See the caveats in the documentation: http://pandas.pydata.org/pandas-docs/stable/indexing.html#indexing-view-versus-copy\n",
      "  after removing the cwd from sys.path.\n"
     ]
    },
    {
     "data": {
      "text/html": [
       "<div>\n",
       "<style scoped>\n",
       "    .dataframe tbody tr th:only-of-type {\n",
       "        vertical-align: middle;\n",
       "    }\n",
       "\n",
       "    .dataframe tbody tr th {\n",
       "        vertical-align: top;\n",
       "    }\n",
       "\n",
       "    .dataframe thead th {\n",
       "        text-align: right;\n",
       "    }\n",
       "</style>\n",
       "<table border=\"1\" class=\"dataframe\">\n",
       "  <thead>\n",
       "    <tr style=\"text-align: right;\">\n",
       "      <th></th>\n",
       "      <th>date</th>\n",
       "      <th>amount</th>\n",
       "      <th>name</th>\n",
       "    </tr>\n",
       "  </thead>\n",
       "  <tbody>\n",
       "    <tr>\n",
       "      <th>0</th>\n",
       "      <td>06/15/2013</td>\n",
       "      <td>25.0</td>\n",
       "      <td>1901</td>\n",
       "    </tr>\n",
       "    <tr>\n",
       "      <th>1</th>\n",
       "      <td>07/08/2011</td>\n",
       "      <td>2000.0</td>\n",
       "      <td>4113</td>\n",
       "    </tr>\n",
       "    <tr>\n",
       "      <th>2</th>\n",
       "      <td>09/03/2013</td>\n",
       "      <td>25.0</td>\n",
       "      <td>4183</td>\n",
       "    </tr>\n",
       "    <tr>\n",
       "      <th>3</th>\n",
       "      <td>10/11/2013</td>\n",
       "      <td>100.0</td>\n",
       "      <td>1967</td>\n",
       "    </tr>\n",
       "    <tr>\n",
       "      <th>4</th>\n",
       "      <td>09/03/2013</td>\n",
       "      <td>25.0</td>\n",
       "      <td>1974</td>\n",
       "    </tr>\n",
       "    <tr>\n",
       "      <th>5</th>\n",
       "      <td>09/03/2013</td>\n",
       "      <td>10.0</td>\n",
       "      <td>2005</td>\n",
       "    </tr>\n",
       "    <tr>\n",
       "      <th>6</th>\n",
       "      <td>09/13/2013</td>\n",
       "      <td>1.0</td>\n",
       "      <td>2029</td>\n",
       "    </tr>\n",
       "    <tr>\n",
       "      <th>7</th>\n",
       "      <td>05/15/2014</td>\n",
       "      <td>10.0</td>\n",
       "      <td>2146</td>\n",
       "    </tr>\n",
       "    <tr>\n",
       "      <th>8</th>\n",
       "      <td>08/26/2014</td>\n",
       "      <td>10.0</td>\n",
       "      <td>2146</td>\n",
       "    </tr>\n",
       "    <tr>\n",
       "      <th>9</th>\n",
       "      <td>09/02/2013</td>\n",
       "      <td>5.0</td>\n",
       "      <td>4368</td>\n",
       "    </tr>\n",
       "  </tbody>\n",
       "</table>\n",
       "</div>"
      ],
      "text/plain": [
       "         date  amount  name\n",
       "0  06/15/2013    25.0  1901\n",
       "1  07/08/2011  2000.0  4113\n",
       "2  09/03/2013    25.0  4183\n",
       "3  10/11/2013   100.0  1967\n",
       "4  09/03/2013    25.0  1974\n",
       "5  09/03/2013    10.0  2005\n",
       "6  09/13/2013     1.0  2029\n",
       "7  05/15/2014    10.0  2146\n",
       "8  08/26/2014    10.0  2146\n",
       "9  09/02/2013     5.0  4368"
      ]
     },
     "execution_count": 56,
     "metadata": {},
     "output_type": "execute_result"
    }
   ],
   "source": [
    "# Let's make the donors anonymous \n",
    "c3_small = c3.iloc[:,[2,3,11]]\n",
    "c3_small.columns = ['date', 'amount', 'name']\n",
    "c3_small[\"name\"] = c3_small[\"name\"].astype('category').cat.codes\n",
    "c3_small.head(10)"
   ]
  },
  {
   "cell_type": "markdown",
   "metadata": {},
   "source": [
    "The above table lists individual donations by transaction date, but as a fundraiser I'm interested in donors themselves. I grouped the data above my name and summed their total contribution amounts to get their \"lifetime value.\""
   ]
  },
  {
   "cell_type": "code",
   "execution_count": 57,
   "metadata": {},
   "outputs": [
    {
     "data": {
      "text/html": [
       "<div>\n",
       "<style scoped>\n",
       "    .dataframe tbody tr th:only-of-type {\n",
       "        vertical-align: middle;\n",
       "    }\n",
       "\n",
       "    .dataframe tbody tr th {\n",
       "        vertical-align: top;\n",
       "    }\n",
       "\n",
       "    .dataframe thead th {\n",
       "        text-align: right;\n",
       "    }\n",
       "</style>\n",
       "<table border=\"1\" class=\"dataframe\">\n",
       "  <thead>\n",
       "    <tr style=\"text-align: right;\">\n",
       "      <th></th>\n",
       "      <th>lifetime_amount</th>\n",
       "    </tr>\n",
       "    <tr>\n",
       "      <th>name</th>\n",
       "      <th></th>\n",
       "    </tr>\n",
       "  </thead>\n",
       "  <tbody>\n",
       "    <tr>\n",
       "      <th>4422</th>\n",
       "      <td>301000.0</td>\n",
       "    </tr>\n",
       "    <tr>\n",
       "      <th>674</th>\n",
       "      <td>50000.0</td>\n",
       "    </tr>\n",
       "    <tr>\n",
       "      <th>5781</th>\n",
       "      <td>50000.0</td>\n",
       "    </tr>\n",
       "    <tr>\n",
       "      <th>6975</th>\n",
       "      <td>35500.0</td>\n",
       "    </tr>\n",
       "    <tr>\n",
       "      <th>814</th>\n",
       "      <td>35000.0</td>\n",
       "    </tr>\n",
       "    <tr>\n",
       "      <th>6981</th>\n",
       "      <td>35000.0</td>\n",
       "    </tr>\n",
       "    <tr>\n",
       "      <th>3538</th>\n",
       "      <td>30555.0</td>\n",
       "    </tr>\n",
       "    <tr>\n",
       "      <th>1457</th>\n",
       "      <td>26100.0</td>\n",
       "    </tr>\n",
       "    <tr>\n",
       "      <th>6094</th>\n",
       "      <td>25000.0</td>\n",
       "    </tr>\n",
       "    <tr>\n",
       "      <th>5907</th>\n",
       "      <td>25000.0</td>\n",
       "    </tr>\n",
       "    <tr>\n",
       "      <th>3059</th>\n",
       "      <td>25000.0</td>\n",
       "    </tr>\n",
       "    <tr>\n",
       "      <th>3522</th>\n",
       "      <td>23000.0</td>\n",
       "    </tr>\n",
       "    <tr>\n",
       "      <th>4566</th>\n",
       "      <td>20885.0</td>\n",
       "    </tr>\n",
       "    <tr>\n",
       "      <th>3476</th>\n",
       "      <td>18000.0</td>\n",
       "    </tr>\n",
       "    <tr>\n",
       "      <th>3888</th>\n",
       "      <td>16000.0</td>\n",
       "    </tr>\n",
       "  </tbody>\n",
       "</table>\n",
       "</div>"
      ],
      "text/plain": [
       "      lifetime_amount\n",
       "name                 \n",
       "4422         301000.0\n",
       "674           50000.0\n",
       "5781          50000.0\n",
       "6975          35500.0\n",
       "814           35000.0\n",
       "6981          35000.0\n",
       "3538          30555.0\n",
       "1457          26100.0\n",
       "6094          25000.0\n",
       "5907          25000.0\n",
       "3059          25000.0\n",
       "3522          23000.0\n",
       "4566          20885.0\n",
       "3476          18000.0\n",
       "3888          16000.0"
      ]
     },
     "execution_count": 57,
     "metadata": {},
     "output_type": "execute_result"
    }
   ],
   "source": [
    "# What are the lifetime amounts of our top donors?\n",
    "donors_by_lifetime = c3_small.groupby(['name'])['amount'].sum().sort_values(ascending = False).to_frame()\n",
    "donors_by_lifetime.columns = ['lifetime_amount']\n",
    "donors_by_lifetime.head(15)"
   ]
  },
  {
   "cell_type": "markdown",
   "metadata": {},
   "source": [
    "I was told that my org championed an international Indiegogo campaign that garnered 6,000+ donors. While this is awesome, as a fundraise I know this will heavily skew our retention rates. I know that we really only have 2,000 or so active donors, so carrying around 6,000 one-time donors we'll never be able to contact again isn't useful for our work.  \n",
    "\n",
    "The only issue is, I had no idea how these donors were coded into our database, if at all.  \n",
    "\n",
    "But before we begin, let's see what the distribution is for all giving."
   ]
  },
  {
   "cell_type": "code",
   "execution_count": 58,
   "metadata": {},
   "outputs": [],
   "source": [
    "# create a separate dataframe for small dollar donors\n",
    "sub_100 = donors_by_lifetime.loc[donors_by_lifetime[\"lifetime_amount\"] <= 100]"
   ]
  },
  {
   "cell_type": "code",
   "execution_count": 59,
   "metadata": {},
   "outputs": [
    {
     "data": {
      "text/plain": [
       "[Text(0,0.5,'Frequency'), Text(0.5,0,'Lifetime Value ($)')]"
      ]
     },
     "execution_count": 59,
     "metadata": {},
     "output_type": "execute_result"
    },
    {
     "data": {
      "image/png": "[encoded data removed]",
      "text/plain": [
       "<Figure size 842.4x595.44 with 1 Axes>"
      ]
     },
     "metadata": {},
     "output_type": "display_data"
    }
   ],
   "source": [
    "# Plot a histogram of all donor lifetime value, for the heck of it\n",
    "a4_dims = (11.7, 8.27)\n",
    "fig, ax = plt.subplots(figsize=a4_dims)\n",
    "sns.set_style('white')\n",
    "\n",
    "sns.distplot(donors_by_lifetime['lifetime_amount'], bins = 20, kde = False)\n",
    "ax.set(xlabel='Lifetime Value ($)', ylabel='Frequency')\n"
   ]
  },
  {
   "cell_type": "markdown",
   "metadata": {},
   "source": [
    "No matter the number of bins, this graph looks the same. We overwhelmingly have small dollar gifts in this unclean data set. \n",
    "\n",
    "Let's look only at small dollar donors (donors with lifetime values under \\\\$100)"
   ]
  },
  {
   "cell_type": "code",
   "execution_count": 60,
   "metadata": {},
   "outputs": [
    {
     "data": {
      "text/plain": [
       "[Text(0,0.5,'Frequency'), Text(0.5,0,'Lifetime Value ($)')]"
      ]
     },
     "execution_count": 60,
     "metadata": {},
     "output_type": "execute_result"
    },
    {
     "data": {
      "image/png": "[encoded data removed]",
      "text/plain": [
       "<Figure size 842.4x595.44 with 1 Axes>"
      ]
     },
     "metadata": {},
     "output_type": "display_data"
    }
   ],
   "source": [
    "# Plot a histogram of small dollar donors and their lifetime values\n",
    "a4_dims = (11.7, 8.27)\n",
    "fig, ax = plt.subplots(figsize=a4_dims)\n",
    "sns.set_style('white')\n",
    "#sns.set_context(\"poster\")\n",
    "\n",
    "sns.distplot(sub_100['lifetime_amount'], bins = 10, kde = False)\n",
    "ax.set(xlabel='Lifetime Value ($)', ylabel='Frequency')\n"
   ]
  },
  {
   "cell_type": "code",
   "execution_count": 61,
   "metadata": {},
   "outputs": [
    {
     "data": {
      "text/plain": [
       "lifetime_amount    3677\n",
       "dtype: int64"
      ]
     },
     "execution_count": 61,
     "metadata": {},
     "output_type": "execute_result"
    }
   ],
   "source": [
    "sub_100.loc[sub_100['lifetime_amount'] >= 25].count()"
   ]
  },
  {
   "cell_type": "code",
   "execution_count": 62,
   "metadata": {},
   "outputs": [
    {
     "data": {
      "text/plain": [
       "lifetime_amount    0.255166\n",
       "dtype: float64"
      ]
     },
     "execution_count": 62,
     "metadata": {},
     "output_type": "execute_result"
    }
   ],
   "source": [
    "donors_by_lifetime.loc[donors_by_lifetime[\"lifetime_amount\"] == 25].count()/len(donors_by_lifetime)"
   ]
  },
  {
   "cell_type": "markdown",
   "metadata": {},
   "source": [
    "With a zoomed in data set, we see that we have thousands of donors with lifetime values \\\\$25 or below -- 3,677 of them (or 25.5\\%!) in fact. I bet that these are our Indiegogo folk, so let's look at removing these donor from the analysis."
   ]
  },
  {
   "cell_type": "markdown",
   "metadata": {},
   "source": [
    "## Removing the One Time Indiegogo Folk"
   ]
  },
  {
   "cell_type": "markdown",
   "metadata": {},
   "source": [
    "We start by making a fresh, clean dataframe and calling it \"c3_clean\". This definitely won't become cumbersome later on.  \n",
    "\n"
   ]
  },
  {
   "cell_type": "code",
   "execution_count": 63,
   "metadata": {},
   "outputs": [],
   "source": [
    "c3_clean = c3\n",
    "c3_clean[\" Contact Name\"] = c3_clean[\" Contact Name\"].astype('category').cat.codes\n",
    "c3_clean = c3_clean.set_index(\" Contact Name\")\n"
   ]
  },
  {
   "cell_type": "code",
   "execution_count": 64,
   "metadata": {},
   "outputs": [],
   "source": [
    "c3_clean[\"Received On\"] = pd.to_datetime(c3_clean[\"Received On\"])\n"
   ]
  },
  {
   "cell_type": "code",
   "execution_count": 66,
   "metadata": {},
   "outputs": [
    {
     "data": {
      "text/plain": [
       "Index(['Count', 'Contribution ID', 'Received On', 'Amount', 'Designation',\n",
       "       'Contribution Type', 'Cycle', 'Period', 'Contribution.Note',\n",
       "       ' Source Code Path', ' Contact ID'],\n",
       "      dtype='object')"
      ]
     },
     "execution_count": 66,
     "metadata": {},
     "output_type": "execute_result"
    }
   ],
   "source": [
    "c3_clean.columns"
   ]
  },
  {
   "cell_type": "markdown",
   "metadata": {},
   "source": [
    "By plotting the gifts over time, we easily spoot the Indiegogo campaign: 2013. Let's zero in on that year."
   ]
  },
  {
   "cell_type": "code",
   "execution_count": 86,
   "metadata": {},
   "outputs": [
    {
     "data": {
      "text/plain": [
       "<matplotlib.axes._subplots.AxesSubplot at 0x7fcb8c4d4f28>"
      ]
     },
     "execution_count": 86,
     "metadata": {},
     "output_type": "execute_result"
    },
    {
     "data": {
      "image/png": "[encoded data removed]",
      "text/plain": [
       "<Figure size 432x288 with 1 Axes>"
      ]
     },
     "metadata": {},
     "output_type": "display_data"
    }
   ],
   "source": [
    "c3_clean.groupby(c3_clean[\"Received On\"].dt.year).Amount.count().plot(kind=\"bar\", color = 'blue')\n"
   ]
  },
  {
   "cell_type": "markdown",
   "metadata": {},
   "source": [
    "We can plot a bar graph of 2013 once we've segmented out the 2013 donors."
   ]
  },
  {
   "cell_type": "code",
   "execution_count": 88,
   "metadata": {},
   "outputs": [],
   "source": [
    "donors_2013 = c3_clean[c3_clean['Received On'].apply(lambda x: x.year == 2013)]\n"
   ]
  },
  {
   "cell_type": "markdown",
   "metadata": {},
   "source": [
    "Bingo. The crowdfunding campaign occured in September of 2013."
   ]
  },
  {
   "cell_type": "code",
   "execution_count": 15,
   "metadata": {},
   "outputs": [
    {
     "data": {
      "text/plain": [
       "<matplotlib.axes._subplots.AxesSubplot at 0x7fcbafcf5da0>"
      ]
     },
     "execution_count": 15,
     "metadata": {},
     "output_type": "execute_result"
    },
    {
     "data": {
      "image/png": "[encoded data removed]",
      "text/plain": [
       "<Figure size 432x288 with 1 Axes>"
      ]
     },
     "metadata": {},
     "output_type": "display_data"
    }
   ],
   "source": [
    "donors_2013.groupby(donors_2013[\"Received On\"].dt.month).count().plot(kind=\"bar\")\n"
   ]
  },
  {
   "cell_type": "markdown",
   "metadata": {},
   "source": [
    "There were a whopping 6,128 donors during the Indiegogo campaign! We can now filter out these donors from the original dataframe to build our c3_clean dataframe."
   ]
  },
  {
   "cell_type": "code",
   "execution_count": 16,
   "metadata": {},
   "outputs": [
    {
     "data": {
      "text/plain": [
       "6128"
      ]
     },
     "execution_count": 16,
     "metadata": {},
     "output_type": "execute_result"
    }
   ],
   "source": [
    "indiegogo = donors_2013[donors_2013['Received On'].apply(lambda x: x.month == 9)]\n",
    "len(indiegogo)"
   ]
  },
  {
   "cell_type": "code",
   "execution_count": 18,
   "metadata": {},
   "outputs": [],
   "source": [
    "i1 = c3_clean.index\n",
    "i2 = indiegogo.index\n",
    "c3_clean = c3_clean[~i1.isin(i2)]\n"
   ]
  },
  {
   "cell_type": "markdown",
   "metadata": {},
   "source": [
    "# Data Analysis\n"
   ]
  },
  {
   "cell_type": "markdown",
   "metadata": {},
   "source": [
    "## Distirbution of Lifetime Amounts"
   ]
  },
  {
   "cell_type": "code",
   "execution_count": 19,
   "metadata": {},
   "outputs": [
    {
     "data": {
      "text/html": [
       "<div>\n",
       "<style scoped>\n",
       "    .dataframe tbody tr th:only-of-type {\n",
       "        vertical-align: middle;\n",
       "    }\n",
       "\n",
       "    .dataframe tbody tr th {\n",
       "        vertical-align: top;\n",
       "    }\n",
       "\n",
       "    .dataframe thead th {\n",
       "        text-align: right;\n",
       "    }\n",
       "</style>\n",
       "<table border=\"1\" class=\"dataframe\">\n",
       "  <thead>\n",
       "    <tr style=\"text-align: right;\">\n",
       "      <th></th>\n",
       "      <th>lifetime_amount</th>\n",
       "    </tr>\n",
       "    <tr>\n",
       "      <th>Contact Name</th>\n",
       "      <th></th>\n",
       "    </tr>\n",
       "  </thead>\n",
       "  <tbody>\n",
       "    <tr>\n",
       "      <th>4421</th>\n",
       "      <td>301000.0</td>\n",
       "    </tr>\n",
       "    <tr>\n",
       "      <th>673</th>\n",
       "      <td>50000.0</td>\n",
       "    </tr>\n",
       "    <tr>\n",
       "      <th>5780</th>\n",
       "      <td>50000.0</td>\n",
       "    </tr>\n",
       "    <tr>\n",
       "      <th>6974</th>\n",
       "      <td>35500.0</td>\n",
       "    </tr>\n",
       "    <tr>\n",
       "      <th>6980</th>\n",
       "      <td>35000.0</td>\n",
       "    </tr>\n",
       "    <tr>\n",
       "      <th>813</th>\n",
       "      <td>35000.0</td>\n",
       "    </tr>\n",
       "    <tr>\n",
       "      <th>1456</th>\n",
       "      <td>26100.0</td>\n",
       "    </tr>\n",
       "    <tr>\n",
       "      <th>6093</th>\n",
       "      <td>25000.0</td>\n",
       "    </tr>\n",
       "    <tr>\n",
       "      <th>3058</th>\n",
       "      <td>25000.0</td>\n",
       "    </tr>\n",
       "    <tr>\n",
       "      <th>5906</th>\n",
       "      <td>25000.0</td>\n",
       "    </tr>\n",
       "    <tr>\n",
       "      <th>3521</th>\n",
       "      <td>23000.0</td>\n",
       "    </tr>\n",
       "    <tr>\n",
       "      <th>3475</th>\n",
       "      <td>18000.0</td>\n",
       "    </tr>\n",
       "    <tr>\n",
       "      <th>3887</th>\n",
       "      <td>16000.0</td>\n",
       "    </tr>\n",
       "    <tr>\n",
       "      <th>3304</th>\n",
       "      <td>16000.0</td>\n",
       "    </tr>\n",
       "    <tr>\n",
       "      <th>7135</th>\n",
       "      <td>12000.0</td>\n",
       "    </tr>\n",
       "  </tbody>\n",
       "</table>\n",
       "</div>"
      ],
      "text/plain": [
       "               lifetime_amount\n",
       " Contact Name                 \n",
       "4421                  301000.0\n",
       "673                    50000.0\n",
       "5780                   50000.0\n",
       "6974                   35500.0\n",
       "6980                   35000.0\n",
       "813                    35000.0\n",
       "1456                   26100.0\n",
       "6093                   25000.0\n",
       "3058                   25000.0\n",
       "5906                   25000.0\n",
       "3521                   23000.0\n",
       "3475                   18000.0\n",
       "3887                   16000.0\n",
       "3304                   16000.0\n",
       "7135                   12000.0"
      ]
     },
     "execution_count": 19,
     "metadata": {},
     "output_type": "execute_result"
    }
   ],
   "source": [
    "donors_by_lifetime = c3_clean.groupby([' Contact Name'])['Amount'].sum().sort_values(ascending = False).to_frame()\n",
    "donors_by_lifetime.columns = ['lifetime_amount']\n",
    "donors_by_lifetime.head(15)"
   ]
  },
  {
   "cell_type": "code",
   "execution_count": 20,
   "metadata": {},
   "outputs": [],
   "source": [
    "donors_100_1000 = donors_by_lifetime.loc[(donors_by_lifetime[\"lifetime_amount\"] > 100) & (donors_by_lifetime[\"lifetime_amount\"] <= 1000)]"
   ]
  },
  {
   "cell_type": "code",
   "execution_count": 21,
   "metadata": {},
   "outputs": [
    {
     "name": "stderr",
     "output_type": "stream",
     "text": [
      "/home/thebbennett/anaconda3/lib/python3.6/site-packages/scipy/stats/stats.py:1713: FutureWarning: Using a non-tuple sequence for multidimensional indexing is deprecated; use `arr[tuple(seq)]` instead of `arr[seq]`. In the future this will be interpreted as an array index, `arr[np.array(seq)]`, which will result either in an error or a different result.\n",
      "  return np.add.reduce(sorted[indexer] * weights, axis=axis) / sumval\n"
     ]
    },
    {
     "data": {
      "text/plain": [
       "<matplotlib.axes._subplots.AxesSubplot at 0x7fcbaf9e67f0>"
      ]
     },
     "execution_count": 21,
     "metadata": {},
     "output_type": "execute_result"
    },
    {
     "data": {
      "image/png": "[encoded data removed]",
      "text/plain": [
       "<Figure size 842.4x595.44 with 1 Axes>"
      ]
     },
     "metadata": {},
     "output_type": "display_data"
    }
   ],
   "source": [
    "a4_dims = (11.7, 8.27)\n",
    "fig, ax = plt.subplots(figsize=a4_dims)\n",
    "\n",
    "sns.distplot(donors_100_1000['lifetime_amount'], bins = 30)"
   ]
  },
  {
   "cell_type": "code",
   "execution_count": 22,
   "metadata": {},
   "outputs": [],
   "source": [
    "donors_900_10000 = donors_by_lifetime.loc[(donors_by_lifetime[\"lifetime_amount\"] > 900) & (donors_by_lifetime[\"lifetime_amount\"] <= 10000)]"
   ]
  },
  {
   "cell_type": "code",
   "execution_count": 23,
   "metadata": {},
   "outputs": [
    {
     "name": "stderr",
     "output_type": "stream",
     "text": [
      "/home/thebbennett/anaconda3/lib/python3.6/site-packages/scipy/stats/stats.py:1713: FutureWarning: Using a non-tuple sequence for multidimensional indexing is deprecated; use `arr[tuple(seq)]` instead of `arr[seq]`. In the future this will be interpreted as an array index, `arr[np.array(seq)]`, which will result either in an error or a different result.\n",
      "  return np.add.reduce(sorted[indexer] * weights, axis=axis) / sumval\n"
     ]
    },
    {
     "data": {
      "text/plain": [
       "<matplotlib.axes._subplots.AxesSubplot at 0x7fcbafaf5dd8>"
      ]
     },
     "execution_count": 23,
     "metadata": {},
     "output_type": "execute_result"
    },
    {
     "data": {
      "image/png": "[encoded data removed]",
      "text/plain": [
       "<Figure size 842.4x595.44 with 1 Axes>"
      ]
     },
     "metadata": {},
     "output_type": "display_data"
    }
   ],
   "source": [
    "a4_dims = (11.7, 8.27)\n",
    "fig, ax = plt.subplots(figsize=a4_dims)\n",
    "\n",
    "sns.distplot(donors_900_10000['lifetime_amount'], bins = 30)"
   ]
  },
  {
   "cell_type": "markdown",
   "metadata": {},
   "source": [
    "## Quick Check on Lifetime Amounts  \n",
    "\n",
    "8.8% of donors have a lifetime value of \\\\$1,000 or more. Given our definition of a major donor being someone who have given \\\\$1,000 or more, this means that 91% of our donors are small dollar donors."
   ]
  },
  {
   "cell_type": "code",
   "execution_count": 24,
   "metadata": {},
   "outputs": [
    {
     "data": {
      "text/plain": [
       "lifetime_amount    0.013474\n",
       "dtype: float64"
      ]
     },
     "execution_count": 24,
     "metadata": {},
     "output_type": "execute_result"
    }
   ],
   "source": [
    "donors_by_lifetime.loc[(donors_by_lifetime[\"lifetime_amount\"] == 1000)].count()/len(donors_by_lifetime)"
   ]
  },
  {
   "cell_type": "code",
   "execution_count": 25,
   "metadata": {},
   "outputs": [
    {
     "data": {
      "text/plain": [
       "lifetime_amount    0.07796\n",
       "dtype: float64"
      ]
     },
     "execution_count": 25,
     "metadata": {},
     "output_type": "execute_result"
    }
   ],
   "source": [
    "donors_by_lifetime.loc[(donors_by_lifetime[\"lifetime_amount\"] >= 1000)].count()/len(donors_by_lifetime)"
   ]
  },
  {
   "cell_type": "markdown",
   "metadata": {},
   "source": [
    "## Removing monthly donors"
   ]
  },
  {
   "cell_type": "code",
   "execution_count": 26,
   "metadata": {},
   "outputs": [
    {
     "data": {
      "text/html": [
       "<div>\n",
       "<style scoped>\n",
       "    .dataframe tbody tr th:only-of-type {\n",
       "        vertical-align: middle;\n",
       "    }\n",
       "\n",
       "    .dataframe tbody tr th {\n",
       "        vertical-align: top;\n",
       "    }\n",
       "\n",
       "    .dataframe thead th {\n",
       "        text-align: right;\n",
       "    }\n",
       "</style>\n",
       "<table border=\"1\" class=\"dataframe\">\n",
       "  <thead>\n",
       "    <tr style=\"text-align: right;\">\n",
       "      <th></th>\n",
       "      <th>Count</th>\n",
       "      <th>Contribution ID</th>\n",
       "      <th>Received On</th>\n",
       "      <th>Amount</th>\n",
       "      <th>Designation</th>\n",
       "      <th>Contribution Type</th>\n",
       "      <th>Cycle</th>\n",
       "      <th>Period</th>\n",
       "      <th>Contribution.Note</th>\n",
       "      <th>Source Code Path</th>\n",
       "      <th>Contact ID</th>\n",
       "    </tr>\n",
       "    <tr>\n",
       "      <th>Contact Name</th>\n",
       "      <th></th>\n",
       "      <th></th>\n",
       "      <th></th>\n",
       "      <th></th>\n",
       "      <th></th>\n",
       "      <th></th>\n",
       "      <th></th>\n",
       "      <th></th>\n",
       "      <th></th>\n",
       "      <th></th>\n",
       "      <th></th>\n",
       "    </tr>\n",
       "  </thead>\n",
       "  <tbody>\n",
       "    <tr>\n",
       "      <th>4112</th>\n",
       "      <td>NaN</td>\n",
       "      <td>VNW16CGKCY8</td>\n",
       "      <td>2011-07-08</td>\n",
       "      <td>2000.0</td>\n",
       "      <td>New Era Colorado Foundation</td>\n",
       "      <td>Monetary Contribution</td>\n",
       "      <td>NaN</td>\n",
       "      <td>NaN</td>\n",
       "      <td>NaN</td>\n",
       "      <td>NaN</td>\n",
       "      <td>VNX0EGHGYZ0</td>\n",
       "    </tr>\n",
       "    <tr>\n",
       "      <th>1966</th>\n",
       "      <td>NaN</td>\n",
       "      <td>VNW16CGJP70</td>\n",
       "      <td>2013-10-11</td>\n",
       "      <td>100.0</td>\n",
       "      <td>New Era Colorado Foundation</td>\n",
       "      <td>Monetary Contribution</td>\n",
       "      <td>NaN</td>\n",
       "      <td>NaN</td>\n",
       "      <td>NaN</td>\n",
       "      <td>NaN</td>\n",
       "      <td>VNX0EGHVH14</td>\n",
       "    </tr>\n",
       "    <tr>\n",
       "      <th>4716</th>\n",
       "      <td>NaN</td>\n",
       "      <td>VNW16E3PPR3</td>\n",
       "      <td>2015-12-22</td>\n",
       "      <td>2500.0</td>\n",
       "      <td>New Era Colorado Foundation</td>\n",
       "      <td>Monetary Contribution</td>\n",
       "      <td>NaN</td>\n",
       "      <td>NaN</td>\n",
       "      <td>NaN</td>\n",
       "      <td>NaN</td>\n",
       "      <td>VNX0EGJ1973</td>\n",
       "    </tr>\n",
       "    <tr>\n",
       "      <th>4793</th>\n",
       "      <td>NaN</td>\n",
       "      <td>VNW16CGFH74</td>\n",
       "      <td>2008-02-07</td>\n",
       "      <td>21.0</td>\n",
       "      <td>New Era Colorado Foundation</td>\n",
       "      <td>Monetary Contribution</td>\n",
       "      <td>NaN</td>\n",
       "      <td>NaN</td>\n",
       "      <td>NaN</td>\n",
       "      <td>NaN</td>\n",
       "      <td>VNX0EGH3992</td>\n",
       "    </tr>\n",
       "    <tr>\n",
       "      <th>1932</th>\n",
       "      <td>NaN</td>\n",
       "      <td>VNW16CGDHA2</td>\n",
       "      <td>2007-03-21</td>\n",
       "      <td>50.0</td>\n",
       "      <td>New Era Colorado Foundation</td>\n",
       "      <td>Monetary Contribution</td>\n",
       "      <td>NaN</td>\n",
       "      <td>NaN</td>\n",
       "      <td>NaN</td>\n",
       "      <td>NaN</td>\n",
       "      <td>VNX0EGH2VW2</td>\n",
       "    </tr>\n",
       "  </tbody>\n",
       "</table>\n",
       "</div>"
      ],
      "text/plain": [
       "               Count Contribution ID Received On  Amount  \\\n",
       " Contact Name                                              \n",
       "4112             NaN     VNW16CGKCY8  2011-07-08  2000.0   \n",
       "1966             NaN     VNW16CGJP70  2013-10-11   100.0   \n",
       "4716             NaN     VNW16E3PPR3  2015-12-22  2500.0   \n",
       "4793             NaN     VNW16CGFH74  2008-02-07    21.0   \n",
       "1932             NaN     VNW16CGDHA2  2007-03-21    50.0   \n",
       "\n",
       "                               Designation      Contribution Type  Cycle  \\\n",
       " Contact Name                                                              \n",
       "4112           New Era Colorado Foundation  Monetary Contribution    NaN   \n",
       "1966           New Era Colorado Foundation  Monetary Contribution    NaN   \n",
       "4716           New Era Colorado Foundation  Monetary Contribution    NaN   \n",
       "4793           New Era Colorado Foundation  Monetary Contribution    NaN   \n",
       "1932           New Era Colorado Foundation  Monetary Contribution    NaN   \n",
       "\n",
       "              Period Contribution.Note  Source Code Path   Contact ID  \n",
       " Contact Name                                                          \n",
       "4112             NaN               NaN               NaN  VNX0EGHGYZ0  \n",
       "1966             NaN               NaN               NaN  VNX0EGHVH14  \n",
       "4716             NaN               NaN               NaN  VNX0EGJ1973  \n",
       "4793             NaN               NaN               NaN  VNX0EGH3992  \n",
       "1932             NaN               NaN               NaN  VNX0EGH2VW2  "
      ]
     },
     "execution_count": 26,
     "metadata": {},
     "output_type": "execute_result"
    }
   ],
   "source": [
    "c3_clean.head()"
   ]
  },
  {
   "cell_type": "code",
   "execution_count": 27,
   "metadata": {},
   "outputs": [
    {
     "data": {
      "text/html": [
       "<div>\n",
       "<style scoped>\n",
       "    .dataframe tbody tr th:only-of-type {\n",
       "        vertical-align: middle;\n",
       "    }\n",
       "\n",
       "    .dataframe tbody tr th {\n",
       "        vertical-align: top;\n",
       "    }\n",
       "\n",
       "    .dataframe thead th {\n",
       "        text-align: right;\n",
       "    }\n",
       "</style>\n",
       "<table border=\"1\" class=\"dataframe\">\n",
       "  <thead>\n",
       "    <tr style=\"text-align: right;\">\n",
       "      <th></th>\n",
       "      <th>Count</th>\n",
       "      <th>Contribution ID</th>\n",
       "      <th>Received On</th>\n",
       "      <th>Amount</th>\n",
       "      <th>Designation</th>\n",
       "      <th>Contribution Type</th>\n",
       "      <th>Cycle</th>\n",
       "      <th>Period</th>\n",
       "      <th>Contribution.Note</th>\n",
       "      <th>Source Code Path</th>\n",
       "      <th>Contact ID</th>\n",
       "    </tr>\n",
       "    <tr>\n",
       "      <th>Contact Name</th>\n",
       "      <th></th>\n",
       "      <th></th>\n",
       "      <th></th>\n",
       "      <th></th>\n",
       "      <th></th>\n",
       "      <th></th>\n",
       "      <th></th>\n",
       "      <th></th>\n",
       "      <th></th>\n",
       "      <th></th>\n",
       "      <th></th>\n",
       "    </tr>\n",
       "  </thead>\n",
       "  <tbody>\n",
       "    <tr>\n",
       "      <th>3344</th>\n",
       "      <td>NaN</td>\n",
       "      <td>VNW16EPKCJ9</td>\n",
       "      <td>2016-08-15</td>\n",
       "      <td>5.0</td>\n",
       "      <td>New Era Colorado Foundation</td>\n",
       "      <td>Monetary Contribution</td>\n",
       "      <td>NaN</td>\n",
       "      <td>NaN</td>\n",
       "      <td>NaN</td>\n",
       "      <td>c3 Donors/Player contribution</td>\n",
       "      <td>VNX0EGHJ7D6</td>\n",
       "    </tr>\n",
       "    <tr>\n",
       "      <th>3903</th>\n",
       "      <td>NaN</td>\n",
       "      <td>VNW16E2V624</td>\n",
       "      <td>2015-11-15</td>\n",
       "      <td>5.0</td>\n",
       "      <td>New Era Colorado Foundation</td>\n",
       "      <td>Monetary Contribution</td>\n",
       "      <td>NaN</td>\n",
       "      <td>Primary</td>\n",
       "      <td>NaN</td>\n",
       "      <td>c3 Donors/Player contribution</td>\n",
       "      <td>VNX0EGH8D82</td>\n",
       "    </tr>\n",
       "    <tr>\n",
       "      <th>3353</th>\n",
       "      <td>NaN</td>\n",
       "      <td>VNW16DM0RJ5</td>\n",
       "      <td>2015-02-15</td>\n",
       "      <td>5.0</td>\n",
       "      <td>New Era Colorado Foundation</td>\n",
       "      <td>Monetary Contribution</td>\n",
       "      <td>NaN</td>\n",
       "      <td>NaN</td>\n",
       "      <td>NaN</td>\n",
       "      <td>c3 Donors/Player contribution</td>\n",
       "      <td>VNX0EGJ17E3</td>\n",
       "    </tr>\n",
       "    <tr>\n",
       "      <th>3353</th>\n",
       "      <td>NaN</td>\n",
       "      <td>VNW16DQ6KD7</td>\n",
       "      <td>2015-05-15</td>\n",
       "      <td>5.0</td>\n",
       "      <td>New Era Colorado Foundation</td>\n",
       "      <td>Monetary Contribution</td>\n",
       "      <td>NaN</td>\n",
       "      <td>NaN</td>\n",
       "      <td>NaN</td>\n",
       "      <td>c3 Donors/Player contribution</td>\n",
       "      <td>VNX0EGJ17E3</td>\n",
       "    </tr>\n",
       "    <tr>\n",
       "      <th>3353</th>\n",
       "      <td>NaN</td>\n",
       "      <td>VNW16DN7177</td>\n",
       "      <td>2014-12-15</td>\n",
       "      <td>5.0</td>\n",
       "      <td>New Era Colorado Foundation</td>\n",
       "      <td>Monetary Contribution</td>\n",
       "      <td>NaN</td>\n",
       "      <td>NaN</td>\n",
       "      <td>NaN</td>\n",
       "      <td>c3 Donors/Player contribution</td>\n",
       "      <td>VNX0EGJ17E3</td>\n",
       "    </tr>\n",
       "  </tbody>\n",
       "</table>\n",
       "</div>"
      ],
      "text/plain": [
       "               Count Contribution ID Received On  Amount  \\\n",
       " Contact Name                                              \n",
       "3344             NaN     VNW16EPKCJ9  2016-08-15     5.0   \n",
       "3903             NaN     VNW16E2V624  2015-11-15     5.0   \n",
       "3353             NaN     VNW16DM0RJ5  2015-02-15     5.0   \n",
       "3353             NaN     VNW16DQ6KD7  2015-05-15     5.0   \n",
       "3353             NaN     VNW16DN7177  2014-12-15     5.0   \n",
       "\n",
       "                               Designation      Contribution Type  Cycle  \\\n",
       " Contact Name                                                              \n",
       "3344           New Era Colorado Foundation  Monetary Contribution    NaN   \n",
       "3903           New Era Colorado Foundation  Monetary Contribution    NaN   \n",
       "3353           New Era Colorado Foundation  Monetary Contribution    NaN   \n",
       "3353           New Era Colorado Foundation  Monetary Contribution    NaN   \n",
       "3353           New Era Colorado Foundation  Monetary Contribution    NaN   \n",
       "\n",
       "                Period Contribution.Note               Source Code Path  \\\n",
       " Contact Name                                                             \n",
       "3344               NaN               NaN  c3 Donors/Player contribution   \n",
       "3903           Primary               NaN  c3 Donors/Player contribution   \n",
       "3353               NaN               NaN  c3 Donors/Player contribution   \n",
       "3353               NaN               NaN  c3 Donors/Player contribution   \n",
       "3353               NaN               NaN  c3 Donors/Player contribution   \n",
       "\n",
       "                Contact ID  \n",
       " Contact Name               \n",
       "3344           VNX0EGHJ7D6  \n",
       "3903           VNX0EGH8D82  \n",
       "3353           VNX0EGJ17E3  \n",
       "3353           VNX0EGJ17E3  \n",
       "3353           VNX0EGJ17E3  "
      ]
     },
     "execution_count": 27,
     "metadata": {},
     "output_type": "execute_result"
    }
   ],
   "source": [
    "monthly_gifts = c3_clean[c3_clean[' Source Code Path'].str.contains(\"Player\") == True]\n",
    "monthly_gifts.head()"
   ]
  },
  {
   "cell_type": "code",
   "execution_count": 28,
   "metadata": {},
   "outputs": [
    {
     "data": {
      "text/html": [
       "<div>\n",
       "<style scoped>\n",
       "    .dataframe tbody tr th:only-of-type {\n",
       "        vertical-align: middle;\n",
       "    }\n",
       "\n",
       "    .dataframe tbody tr th {\n",
       "        vertical-align: top;\n",
       "    }\n",
       "\n",
       "    .dataframe thead th {\n",
       "        text-align: right;\n",
       "    }\n",
       "</style>\n",
       "<table border=\"1\" class=\"dataframe\">\n",
       "  <thead>\n",
       "    <tr style=\"text-align: right;\">\n",
       "      <th></th>\n",
       "      <th>Count</th>\n",
       "      <th>Contribution ID</th>\n",
       "      <th>Received On</th>\n",
       "      <th>Amount</th>\n",
       "      <th>Designation</th>\n",
       "      <th>Contribution Type</th>\n",
       "      <th>Cycle</th>\n",
       "      <th>Period</th>\n",
       "      <th>Contribution.Note</th>\n",
       "      <th>Source Code Path</th>\n",
       "      <th>Contact ID</th>\n",
       "    </tr>\n",
       "    <tr>\n",
       "      <th>Contact Name</th>\n",
       "      <th></th>\n",
       "      <th></th>\n",
       "      <th></th>\n",
       "      <th></th>\n",
       "      <th></th>\n",
       "      <th></th>\n",
       "      <th></th>\n",
       "      <th></th>\n",
       "      <th></th>\n",
       "      <th></th>\n",
       "      <th></th>\n",
       "    </tr>\n",
       "  </thead>\n",
       "  <tbody>\n",
       "    <tr>\n",
       "      <th>4112</th>\n",
       "      <td>NaN</td>\n",
       "      <td>VNW16CGKCY8</td>\n",
       "      <td>2011-07-08</td>\n",
       "      <td>2000.0</td>\n",
       "      <td>New Era Colorado Foundation</td>\n",
       "      <td>Monetary Contribution</td>\n",
       "      <td>NaN</td>\n",
       "      <td>NaN</td>\n",
       "      <td>NaN</td>\n",
       "      <td>NaN</td>\n",
       "      <td>VNX0EGHGYZ0</td>\n",
       "    </tr>\n",
       "    <tr>\n",
       "      <th>1966</th>\n",
       "      <td>NaN</td>\n",
       "      <td>VNW16CGJP70</td>\n",
       "      <td>2013-10-11</td>\n",
       "      <td>100.0</td>\n",
       "      <td>New Era Colorado Foundation</td>\n",
       "      <td>Monetary Contribution</td>\n",
       "      <td>NaN</td>\n",
       "      <td>NaN</td>\n",
       "      <td>NaN</td>\n",
       "      <td>NaN</td>\n",
       "      <td>VNX0EGHVH14</td>\n",
       "    </tr>\n",
       "    <tr>\n",
       "      <th>4716</th>\n",
       "      <td>NaN</td>\n",
       "      <td>VNW16E3PPR3</td>\n",
       "      <td>2015-12-22</td>\n",
       "      <td>2500.0</td>\n",
       "      <td>New Era Colorado Foundation</td>\n",
       "      <td>Monetary Contribution</td>\n",
       "      <td>NaN</td>\n",
       "      <td>NaN</td>\n",
       "      <td>NaN</td>\n",
       "      <td>NaN</td>\n",
       "      <td>VNX0EGJ1973</td>\n",
       "    </tr>\n",
       "    <tr>\n",
       "      <th>4793</th>\n",
       "      <td>NaN</td>\n",
       "      <td>VNW16CGFH74</td>\n",
       "      <td>2008-02-07</td>\n",
       "      <td>21.0</td>\n",
       "      <td>New Era Colorado Foundation</td>\n",
       "      <td>Monetary Contribution</td>\n",
       "      <td>NaN</td>\n",
       "      <td>NaN</td>\n",
       "      <td>NaN</td>\n",
       "      <td>NaN</td>\n",
       "      <td>VNX0EGH3992</td>\n",
       "    </tr>\n",
       "    <tr>\n",
       "      <th>1932</th>\n",
       "      <td>NaN</td>\n",
       "      <td>VNW16CGDHA2</td>\n",
       "      <td>2007-03-21</td>\n",
       "      <td>50.0</td>\n",
       "      <td>New Era Colorado Foundation</td>\n",
       "      <td>Monetary Contribution</td>\n",
       "      <td>NaN</td>\n",
       "      <td>NaN</td>\n",
       "      <td>NaN</td>\n",
       "      <td>NaN</td>\n",
       "      <td>VNX0EGH2VW2</td>\n",
       "    </tr>\n",
       "    <tr>\n",
       "      <th>1932</th>\n",
       "      <td>NaN</td>\n",
       "      <td>VNW16CGPRJ0</td>\n",
       "      <td>2013-05-03</td>\n",
       "      <td>200.0</td>\n",
       "      <td>New Era Colorado Foundation</td>\n",
       "      <td>Monetary Contribution</td>\n",
       "      <td>NaN</td>\n",
       "      <td>NaN</td>\n",
       "      <td>NaN</td>\n",
       "      <td>NaN</td>\n",
       "      <td>VNX0EGH2VW2</td>\n",
       "    </tr>\n",
       "    <tr>\n",
       "      <th>2043</th>\n",
       "      <td>NaN</td>\n",
       "      <td>VNW16CGJTH8</td>\n",
       "      <td>2013-10-07</td>\n",
       "      <td>50.0</td>\n",
       "      <td>New Era Colorado Foundation</td>\n",
       "      <td>Monetary Contribution</td>\n",
       "      <td>NaN</td>\n",
       "      <td>NaN</td>\n",
       "      <td>NaN</td>\n",
       "      <td>NaN</td>\n",
       "      <td>VNX0EGHJ7M1</td>\n",
       "    </tr>\n",
       "    <tr>\n",
       "      <th>1844</th>\n",
       "      <td>NaN</td>\n",
       "      <td>VNW16CXR3A8</td>\n",
       "      <td>2014-03-20</td>\n",
       "      <td>10.0</td>\n",
       "      <td>New Era Colorado Foundation</td>\n",
       "      <td>Monetary Contribution</td>\n",
       "      <td>NaN</td>\n",
       "      <td>NaN</td>\n",
       "      <td>NaN</td>\n",
       "      <td>NaN</td>\n",
       "      <td>VNX0EGHNNA7</td>\n",
       "    </tr>\n",
       "    <tr>\n",
       "      <th>1844</th>\n",
       "      <td>NaN</td>\n",
       "      <td>VNW16CGQDJ6</td>\n",
       "      <td>2013-04-21</td>\n",
       "      <td>40.0</td>\n",
       "      <td>New Era Colorado Foundation</td>\n",
       "      <td>Monetary Contribution</td>\n",
       "      <td>NaN</td>\n",
       "      <td>NaN</td>\n",
       "      <td>NaN</td>\n",
       "      <td>NaN</td>\n",
       "      <td>VNX0EGHNNA7</td>\n",
       "    </tr>\n",
       "    <tr>\n",
       "      <th>52</th>\n",
       "      <td>NaN</td>\n",
       "      <td>VNW16CGAXB4</td>\n",
       "      <td>2013-08-19</td>\n",
       "      <td>25.0</td>\n",
       "      <td>New Era Colorado Foundation</td>\n",
       "      <td>Monetary Contribution</td>\n",
       "      <td>NaN</td>\n",
       "      <td>NaN</td>\n",
       "      <td>NaN</td>\n",
       "      <td>NaN</td>\n",
       "      <td>VNX0EGH04Y3</td>\n",
       "    </tr>\n",
       "  </tbody>\n",
       "</table>\n",
       "</div>"
      ],
      "text/plain": [
       "               Count Contribution ID Received On  Amount  \\\n",
       " Contact Name                                              \n",
       "4112             NaN     VNW16CGKCY8  2011-07-08  2000.0   \n",
       "1966             NaN     VNW16CGJP70  2013-10-11   100.0   \n",
       "4716             NaN     VNW16E3PPR3  2015-12-22  2500.0   \n",
       "4793             NaN     VNW16CGFH74  2008-02-07    21.0   \n",
       "1932             NaN     VNW16CGDHA2  2007-03-21    50.0   \n",
       "1932             NaN     VNW16CGPRJ0  2013-05-03   200.0   \n",
       "2043             NaN     VNW16CGJTH8  2013-10-07    50.0   \n",
       "1844             NaN     VNW16CXR3A8  2014-03-20    10.0   \n",
       "1844             NaN     VNW16CGQDJ6  2013-04-21    40.0   \n",
       "52               NaN     VNW16CGAXB4  2013-08-19    25.0   \n",
       "\n",
       "                               Designation      Contribution Type  Cycle  \\\n",
       " Contact Name                                                              \n",
       "4112           New Era Colorado Foundation  Monetary Contribution    NaN   \n",
       "1966           New Era Colorado Foundation  Monetary Contribution    NaN   \n",
       "4716           New Era Colorado Foundation  Monetary Contribution    NaN   \n",
       "4793           New Era Colorado Foundation  Monetary Contribution    NaN   \n",
       "1932           New Era Colorado Foundation  Monetary Contribution    NaN   \n",
       "1932           New Era Colorado Foundation  Monetary Contribution    NaN   \n",
       "2043           New Era Colorado Foundation  Monetary Contribution    NaN   \n",
       "1844           New Era Colorado Foundation  Monetary Contribution    NaN   \n",
       "1844           New Era Colorado Foundation  Monetary Contribution    NaN   \n",
       "52             New Era Colorado Foundation  Monetary Contribution    NaN   \n",
       "\n",
       "              Period Contribution.Note  Source Code Path   Contact ID  \n",
       " Contact Name                                                          \n",
       "4112             NaN               NaN               NaN  VNX0EGHGYZ0  \n",
       "1966             NaN               NaN               NaN  VNX0EGHVH14  \n",
       "4716             NaN               NaN               NaN  VNX0EGJ1973  \n",
       "4793             NaN               NaN               NaN  VNX0EGH3992  \n",
       "1932             NaN               NaN               NaN  VNX0EGH2VW2  \n",
       "1932             NaN               NaN               NaN  VNX0EGH2VW2  \n",
       "2043             NaN               NaN               NaN  VNX0EGHJ7M1  \n",
       "1844             NaN               NaN               NaN  VNX0EGHNNA7  \n",
       "1844             NaN               NaN               NaN  VNX0EGHNNA7  \n",
       "52               NaN               NaN               NaN  VNX0EGH04Y3  "
      ]
     },
     "execution_count": 28,
     "metadata": {},
     "output_type": "execute_result"
    }
   ],
   "source": [
    "no_monthly = pd.concat([c3_clean, monthly_gifts]).drop_duplicates(keep=False)\n",
    "no_monthly.head(10)"
   ]
  },
  {
   "cell_type": "markdown",
   "metadata": {},
   "source": [
    "# Repeating the analysis, minus monthly members\n",
    "## By Gift Count"
   ]
  },
  {
   "cell_type": "code",
   "execution_count": 29,
   "metadata": {},
   "outputs": [
    {
     "data": {
      "text/html": [
       "<div>\n",
       "<style scoped>\n",
       "    .dataframe tbody tr th:only-of-type {\n",
       "        vertical-align: middle;\n",
       "    }\n",
       "\n",
       "    .dataframe tbody tr th {\n",
       "        vertical-align: top;\n",
       "    }\n",
       "\n",
       "    .dataframe thead th {\n",
       "        text-align: right;\n",
       "    }\n",
       "</style>\n",
       "<table border=\"1\" class=\"dataframe\">\n",
       "  <thead>\n",
       "    <tr style=\"text-align: right;\">\n",
       "      <th></th>\n",
       "      <th>number_of_gifts</th>\n",
       "    </tr>\n",
       "    <tr>\n",
       "      <th>Contact Name</th>\n",
       "      <th></th>\n",
       "    </tr>\n",
       "  </thead>\n",
       "  <tbody>\n",
       "    <tr>\n",
       "      <th>3086</th>\n",
       "      <td>77</td>\n",
       "    </tr>\n",
       "    <tr>\n",
       "      <th>1627</th>\n",
       "      <td>57</td>\n",
       "    </tr>\n",
       "    <tr>\n",
       "      <th>4243</th>\n",
       "      <td>54</td>\n",
       "    </tr>\n",
       "    <tr>\n",
       "      <th>5923</th>\n",
       "      <td>53</td>\n",
       "    </tr>\n",
       "    <tr>\n",
       "      <th>1487</th>\n",
       "      <td>53</td>\n",
       "    </tr>\n",
       "    <tr>\n",
       "      <th>7299</th>\n",
       "      <td>52</td>\n",
       "    </tr>\n",
       "    <tr>\n",
       "      <th>6570</th>\n",
       "      <td>51</td>\n",
       "    </tr>\n",
       "    <tr>\n",
       "      <th>629</th>\n",
       "      <td>49</td>\n",
       "    </tr>\n",
       "    <tr>\n",
       "      <th>6571</th>\n",
       "      <td>48</td>\n",
       "    </tr>\n",
       "    <tr>\n",
       "      <th>4512</th>\n",
       "      <td>46</td>\n",
       "    </tr>\n",
       "    <tr>\n",
       "      <th>4374</th>\n",
       "      <td>46</td>\n",
       "    </tr>\n",
       "    <tr>\n",
       "      <th>4571</th>\n",
       "      <td>45</td>\n",
       "    </tr>\n",
       "    <tr>\n",
       "      <th>6895</th>\n",
       "      <td>42</td>\n",
       "    </tr>\n",
       "    <tr>\n",
       "      <th>814</th>\n",
       "      <td>42</td>\n",
       "    </tr>\n",
       "    <tr>\n",
       "      <th>4724</th>\n",
       "      <td>39</td>\n",
       "    </tr>\n",
       "  </tbody>\n",
       "</table>\n",
       "</div>"
      ],
      "text/plain": [
       "               number_of_gifts\n",
       " Contact Name                 \n",
       "3086                        77\n",
       "1627                        57\n",
       "4243                        54\n",
       "5923                        53\n",
       "1487                        53\n",
       "7299                        52\n",
       "6570                        51\n",
       "629                         49\n",
       "6571                        48\n",
       "4512                        46\n",
       "4374                        46\n",
       "4571                        45\n",
       "6895                        42\n",
       "814                         42\n",
       "4724                        39"
      ]
     },
     "execution_count": 29,
     "metadata": {},
     "output_type": "execute_result"
    }
   ],
   "source": [
    "no_monthly_by_gifts = no_monthly.groupby([' Contact Name']).size().sort_values(ascending = False).to_frame()\n",
    "no_monthly_by_gifts.columns = ['number_of_gifts']\n",
    "no_monthly_by_gifts.head(15)"
   ]
  },
  {
   "cell_type": "markdown",
   "metadata": {},
   "source": [
    "## By Lifetime Value"
   ]
  },
  {
   "cell_type": "code",
   "execution_count": 30,
   "metadata": {},
   "outputs": [
    {
     "data": {
      "text/html": [
       "<div>\n",
       "<style scoped>\n",
       "    .dataframe tbody tr th:only-of-type {\n",
       "        vertical-align: middle;\n",
       "    }\n",
       "\n",
       "    .dataframe tbody tr th {\n",
       "        vertical-align: top;\n",
       "    }\n",
       "\n",
       "    .dataframe thead th {\n",
       "        text-align: right;\n",
       "    }\n",
       "</style>\n",
       "<table border=\"1\" class=\"dataframe\">\n",
       "  <thead>\n",
       "    <tr style=\"text-align: right;\">\n",
       "      <th></th>\n",
       "      <th>lifetime_amount</th>\n",
       "    </tr>\n",
       "    <tr>\n",
       "      <th>Contact Name</th>\n",
       "      <th></th>\n",
       "    </tr>\n",
       "  </thead>\n",
       "  <tbody>\n",
       "    <tr>\n",
       "      <th>4421</th>\n",
       "      <td>301000.0</td>\n",
       "    </tr>\n",
       "    <tr>\n",
       "      <th>673</th>\n",
       "      <td>50000.0</td>\n",
       "    </tr>\n",
       "    <tr>\n",
       "      <th>5780</th>\n",
       "      <td>50000.0</td>\n",
       "    </tr>\n",
       "    <tr>\n",
       "      <th>6974</th>\n",
       "      <td>35500.0</td>\n",
       "    </tr>\n",
       "    <tr>\n",
       "      <th>813</th>\n",
       "      <td>35000.0</td>\n",
       "    </tr>\n",
       "    <tr>\n",
       "      <th>6980</th>\n",
       "      <td>35000.0</td>\n",
       "    </tr>\n",
       "    <tr>\n",
       "      <th>1456</th>\n",
       "      <td>26100.0</td>\n",
       "    </tr>\n",
       "    <tr>\n",
       "      <th>3058</th>\n",
       "      <td>25000.0</td>\n",
       "    </tr>\n",
       "    <tr>\n",
       "      <th>6093</th>\n",
       "      <td>25000.0</td>\n",
       "    </tr>\n",
       "    <tr>\n",
       "      <th>5906</th>\n",
       "      <td>25000.0</td>\n",
       "    </tr>\n",
       "    <tr>\n",
       "      <th>3521</th>\n",
       "      <td>23000.0</td>\n",
       "    </tr>\n",
       "    <tr>\n",
       "      <th>3475</th>\n",
       "      <td>18000.0</td>\n",
       "    </tr>\n",
       "    <tr>\n",
       "      <th>3304</th>\n",
       "      <td>16000.0</td>\n",
       "    </tr>\n",
       "    <tr>\n",
       "      <th>3887</th>\n",
       "      <td>16000.0</td>\n",
       "    </tr>\n",
       "    <tr>\n",
       "      <th>7135</th>\n",
       "      <td>12000.0</td>\n",
       "    </tr>\n",
       "  </tbody>\n",
       "</table>\n",
       "</div>"
      ],
      "text/plain": [
       "               lifetime_amount\n",
       " Contact Name                 \n",
       "4421                  301000.0\n",
       "673                    50000.0\n",
       "5780                   50000.0\n",
       "6974                   35500.0\n",
       "813                    35000.0\n",
       "6980                   35000.0\n",
       "1456                   26100.0\n",
       "3058                   25000.0\n",
       "6093                   25000.0\n",
       "5906                   25000.0\n",
       "3521                   23000.0\n",
       "3475                   18000.0\n",
       "3304                   16000.0\n",
       "3887                   16000.0\n",
       "7135                   12000.0"
      ]
     },
     "execution_count": 30,
     "metadata": {},
     "output_type": "execute_result"
    }
   ],
   "source": [
    "no_monthly_by_lifetime = no_monthly.groupby([' Contact Name'])['Amount'].sum().sort_values(ascending = False).to_frame()\n",
    "no_monthly_by_lifetime.columns = ['lifetime_amount']\n",
    "no_monthly_by_lifetime.head(15)"
   ]
  },
  {
   "cell_type": "code",
   "execution_count": 31,
   "metadata": {},
   "outputs": [],
   "source": [
    "### Summary Stats"
   ]
  },
  {
   "cell_type": "code",
   "execution_count": 32,
   "metadata": {},
   "outputs": [
    {
     "data": {
      "text/plain": [
       "1898"
      ]
     },
     "execution_count": 32,
     "metadata": {},
     "output_type": "execute_result"
    }
   ],
   "source": [
    "len(no_monthly_by_gifts)"
   ]
  },
  {
   "cell_type": "code",
   "execution_count": 33,
   "metadata": {},
   "outputs": [
    {
     "data": {
      "text/plain": [
       "number_of_gifts    3.382508\n",
       "dtype: float64"
      ]
     },
     "execution_count": 33,
     "metadata": {},
     "output_type": "execute_result"
    }
   ],
   "source": [
    "np.mean(no_monthly_by_gifts)"
   ]
  },
  {
   "cell_type": "code",
   "execution_count": 34,
   "metadata": {},
   "outputs": [
    {
     "data": {
      "text/plain": [
       "195.87004985200193"
      ]
     },
     "execution_count": 34,
     "metadata": {},
     "output_type": "execute_result"
    }
   ],
   "source": [
    "np.mean(no_monthly[\"Amount\"])"
   ]
  },
  {
   "cell_type": "code",
   "execution_count": 35,
   "metadata": {},
   "outputs": [
    {
     "data": {
      "text/plain": [
       "15.0"
      ]
     },
     "execution_count": 35,
     "metadata": {},
     "output_type": "execute_result"
    }
   ],
   "source": [
    "no_monthly[\"Amount\"].median()"
   ]
  },
  {
   "cell_type": "code",
   "execution_count": 36,
   "metadata": {},
   "outputs": [
    {
     "data": {
      "text/plain": [
       "662.4287934668072"
      ]
     },
     "execution_count": 36,
     "metadata": {},
     "output_type": "execute_result"
    }
   ],
   "source": [
    "np.mean(no_monthly_by_lifetime[\"lifetime_amount\"])"
   ]
  },
  {
   "cell_type": "code",
   "execution_count": 37,
   "metadata": {},
   "outputs": [
    {
     "data": {
      "text/plain": [
       "lifetime_amount    50.0\n",
       "dtype: float64"
      ]
     },
     "execution_count": 37,
     "metadata": {},
     "output_type": "execute_result"
    }
   ],
   "source": [
    "no_monthly_by_lifetime.median()"
   ]
  },
  {
   "cell_type": "code",
   "execution_count": 38,
   "metadata": {},
   "outputs": [
    {
     "data": {
      "text/plain": [
       "100000.0"
      ]
     },
     "execution_count": 38,
     "metadata": {},
     "output_type": "execute_result"
    }
   ],
   "source": [
    "max(no_monthly[\"Amount\"])"
   ]
  },
  {
   "cell_type": "code",
   "execution_count": 39,
   "metadata": {},
   "outputs": [
    {
     "data": {
      "text/plain": [
       "0.5389884088514225"
      ]
     },
     "execution_count": 39,
     "metadata": {},
     "output_type": "execute_result"
    }
   ],
   "source": [
    "len(no_monthly_by_lifetime.loc[no_monthly_by_lifetime[\"lifetime_amount\"] <= 50])/len(no_monthly_by_lifetime)"
   ]
  },
  {
   "cell_type": "markdown",
   "metadata": {},
   "source": [
    "We have **2,142 non monthly donors**.  \n",
    "The average number of lifetime gifts is 4.6.  \n",
    "The median lifetime amount is \\\\$50  \n",
    "The average gift amount is \\\\$140  \n",
    "The median gift amount is \\\\$10.0  \n",
    "The average lifetime value of our donors is \\\\$646.37.   \n",
    "The highest gift we ever received was for \\\\$100,000!  \n",
    "**51.6% of donors have a lifetime value of \\\\$50 or below.**"
   ]
  },
  {
   "cell_type": "code",
   "execution_count": 40,
   "metadata": {},
   "outputs": [
    {
     "data": {
      "text/html": [
       "<div>\n",
       "<style scoped>\n",
       "    .dataframe tbody tr th:only-of-type {\n",
       "        vertical-align: middle;\n",
       "    }\n",
       "\n",
       "    .dataframe tbody tr th {\n",
       "        vertical-align: top;\n",
       "    }\n",
       "\n",
       "    .dataframe thead th {\n",
       "        text-align: right;\n",
       "    }\n",
       "</style>\n",
       "<table border=\"1\" class=\"dataframe\">\n",
       "  <thead>\n",
       "    <tr style=\"text-align: right;\">\n",
       "      <th></th>\n",
       "      <th>lifetime_amount</th>\n",
       "    </tr>\n",
       "  </thead>\n",
       "  <tbody>\n",
       "    <tr>\n",
       "      <th>count</th>\n",
       "      <td>1898.000000</td>\n",
       "    </tr>\n",
       "    <tr>\n",
       "      <th>mean</th>\n",
       "      <td>662.428793</td>\n",
       "    </tr>\n",
       "    <tr>\n",
       "      <th>std</th>\n",
       "      <td>7426.555598</td>\n",
       "    </tr>\n",
       "    <tr>\n",
       "      <th>min</th>\n",
       "      <td>0.000000</td>\n",
       "    </tr>\n",
       "    <tr>\n",
       "      <th>25%</th>\n",
       "      <td>25.000000</td>\n",
       "    </tr>\n",
       "    <tr>\n",
       "      <th>50%</th>\n",
       "      <td>50.000000</td>\n",
       "    </tr>\n",
       "    <tr>\n",
       "      <th>75%</th>\n",
       "      <td>150.750000</td>\n",
       "    </tr>\n",
       "    <tr>\n",
       "      <th>max</th>\n",
       "      <td>301000.000000</td>\n",
       "    </tr>\n",
       "  </tbody>\n",
       "</table>\n",
       "</div>"
      ],
      "text/plain": [
       "       lifetime_amount\n",
       "count      1898.000000\n",
       "mean        662.428793\n",
       "std        7426.555598\n",
       "min           0.000000\n",
       "25%          25.000000\n",
       "50%          50.000000\n",
       "75%         150.750000\n",
       "max      301000.000000"
      ]
     },
     "execution_count": 40,
     "metadata": {},
     "output_type": "execute_result"
    }
   ],
   "source": [
    "no_monthly_by_lifetime.describe()"
   ]
  },
  {
   "cell_type": "markdown",
   "metadata": {},
   "source": [
    "## Repeat Donors (non monthly)"
   ]
  },
  {
   "cell_type": "code",
   "execution_count": 41,
   "metadata": {},
   "outputs": [
    {
     "data": {
      "text/plain": [
       "number_of_gifts    1254\n",
       "dtype: int64"
      ]
     },
     "execution_count": 41,
     "metadata": {},
     "output_type": "execute_result"
    }
   ],
   "source": [
    "no_monthly_by_gifts.loc[no_monthly_by_gifts['number_of_gifts'] == 1].count()"
   ]
  },
  {
   "cell_type": "code",
   "execution_count": 42,
   "metadata": {},
   "outputs": [
    {
     "data": {
      "text/plain": [
       "number_of_gifts    0.660695\n",
       "dtype: float64"
      ]
     },
     "execution_count": 42,
     "metadata": {},
     "output_type": "execute_result"
    }
   ],
   "source": [
    "no_monthly_by_gifts.loc[no_monthly_by_gifts['number_of_gifts'] == 1].count()/len(no_monthly_by_gifts)"
   ]
  },
  {
   "cell_type": "markdown",
   "metadata": {},
   "source": [
    "61.4% of New Era's donors only give once!"
   ]
  },
  {
   "cell_type": "code",
   "execution_count": 43,
   "metadata": {},
   "outputs": [],
   "source": [
    "repeat_donors = no_monthly_by_gifts.loc[no_monthly_by_gifts['number_of_gifts'] != 1]"
   ]
  },
  {
   "cell_type": "code",
   "execution_count": 44,
   "metadata": {},
   "outputs": [
    {
     "data": {
      "text/plain": [
       "644"
      ]
     },
     "execution_count": 44,
     "metadata": {},
     "output_type": "execute_result"
    }
   ],
   "source": [
    "len(repeat_donors)"
   ]
  },
  {
   "cell_type": "code",
   "execution_count": 45,
   "metadata": {},
   "outputs": [
    {
     "data": {
      "text/html": [
       "<div>\n",
       "<style scoped>\n",
       "    .dataframe tbody tr th:only-of-type {\n",
       "        vertical-align: middle;\n",
       "    }\n",
       "\n",
       "    .dataframe tbody tr th {\n",
       "        vertical-align: top;\n",
       "    }\n",
       "\n",
       "    .dataframe thead th {\n",
       "        text-align: right;\n",
       "    }\n",
       "</style>\n",
       "<table border=\"1\" class=\"dataframe\">\n",
       "  <thead>\n",
       "    <tr style=\"text-align: right;\">\n",
       "      <th></th>\n",
       "      <th>number_of_gifts</th>\n",
       "    </tr>\n",
       "    <tr>\n",
       "      <th>Contact Name</th>\n",
       "      <th></th>\n",
       "    </tr>\n",
       "  </thead>\n",
       "  <tbody>\n",
       "    <tr>\n",
       "      <th>3086</th>\n",
       "      <td>77</td>\n",
       "    </tr>\n",
       "    <tr>\n",
       "      <th>1627</th>\n",
       "      <td>57</td>\n",
       "    </tr>\n",
       "    <tr>\n",
       "      <th>4243</th>\n",
       "      <td>54</td>\n",
       "    </tr>\n",
       "    <tr>\n",
       "      <th>5923</th>\n",
       "      <td>53</td>\n",
       "    </tr>\n",
       "    <tr>\n",
       "      <th>1487</th>\n",
       "      <td>53</td>\n",
       "    </tr>\n",
       "    <tr>\n",
       "      <th>7299</th>\n",
       "      <td>52</td>\n",
       "    </tr>\n",
       "    <tr>\n",
       "      <th>6570</th>\n",
       "      <td>51</td>\n",
       "    </tr>\n",
       "    <tr>\n",
       "      <th>629</th>\n",
       "      <td>49</td>\n",
       "    </tr>\n",
       "    <tr>\n",
       "      <th>6571</th>\n",
       "      <td>48</td>\n",
       "    </tr>\n",
       "    <tr>\n",
       "      <th>4512</th>\n",
       "      <td>46</td>\n",
       "    </tr>\n",
       "  </tbody>\n",
       "</table>\n",
       "</div>"
      ],
      "text/plain": [
       "               number_of_gifts\n",
       " Contact Name                 \n",
       "3086                        77\n",
       "1627                        57\n",
       "4243                        54\n",
       "5923                        53\n",
       "1487                        53\n",
       "7299                        52\n",
       "6570                        51\n",
       "629                         49\n",
       "6571                        48\n",
       "4512                        46"
      ]
     },
     "execution_count": 45,
     "metadata": {},
     "output_type": "execute_result"
    }
   ],
   "source": [
    "repeat_donors.head(10)"
   ]
  },
  {
   "cell_type": "code",
   "execution_count": 46,
   "metadata": {},
   "outputs": [
    {
     "name": "stderr",
     "output_type": "stream",
     "text": [
      "/home/thebbennett/anaconda3/lib/python3.6/site-packages/scipy/stats/stats.py:1713: FutureWarning: Using a non-tuple sequence for multidimensional indexing is deprecated; use `arr[tuple(seq)]` instead of `arr[seq]`. In the future this will be interpreted as an array index, `arr[np.array(seq)]`, which will result either in an error or a different result.\n",
      "  return np.add.reduce(sorted[indexer] * weights, axis=axis) / sumval\n"
     ]
    },
    {
     "data": {
      "text/plain": [
       "<matplotlib.axes._subplots.AxesSubplot at 0x7fcbaf0c5320>"
      ]
     },
     "execution_count": 46,
     "metadata": {},
     "output_type": "execute_result"
    },
    {
     "data": {
      "image/png": "[encoded data removed]",
      "text/plain": [
       "<Figure size 432x288 with 1 Axes>"
      ]
     },
     "metadata": {},
     "output_type": "display_data"
    }
   ],
   "source": [
    "sns.distplot(repeat_donors['number_of_gifts'])"
   ]
  },
  {
   "cell_type": "code",
   "execution_count": 47,
   "metadata": {},
   "outputs": [],
   "source": [
    "repeat_donors_zoom = no_monthly_by_gifts.loc[(no_monthly_by_gifts['number_of_gifts'] > 1) & (no_monthly_by_gifts['number_of_gifts'] < 50)]"
   ]
  },
  {
   "cell_type": "code",
   "execution_count": 48,
   "metadata": {},
   "outputs": [
    {
     "name": "stderr",
     "output_type": "stream",
     "text": [
      "/home/thebbennett/anaconda3/lib/python3.6/site-packages/scipy/stats/stats.py:1713: FutureWarning: Using a non-tuple sequence for multidimensional indexing is deprecated; use `arr[tuple(seq)]` instead of `arr[seq]`. In the future this will be interpreted as an array index, `arr[np.array(seq)]`, which will result either in an error or a different result.\n",
      "  return np.add.reduce(sorted[indexer] * weights, axis=axis) / sumval\n"
     ]
    },
    {
     "data": {
      "text/plain": [
       "<matplotlib.axes._subplots.AxesSubplot at 0x7fcbaf042080>"
      ]
     },
     "execution_count": 48,
     "metadata": {},
     "output_type": "execute_result"
    },
    {
     "data": {
      "image/png": "[encoded data removed]",
      "text/plain": [
       "<Figure size 432x288 with 1 Axes>"
      ]
     },
     "metadata": {},
     "output_type": "display_data"
    }
   ],
   "source": [
    "sns.distplot(repeat_donors_zoom['number_of_gifts'])"
   ]
  },
  {
   "cell_type": "code",
   "execution_count": 49,
   "metadata": {},
   "outputs": [
    {
     "data": {
      "image/png": "[encoded data removed]",
      "text/plain": [
       "<Figure size 432x288 with 1 Axes>"
      ]
     },
     "metadata": {},
     "output_type": "display_data"
    }
   ],
   "source": [
    "ax = sns.boxplot(x=repeat_donors[\"number_of_gifts\"])"
   ]
  },
  {
   "cell_type": "code",
   "execution_count": 50,
   "metadata": {},
   "outputs": [
    {
     "data": {
      "text/html": [
       "<div>\n",
       "<style scoped>\n",
       "    .dataframe tbody tr th:only-of-type {\n",
       "        vertical-align: middle;\n",
       "    }\n",
       "\n",
       "    .dataframe tbody tr th {\n",
       "        vertical-align: top;\n",
       "    }\n",
       "\n",
       "    .dataframe thead th {\n",
       "        text-align: right;\n",
       "    }\n",
       "</style>\n",
       "<table border=\"1\" class=\"dataframe\">\n",
       "  <thead>\n",
       "    <tr style=\"text-align: right;\">\n",
       "      <th></th>\n",
       "      <th>number_of_gifts</th>\n",
       "    </tr>\n",
       "  </thead>\n",
       "  <tbody>\n",
       "    <tr>\n",
       "      <th>count</th>\n",
       "      <td>644.000000</td>\n",
       "    </tr>\n",
       "    <tr>\n",
       "      <th>mean</th>\n",
       "      <td>8.021739</td>\n",
       "    </tr>\n",
       "    <tr>\n",
       "      <th>std</th>\n",
       "      <td>10.356904</td>\n",
       "    </tr>\n",
       "    <tr>\n",
       "      <th>min</th>\n",
       "      <td>2.000000</td>\n",
       "    </tr>\n",
       "    <tr>\n",
       "      <th>25%</th>\n",
       "      <td>2.000000</td>\n",
       "    </tr>\n",
       "    <tr>\n",
       "      <th>50%</th>\n",
       "      <td>3.500000</td>\n",
       "    </tr>\n",
       "    <tr>\n",
       "      <th>75%</th>\n",
       "      <td>9.000000</td>\n",
       "    </tr>\n",
       "    <tr>\n",
       "      <th>max</th>\n",
       "      <td>77.000000</td>\n",
       "    </tr>\n",
       "  </tbody>\n",
       "</table>\n",
       "</div>"
      ],
      "text/plain": [
       "       number_of_gifts\n",
       "count       644.000000\n",
       "mean          8.021739\n",
       "std          10.356904\n",
       "min           2.000000\n",
       "25%           2.000000\n",
       "50%           3.500000\n",
       "75%           9.000000\n",
       "max          77.000000"
      ]
     },
     "execution_count": 50,
     "metadata": {},
     "output_type": "execute_result"
    }
   ],
   "source": [
    "repeat_donors.describe()"
   ]
  },
  {
   "cell_type": "code",
   "execution_count": null,
   "metadata": {},
   "outputs": [],
   "source": []
  },
  {
   "cell_type": "code",
   "execution_count": 51,
   "metadata": {},
   "outputs": [
    {
     "data": {
      "text/plain": [
       "1254"
      ]
     },
     "execution_count": 51,
     "metadata": {},
     "output_type": "execute_result"
    }
   ],
   "source": [
    "i1 = no_monthly.index\n",
    "i2 = repeat_donors.index\n",
    "len(no_monthly[~i1.isin(i2)])\n"
   ]
  },
  {
   "cell_type": "markdown",
   "metadata": {},
   "source": [
    "New Era has 826 donors that have given more than 1 gift (compared to 1,316 that have only given once). The average "
   ]
  }
 ],
 "metadata": {
  "kernelspec": {
   "display_name": "Python 3",
   "language": "python",
   "name": "python3"
  },
  "language_info": {
   "codemirror_mode": {
    "name": "ipython",
    "version": 3
   },
   "file_extension": ".py",
   "mimetype": "text/x-python",
   "name": "python",
   "nbconvert_exporter": "python",
   "pygments_lexer": "ipython3",
   "version": "3.6.6"
  }
 },
 "nbformat": 4,
 "nbformat_minor": 2
}
