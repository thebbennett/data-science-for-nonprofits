{
 "cells": [
  {
   "cell_type": "markdown",
   "metadata": {},
   "source": [
    "# Historical Donor Data Analysis \n",
    "\n",
    "Where had this nonprofit's fundraising programming has gone well, and where there was room for improvement.  \n",
    "\n",
    "**Who**\n",
    "All individual donors who gave to the c3 recorded in NGP, minus monthly donors. We have  \n",
    "We’re working with 7,392 donors in this analysis.\n",
    "\n",
    "**Approach**\n",
    "This is what I would call an “exploratory data analysis.” My goal here was to simply understand or donor data and start asking questions. Like every good analysis, I wound up with more questions than I was able to answer.   \n",
    "\n",
    "**I started my analysis by asking the questions:**  \n",
    "How many of our donors give below \\\\$100? Below \\\\$500? Below \\\\$1,000?  \n",
    "What’s the average lifetime value of our donors?  \n",
    "How many of our donors give once and then never again?  \n",
    "Who loves us the most (donors with the most gifts)?  \n"
   ]
  },
  {
   "cell_type": "code",
   "execution_count": 1,
   "metadata": {},
   "outputs": [],
   "source": [
    "# load the necessary packages\n",
    "import pandas as pd\n",
    "import numpy as np\n",
    "import matplotlib.pyplot as plt\n",
    "import seaborn as sns\n",
    "%matplotlib inline"
   ]
  },
  {
   "cell_type": "code",
   "execution_count": 10,
   "metadata": {},
   "outputs": [],
   "source": [
    "# read in the data for the c4 and the c3\n",
    "c3 = pd.read_csv(\"data/all_c3_donors.Csv\")\n",
    "c4 = pd.read_csv(\"data/all_c4_donors.csv\")"
   ]
  },
  {
   "cell_type": "markdown",
   "metadata": {},
   "source": [
    "# c3 Donors\n",
    "## The Data"
   ]
  },
  {
   "cell_type": "code",
   "execution_count": 27,
   "metadata": {},
   "outputs": [
    {
     "name": "stderr",
     "output_type": "stream",
     "text": [
      "/home/thebbennett/anaconda3/lib/python3.6/site-packages/ipykernel_launcher.py:3: SettingWithCopyWarning: \n",
      "A value is trying to be set on a copy of a slice from a DataFrame.\n",
      "Try using .loc[row_indexer,col_indexer] = value instead\n",
      "\n",
      "See the caveats in the documentation: http://pandas.pydata.org/pandas-docs/stable/indexing.html#indexing-view-versus-copy\n",
      "  This is separate from the ipykernel package so we can avoid doing imports until\n"
     ]
    },
    {
     "data": {
      "text/html": [
       "<div>\n",
       "<style scoped>\n",
       "    .dataframe tbody tr th:only-of-type {\n",
       "        vertical-align: middle;\n",
       "    }\n",
       "\n",
       "    .dataframe tbody tr th {\n",
       "        vertical-align: top;\n",
       "    }\n",
       "\n",
       "    .dataframe thead th {\n",
       "        text-align: right;\n",
       "    }\n",
       "</style>\n",
       "<table border=\"1\" class=\"dataframe\">\n",
       "  <thead>\n",
       "    <tr style=\"text-align: right;\">\n",
       "      <th></th>\n",
       "      <th>date</th>\n",
       "      <th>amount</th>\n",
       "      <th>name</th>\n",
       "    </tr>\n",
       "  </thead>\n",
       "  <tbody>\n",
       "    <tr>\n",
       "      <th>0</th>\n",
       "      <td>06/15/2013</td>\n",
       "      <td>25.0</td>\n",
       "      <td>1900</td>\n",
       "    </tr>\n",
       "    <tr>\n",
       "      <th>1</th>\n",
       "      <td>07/08/2011</td>\n",
       "      <td>2000.0</td>\n",
       "      <td>4112</td>\n",
       "    </tr>\n",
       "    <tr>\n",
       "      <th>2</th>\n",
       "      <td>09/03/2013</td>\n",
       "      <td>25.0</td>\n",
       "      <td>4182</td>\n",
       "    </tr>\n",
       "    <tr>\n",
       "      <th>3</th>\n",
       "      <td>10/11/2013</td>\n",
       "      <td>100.0</td>\n",
       "      <td>1966</td>\n",
       "    </tr>\n",
       "    <tr>\n",
       "      <th>4</th>\n",
       "      <td>09/03/2013</td>\n",
       "      <td>25.0</td>\n",
       "      <td>1973</td>\n",
       "    </tr>\n",
       "    <tr>\n",
       "      <th>5</th>\n",
       "      <td>09/03/2013</td>\n",
       "      <td>10.0</td>\n",
       "      <td>2004</td>\n",
       "    </tr>\n",
       "    <tr>\n",
       "      <th>6</th>\n",
       "      <td>09/13/2013</td>\n",
       "      <td>1.0</td>\n",
       "      <td>2028</td>\n",
       "    </tr>\n",
       "    <tr>\n",
       "      <th>7</th>\n",
       "      <td>05/15/2014</td>\n",
       "      <td>10.0</td>\n",
       "      <td>2145</td>\n",
       "    </tr>\n",
       "    <tr>\n",
       "      <th>8</th>\n",
       "      <td>08/26/2014</td>\n",
       "      <td>10.0</td>\n",
       "      <td>2145</td>\n",
       "    </tr>\n",
       "    <tr>\n",
       "      <th>9</th>\n",
       "      <td>09/02/2013</td>\n",
       "      <td>5.0</td>\n",
       "      <td>4367</td>\n",
       "    </tr>\n",
       "  </tbody>\n",
       "</table>\n",
       "</div>"
      ],
      "text/plain": [
       "         date  amount  name\n",
       "0  06/15/2013    25.0  1900\n",
       "1  07/08/2011  2000.0  4112\n",
       "2  09/03/2013    25.0  4182\n",
       "3  10/11/2013   100.0  1966\n",
       "4  09/03/2013    25.0  1973\n",
       "5  09/03/2013    10.0  2004\n",
       "6  09/13/2013     1.0  2028\n",
       "7  05/15/2014    10.0  2145\n",
       "8  08/26/2014    10.0  2145\n",
       "9  09/02/2013     5.0  4367"
      ]
     },
     "execution_count": 27,
     "metadata": {},
     "output_type": "execute_result"
    }
   ],
   "source": [
    "# Let's make the donors anonymous \n",
    "c3_small = c3.iloc[:,[2,3,11]]\n",
    "c3_small.columns = ['date', 'amount', 'name']\n",
    "c3_small[\"name\"] = c3_small[\"name\"].astype('category').cat.codes\n",
    "c3_small.head(10)"
   ]
  },
  {
   "cell_type": "code",
   "execution_count": 29,
   "metadata": {},
   "outputs": [
    {
     "data": {
      "text/html": [
       "<div>\n",
       "<style scoped>\n",
       "    .dataframe tbody tr th:only-of-type {\n",
       "        vertical-align: middle;\n",
       "    }\n",
       "\n",
       "    .dataframe tbody tr th {\n",
       "        vertical-align: top;\n",
       "    }\n",
       "\n",
       "    .dataframe thead th {\n",
       "        text-align: right;\n",
       "    }\n",
       "</style>\n",
       "<table border=\"1\" class=\"dataframe\">\n",
       "  <thead>\n",
       "    <tr style=\"text-align: right;\">\n",
       "      <th></th>\n",
       "      <th>lifetime_amount</th>\n",
       "    </tr>\n",
       "    <tr>\n",
       "      <th>name</th>\n",
       "      <th></th>\n",
       "    </tr>\n",
       "  </thead>\n",
       "  <tbody>\n",
       "    <tr>\n",
       "      <th>4421</th>\n",
       "      <td>301000.0</td>\n",
       "    </tr>\n",
       "    <tr>\n",
       "      <th>673</th>\n",
       "      <td>50000.0</td>\n",
       "    </tr>\n",
       "    <tr>\n",
       "      <th>5780</th>\n",
       "      <td>50000.0</td>\n",
       "    </tr>\n",
       "    <tr>\n",
       "      <th>6974</th>\n",
       "      <td>35500.0</td>\n",
       "    </tr>\n",
       "    <tr>\n",
       "      <th>813</th>\n",
       "      <td>35000.0</td>\n",
       "    </tr>\n",
       "    <tr>\n",
       "      <th>6980</th>\n",
       "      <td>35000.0</td>\n",
       "    </tr>\n",
       "    <tr>\n",
       "      <th>3537</th>\n",
       "      <td>30555.0</td>\n",
       "    </tr>\n",
       "    <tr>\n",
       "      <th>1456</th>\n",
       "      <td>26100.0</td>\n",
       "    </tr>\n",
       "    <tr>\n",
       "      <th>6093</th>\n",
       "      <td>25000.0</td>\n",
       "    </tr>\n",
       "    <tr>\n",
       "      <th>5906</th>\n",
       "      <td>25000.0</td>\n",
       "    </tr>\n",
       "    <tr>\n",
       "      <th>3058</th>\n",
       "      <td>25000.0</td>\n",
       "    </tr>\n",
       "    <tr>\n",
       "      <th>3521</th>\n",
       "      <td>23000.0</td>\n",
       "    </tr>\n",
       "    <tr>\n",
       "      <th>4565</th>\n",
       "      <td>20885.0</td>\n",
       "    </tr>\n",
       "    <tr>\n",
       "      <th>3475</th>\n",
       "      <td>18000.0</td>\n",
       "    </tr>\n",
       "    <tr>\n",
       "      <th>3887</th>\n",
       "      <td>16000.0</td>\n",
       "    </tr>\n",
       "  </tbody>\n",
       "</table>\n",
       "</div>"
      ],
      "text/plain": [
       "      lifetime_amount\n",
       "name                 \n",
       "4421         301000.0\n",
       "673           50000.0\n",
       "5780          50000.0\n",
       "6974          35500.0\n",
       "813           35000.0\n",
       "6980          35000.0\n",
       "3537          30555.0\n",
       "1456          26100.0\n",
       "6093          25000.0\n",
       "5906          25000.0\n",
       "3058          25000.0\n",
       "3521          23000.0\n",
       "4565          20885.0\n",
       "3475          18000.0\n",
       "3887          16000.0"
      ]
     },
     "execution_count": 29,
     "metadata": {},
     "output_type": "execute_result"
    }
   ],
   "source": [
    "# What are the lifetime amounts of our top donors?\n",
    "donors_by_lifetime = c3_small.groupby(['name'])['amount'].sum().sort_values(ascending = False).to_frame()\n",
    "donors_by_lifetime.columns = ['lifetime_amount']\n",
    "donors_by_lifetime.head(15)"
   ]
  },
  {
   "cell_type": "markdown",
   "metadata": {},
   "source": [
    "## Distribution of lifetime amount  1 to 100"
   ]
  },
  {
   "cell_type": "code",
   "execution_count": 30,
   "metadata": {},
   "outputs": [],
   "source": [
    "sub_100 = donors_by_lifetime.loc[donors_by_lifetime[\"lifetime_amount\"] <= 100]"
   ]
  },
  {
   "cell_type": "code",
   "execution_count": 31,
   "metadata": {},
   "outputs": [
    {
     "name": "stderr",
     "output_type": "stream",
     "text": [
      "/home/thebbennett/anaconda3/lib/python3.6/site-packages/scipy/stats/stats.py:1713: FutureWarning: Using a non-tuple sequence for multidimensional indexing is deprecated; use `arr[tuple(seq)]` instead of `arr[seq]`. In the future this will be interpreted as an array index, `arr[np.array(seq)]`, which will result either in an error or a different result.\n",
      "  return np.add.reduce(sorted[indexer] * weights, axis=axis) / sumval\n"
     ]
    },
    {
     "data": {
      "text/plain": [
       "<matplotlib.axes._subplots.AxesSubplot at 0x7f91a5763f98>"
      ]
     },
     "execution_count": 31,
     "metadata": {},
     "output_type": "execute_result"
    },
    {
     "data": {
      "image/png": "[encoded data removed]",
      "text/plain": [
       "<Figure size 842.4x595.44 with 1 Axes>"
      ]
     },
     "metadata": {},
     "output_type": "display_data"
    }
   ],
   "source": [
    "a4_dims = (11.7, 8.27)\n",
    "fig, ax = plt.subplots(figsize=a4_dims)\n",
    "sns.distplot(sub_100['lifetime_amount'], bins = 20)"
   ]
  },
  {
   "cell_type": "markdown",
   "metadata": {},
   "source": [
    "## Removing the One Time Kickstarter Folk"
   ]
  },
  {
   "cell_type": "markdown",
   "metadata": {},
   "source": [
    "25% of our donors have a lifetime amount of $25. We know that this nonprofit had a one-time global kickstarter campaign that racked up tons of one-time small-dollar gifts. We should absolutely filter these folk out of our analysis.  \n",
    "\n",
    "Let's find the source code that corresponds to these folk."
   ]
  },
  {
   "cell_type": "code",
   "execution_count": 86,
   "metadata": {},
   "outputs": [
    {
     "data": {
      "text/plain": [
       "lifetime_amount    0.255166\n",
       "dtype: float64"
      ]
     },
     "execution_count": 86,
     "metadata": {},
     "output_type": "execute_result"
    }
   ],
   "source": [
    "donors_by_lifetime.loc[donors_by_lifetime[\"lifetime_amount\"] == 25].count()/len(donors_by_lifetime)"
   ]
  },
  {
   "cell_type": "code",
   "execution_count": 99,
   "metadata": {},
   "outputs": [],
   "source": [
    "c3_clean = c3\n",
    "c3_clean[\" Contact Name\"] = c3_clean[\" Contact Name\"].astype('category').cat.codes\n",
    "c3_clean = c3_clean.set_index(\" Contact Name\")\n"
   ]
  },
  {
   "cell_type": "code",
   "execution_count": 100,
   "metadata": {},
   "outputs": [
    {
     "data": {
      "text/html": [
       "<div>\n",
       "<style scoped>\n",
       "    .dataframe tbody tr th:only-of-type {\n",
       "        vertical-align: middle;\n",
       "    }\n",
       "\n",
       "    .dataframe tbody tr th {\n",
       "        vertical-align: top;\n",
       "    }\n",
       "\n",
       "    .dataframe thead th {\n",
       "        text-align: right;\n",
       "    }\n",
       "</style>\n",
       "<table border=\"1\" class=\"dataframe\">\n",
       "  <thead>\n",
       "    <tr style=\"text-align: right;\">\n",
       "      <th></th>\n",
       "      <th>Count</th>\n",
       "      <th>Contribution ID</th>\n",
       "      <th>Received On</th>\n",
       "      <th>Amount</th>\n",
       "      <th>Designation</th>\n",
       "      <th>Contribution Type</th>\n",
       "      <th>Cycle</th>\n",
       "      <th>Period</th>\n",
       "      <th>Contribution.Note</th>\n",
       "      <th>Source Code Path</th>\n",
       "      <th>Contact ID</th>\n",
       "    </tr>\n",
       "    <tr>\n",
       "      <th>Contact Name</th>\n",
       "      <th></th>\n",
       "      <th></th>\n",
       "      <th></th>\n",
       "      <th></th>\n",
       "      <th></th>\n",
       "      <th></th>\n",
       "      <th></th>\n",
       "      <th></th>\n",
       "      <th></th>\n",
       "      <th></th>\n",
       "      <th></th>\n",
       "    </tr>\n",
       "  </thead>\n",
       "  <tbody>\n",
       "    <tr>\n",
       "      <th>1903</th>\n",
       "      <td>NaN</td>\n",
       "      <td>VNW16CXS6W4</td>\n",
       "      <td>2013-06-15</td>\n",
       "      <td>25.0</td>\n",
       "      <td>New Era Colorado Foundation</td>\n",
       "      <td>Monetary Contribution</td>\n",
       "      <td>NaN</td>\n",
       "      <td>NaN</td>\n",
       "      <td>NaN</td>\n",
       "      <td>NaN</td>\n",
       "      <td>VNX0EGHM673</td>\n",
       "    </tr>\n",
       "    <tr>\n",
       "      <th>4115</th>\n",
       "      <td>NaN</td>\n",
       "      <td>VNW16CGKCY8</td>\n",
       "      <td>2011-07-08</td>\n",
       "      <td>2000.0</td>\n",
       "      <td>New Era Colorado Foundation</td>\n",
       "      <td>Monetary Contribution</td>\n",
       "      <td>NaN</td>\n",
       "      <td>NaN</td>\n",
       "      <td>NaN</td>\n",
       "      <td>NaN</td>\n",
       "      <td>VNX0EGHGYZ0</td>\n",
       "    </tr>\n",
       "    <tr>\n",
       "      <th>4185</th>\n",
       "      <td>NaN</td>\n",
       "      <td>VNW16CGENE0</td>\n",
       "      <td>2013-09-03</td>\n",
       "      <td>25.0</td>\n",
       "      <td>New Era Colorado Foundation</td>\n",
       "      <td>Monetary Contribution</td>\n",
       "      <td>NaN</td>\n",
       "      <td>NaN</td>\n",
       "      <td>NaN</td>\n",
       "      <td>NaN</td>\n",
       "      <td>VNX0EGH1BC4</td>\n",
       "    </tr>\n",
       "    <tr>\n",
       "      <th>1969</th>\n",
       "      <td>NaN</td>\n",
       "      <td>VNW16CGJP70</td>\n",
       "      <td>2013-10-11</td>\n",
       "      <td>100.0</td>\n",
       "      <td>New Era Colorado Foundation</td>\n",
       "      <td>Monetary Contribution</td>\n",
       "      <td>NaN</td>\n",
       "      <td>NaN</td>\n",
       "      <td>NaN</td>\n",
       "      <td>NaN</td>\n",
       "      <td>VNX0EGHVH14</td>\n",
       "    </tr>\n",
       "    <tr>\n",
       "      <th>1976</th>\n",
       "      <td>NaN</td>\n",
       "      <td>VNW16CGBAE5</td>\n",
       "      <td>2013-09-03</td>\n",
       "      <td>25.0</td>\n",
       "      <td>New Era Colorado Foundation</td>\n",
       "      <td>Monetary Contribution</td>\n",
       "      <td>NaN</td>\n",
       "      <td>NaN</td>\n",
       "      <td>NaN</td>\n",
       "      <td>NaN</td>\n",
       "      <td>VNX0EGGZJ57</td>\n",
       "    </tr>\n",
       "  </tbody>\n",
       "</table>\n",
       "</div>"
      ],
      "text/plain": [
       "               Count Contribution ID Received On  Amount  \\\n",
       " Contact Name                                              \n",
       "1903             NaN     VNW16CXS6W4  2013-06-15    25.0   \n",
       "4115             NaN     VNW16CGKCY8  2011-07-08  2000.0   \n",
       "4185             NaN     VNW16CGENE0  2013-09-03    25.0   \n",
       "1969             NaN     VNW16CGJP70  2013-10-11   100.0   \n",
       "1976             NaN     VNW16CGBAE5  2013-09-03    25.0   \n",
       "\n",
       "                               Designation      Contribution Type  Cycle  \\\n",
       " Contact Name                                                              \n",
       "1903           New Era Colorado Foundation  Monetary Contribution    NaN   \n",
       "4115           New Era Colorado Foundation  Monetary Contribution    NaN   \n",
       "4185           New Era Colorado Foundation  Monetary Contribution    NaN   \n",
       "1969           New Era Colorado Foundation  Monetary Contribution    NaN   \n",
       "1976           New Era Colorado Foundation  Monetary Contribution    NaN   \n",
       "\n",
       "              Period Contribution.Note  Source Code Path   Contact ID  \n",
       " Contact Name                                                          \n",
       "1903             NaN               NaN               NaN  VNX0EGHM673  \n",
       "4115             NaN               NaN               NaN  VNX0EGHGYZ0  \n",
       "4185             NaN               NaN               NaN  VNX0EGH1BC4  \n",
       "1969             NaN               NaN               NaN  VNX0EGHVH14  \n",
       "1976             NaN               NaN               NaN  VNX0EGGZJ57  "
      ]
     },
     "execution_count": 100,
     "metadata": {},
     "output_type": "execute_result"
    }
   ],
   "source": [
    "c3_clean[\"Received On\"] = pd.to_datetime(c3_clean[\"Received On\"])\n",
    "c3_clean.head()"
   ]
  },
  {
   "cell_type": "code",
   "execution_count": 101,
   "metadata": {},
   "outputs": [
    {
     "data": {
      "text/plain": [
       "<matplotlib.axes._subplots.AxesSubplot at 0x7f919a3d8fd0>"
      ]
     },
     "execution_count": 101,
     "metadata": {},
     "output_type": "execute_result"
    },
    {
     "data": {
      "image/png": "[encoded data removed]",
      "text/plain": [
       "<Figure size 432x288 with 1 Axes>"
      ]
     },
     "metadata": {},
     "output_type": "display_data"
    }
   ],
   "source": [
    "c3_clean.groupby(c3_clean[\"Received On\"].dt.year).count().plot(kind=\"bar\")\n"
   ]
  },
  {
   "cell_type": "code",
   "execution_count": 102,
   "metadata": {},
   "outputs": [
    {
     "data": {
      "text/plain": [
       "<function datetime.strptime>"
      ]
     },
     "execution_count": 102,
     "metadata": {},
     "output_type": "execute_result"
    }
   ],
   "source": [
    "import datetime\n",
    "datetime.datetime.strptime\n"
   ]
  },
  {
   "cell_type": "code",
   "execution_count": 106,
   "metadata": {},
   "outputs": [
    {
     "data": {
      "text/html": [
       "<div>\n",
       "<style scoped>\n",
       "    .dataframe tbody tr th:only-of-type {\n",
       "        vertical-align: middle;\n",
       "    }\n",
       "\n",
       "    .dataframe tbody tr th {\n",
       "        vertical-align: top;\n",
       "    }\n",
       "\n",
       "    .dataframe thead th {\n",
       "        text-align: right;\n",
       "    }\n",
       "</style>\n",
       "<table border=\"1\" class=\"dataframe\">\n",
       "  <thead>\n",
       "    <tr style=\"text-align: right;\">\n",
       "      <th></th>\n",
       "      <th>Count</th>\n",
       "      <th>Contribution ID</th>\n",
       "      <th>Received On</th>\n",
       "      <th>Amount</th>\n",
       "      <th>Designation</th>\n",
       "      <th>Contribution Type</th>\n",
       "      <th>Cycle</th>\n",
       "      <th>Period</th>\n",
       "      <th>Contribution.Note</th>\n",
       "      <th>Source Code Path</th>\n",
       "      <th>Contact ID</th>\n",
       "    </tr>\n",
       "    <tr>\n",
       "      <th>Contact Name</th>\n",
       "      <th></th>\n",
       "      <th></th>\n",
       "      <th></th>\n",
       "      <th></th>\n",
       "      <th></th>\n",
       "      <th></th>\n",
       "      <th></th>\n",
       "      <th></th>\n",
       "      <th></th>\n",
       "      <th></th>\n",
       "      <th></th>\n",
       "    </tr>\n",
       "  </thead>\n",
       "  <tbody>\n",
       "    <tr>\n",
       "      <th>1903</th>\n",
       "      <td>NaN</td>\n",
       "      <td>VNW16CXS6W4</td>\n",
       "      <td>2013-06-15</td>\n",
       "      <td>25.0</td>\n",
       "      <td>New Era Colorado Foundation</td>\n",
       "      <td>Monetary Contribution</td>\n",
       "      <td>NaN</td>\n",
       "      <td>NaN</td>\n",
       "      <td>NaN</td>\n",
       "      <td>NaN</td>\n",
       "      <td>VNX0EGHM673</td>\n",
       "    </tr>\n",
       "    <tr>\n",
       "      <th>4185</th>\n",
       "      <td>NaN</td>\n",
       "      <td>VNW16CGENE0</td>\n",
       "      <td>2013-09-03</td>\n",
       "      <td>25.0</td>\n",
       "      <td>New Era Colorado Foundation</td>\n",
       "      <td>Monetary Contribution</td>\n",
       "      <td>NaN</td>\n",
       "      <td>NaN</td>\n",
       "      <td>NaN</td>\n",
       "      <td>NaN</td>\n",
       "      <td>VNX0EGH1BC4</td>\n",
       "    </tr>\n",
       "    <tr>\n",
       "      <th>1969</th>\n",
       "      <td>NaN</td>\n",
       "      <td>VNW16CGJP70</td>\n",
       "      <td>2013-10-11</td>\n",
       "      <td>100.0</td>\n",
       "      <td>New Era Colorado Foundation</td>\n",
       "      <td>Monetary Contribution</td>\n",
       "      <td>NaN</td>\n",
       "      <td>NaN</td>\n",
       "      <td>NaN</td>\n",
       "      <td>NaN</td>\n",
       "      <td>VNX0EGHVH14</td>\n",
       "    </tr>\n",
       "    <tr>\n",
       "      <th>1976</th>\n",
       "      <td>NaN</td>\n",
       "      <td>VNW16CGBAE5</td>\n",
       "      <td>2013-09-03</td>\n",
       "      <td>25.0</td>\n",
       "      <td>New Era Colorado Foundation</td>\n",
       "      <td>Monetary Contribution</td>\n",
       "      <td>NaN</td>\n",
       "      <td>NaN</td>\n",
       "      <td>NaN</td>\n",
       "      <td>NaN</td>\n",
       "      <td>VNX0EGGZJ57</td>\n",
       "    </tr>\n",
       "    <tr>\n",
       "      <th>2007</th>\n",
       "      <td>NaN</td>\n",
       "      <td>VNW16CGB8W0</td>\n",
       "      <td>2013-09-03</td>\n",
       "      <td>10.0</td>\n",
       "      <td>New Era Colorado Foundation</td>\n",
       "      <td>Monetary Contribution</td>\n",
       "      <td>NaN</td>\n",
       "      <td>NaN</td>\n",
       "      <td>NaN</td>\n",
       "      <td>NaN</td>\n",
       "      <td>VNX0EGH0TA2</td>\n",
       "    </tr>\n",
       "  </tbody>\n",
       "</table>\n",
       "</div>"
      ],
      "text/plain": [
       "               Count Contribution ID Received On  Amount  \\\n",
       " Contact Name                                              \n",
       "1903             NaN     VNW16CXS6W4  2013-06-15    25.0   \n",
       "4185             NaN     VNW16CGENE0  2013-09-03    25.0   \n",
       "1969             NaN     VNW16CGJP70  2013-10-11   100.0   \n",
       "1976             NaN     VNW16CGBAE5  2013-09-03    25.0   \n",
       "2007             NaN     VNW16CGB8W0  2013-09-03    10.0   \n",
       "\n",
       "                               Designation      Contribution Type  Cycle  \\\n",
       " Contact Name                                                              \n",
       "1903           New Era Colorado Foundation  Monetary Contribution    NaN   \n",
       "4185           New Era Colorado Foundation  Monetary Contribution    NaN   \n",
       "1969           New Era Colorado Foundation  Monetary Contribution    NaN   \n",
       "1976           New Era Colorado Foundation  Monetary Contribution    NaN   \n",
       "2007           New Era Colorado Foundation  Monetary Contribution    NaN   \n",
       "\n",
       "              Period Contribution.Note  Source Code Path   Contact ID  \n",
       " Contact Name                                                          \n",
       "1903             NaN               NaN               NaN  VNX0EGHM673  \n",
       "4185             NaN               NaN               NaN  VNX0EGH1BC4  \n",
       "1969             NaN               NaN               NaN  VNX0EGHVH14  \n",
       "1976             NaN               NaN               NaN  VNX0EGGZJ57  \n",
       "2007             NaN               NaN               NaN  VNX0EGH0TA2  "
      ]
     },
     "execution_count": 106,
     "metadata": {},
     "output_type": "execute_result"
    }
   ],
   "source": [
    "c3_clean = c3_clean[c3_clean['Received On'].apply(lambda x: x.year == 2013)]\n",
    "c3_clean.head()"
   ]
  },
  {
   "cell_type": "markdown",
   "metadata": {},
   "source": [
    "Bingo. The crowdfunding campaign occured in September of 2013."
   ]
  },
  {
   "cell_type": "code",
   "execution_count": 110,
   "metadata": {},
   "outputs": [
    {
     "data": {
      "text/plain": [
       "<matplotlib.axes._subplots.AxesSubplot at 0x7f919a0fa0f0>"
      ]
     },
     "execution_count": 110,
     "metadata": {},
     "output_type": "execute_result"
    },
    {
     "data": {
      "image/png": "[encoded data removed]",
      "text/plain": [
       "<Figure size 432x288 with 1 Axes>"
      ]
     },
     "metadata": {},
     "output_type": "display_data"
    }
   ],
   "source": [
    "c3_clean.groupby(c3_clean[\"Received On\"].dt.month).count().plot(kind=\"bar\")\n"
   ]
  },
  {
   "cell_type": "code",
   "execution_count": null,
   "metadata": {},
   "outputs": [],
   "source": []
  },
  {
   "cell_type": "code",
   "execution_count": null,
   "metadata": {},
   "outputs": [],
   "source": []
  },
  {
   "cell_type": "code",
   "execution_count": null,
   "metadata": {},
   "outputs": [],
   "source": []
  },
  {
   "cell_type": "code",
   "execution_count": 159,
   "metadata": {},
   "outputs": [],
   "source": [
    "donors_100_1000 = donors_by_lifetime.loc[(donors_by_lifetime[\"lifetime_amount\"] > 100) & (donors_by_lifetime[\"lifetime_amount\"] <= 1000)]"
   ]
  },
  {
   "cell_type": "code",
   "execution_count": 271,
   "metadata": {},
   "outputs": [
    {
     "name": "stderr",
     "output_type": "stream",
     "text": [
      "/home/thebbennett/anaconda3/lib/python3.6/site-packages/scipy/stats/stats.py:1713: FutureWarning: Using a non-tuple sequence for multidimensional indexing is deprecated; use `arr[tuple(seq)]` instead of `arr[seq]`. In the future this will be interpreted as an array index, `arr[np.array(seq)]`, which will result either in an error or a different result.\n",
      "  return np.add.reduce(sorted[indexer] * weights, axis=axis) / sumval\n"
     ]
    },
    {
     "data": {
      "text/plain": [
       "<matplotlib.axes._subplots.AxesSubplot at 0x7f23b48d5748>"
      ]
     },
     "execution_count": 271,
     "metadata": {},
     "output_type": "execute_result"
    },
    {
     "data": {
      "image/png": "[encoded data removed]",
      "text/plain": [
       "<Figure size 842.4x595.44 with 1 Axes>"
      ]
     },
     "metadata": {},
     "output_type": "display_data"
    }
   ],
   "source": [
    "a4_dims = (11.7, 8.27)\n",
    "fig, ax = plt.subplots(figsize=a4_dims)\n",
    "\n",
    "sns.distplot(donors_100_1000['lifetime_amount'], bins = 30)"
   ]
  },
  {
   "cell_type": "code",
   "execution_count": 164,
   "metadata": {},
   "outputs": [],
   "source": [
    "donors_1000_10000 = donors_by_lifetime.loc[(donors_by_lifetime[\"lifetime_amount\"] > 1000) & (donors_by_lifetime[\"lifetime_amount\"] <= 10000)]"
   ]
  },
  {
   "cell_type": "code",
   "execution_count": 272,
   "metadata": {},
   "outputs": [
    {
     "name": "stderr",
     "output_type": "stream",
     "text": [
      "/home/thebbennett/anaconda3/lib/python3.6/site-packages/scipy/stats/stats.py:1713: FutureWarning: Using a non-tuple sequence for multidimensional indexing is deprecated; use `arr[tuple(seq)]` instead of `arr[seq]`. In the future this will be interpreted as an array index, `arr[np.array(seq)]`, which will result either in an error or a different result.\n",
      "  return np.add.reduce(sorted[indexer] * weights, axis=axis) / sumval\n"
     ]
    },
    {
     "data": {
      "text/plain": [
       "<matplotlib.axes._subplots.AxesSubplot at 0x7f23b48e7748>"
      ]
     },
     "execution_count": 272,
     "metadata": {},
     "output_type": "execute_result"
    },
    {
     "data": {
      "image/png": "[encoded data removed]",
      "text/plain": [
       "<Figure size 842.4x595.44 with 1 Axes>"
      ]
     },
     "metadata": {},
     "output_type": "display_data"
    }
   ],
   "source": [
    "a4_dims = (11.7, 8.27)\n",
    "fig, ax = plt.subplots(figsize=a4_dims)\n",
    "\n",
    "sns.distplot(donors_1000_10000['lifetime_amount'], bins = 30)"
   ]
  },
  {
   "cell_type": "markdown",
   "metadata": {},
   "source": [
    "## Distribution of lifetime amounts of 900 to 1,500 \n",
    "As we can see, we have a large number of donors with a lifetime amount of $1,000... why aren't they giving more past this amount?"
   ]
  },
  {
   "cell_type": "code",
   "execution_count": 282,
   "metadata": {},
   "outputs": [],
   "source": [
    "donors_900_1500 = donors_by_lifetime.loc[(donors_by_lifetime[\"lifetime_amount\"] > 900) & (donors_by_lifetime[\"lifetime_amount\"] <= 10000)]"
   ]
  },
  {
   "cell_type": "code",
   "execution_count": 283,
   "metadata": {},
   "outputs": [
    {
     "name": "stderr",
     "output_type": "stream",
     "text": [
      "/home/thebbennett/anaconda3/lib/python3.6/site-packages/scipy/stats/stats.py:1713: FutureWarning: Using a non-tuple sequence for multidimensional indexing is deprecated; use `arr[tuple(seq)]` instead of `arr[seq]`. In the future this will be interpreted as an array index, `arr[np.array(seq)]`, which will result either in an error or a different result.\n",
      "  return np.add.reduce(sorted[indexer] * weights, axis=axis) / sumval\n"
     ]
    },
    {
     "data": {
      "text/plain": [
       "<matplotlib.axes._subplots.AxesSubplot at 0x7f23b45b3550>"
      ]
     },
     "execution_count": 283,
     "metadata": {},
     "output_type": "execute_result"
    },
    {
     "data": {
      "image/png": "[encoded data removed]",
      "text/plain": [
       "<Figure size 842.4x595.44 with 1 Axes>"
      ]
     },
     "metadata": {},
     "output_type": "display_data"
    }
   ],
   "source": [
    "a4_dims = (11.7, 8.27)\n",
    "fig, ax = plt.subplots(figsize=a4_dims)\n",
    "sns.distplot(donors_900_1500['lifetime_amount'], bins = 30)"
   ]
  },
  {
   "cell_type": "code",
   "execution_count": 295,
   "metadata": {},
   "outputs": [
    {
     "data": {
      "text/plain": [
       "lifetime_amount    46\n",
       "dtype: int64"
      ]
     },
     "execution_count": 295,
     "metadata": {},
     "output_type": "execute_result"
    }
   ],
   "source": [
    "donors_by_lifetime.loc[(donors_by_lifetime[\"lifetime_amount\"] == 1000)].count()"
   ]
  },
  {
   "cell_type": "code",
   "execution_count": 294,
   "metadata": {},
   "outputs": [
    {
     "data": {
      "text/plain": [
       "lifetime_amount    0.1893\n",
       "dtype: float64"
      ]
     },
     "execution_count": 294,
     "metadata": {},
     "output_type": "execute_result"
    }
   ],
   "source": [
    "donors_by_lifetime.loc[(donors_by_lifetime[\"lifetime_amount\"] == 1000)].count()/243"
   ]
  },
  {
   "cell_type": "code",
   "execution_count": 293,
   "metadata": {},
   "outputs": [
    {
     "data": {
      "text/plain": [
       "lifetime_amount    243\n",
       "dtype: int64"
      ]
     },
     "execution_count": 293,
     "metadata": {},
     "output_type": "execute_result"
    }
   ],
   "source": [
    "donors_by_lifetime.loc[(donors_by_lifetime[\"lifetime_amount\"] >= 1000)].count()"
   ]
  },
  {
   "cell_type": "markdown",
   "metadata": {},
   "source": [
    "## Small Dollar Donors"
   ]
  },
  {
   "cell_type": "code",
   "execution_count": 172,
   "metadata": {},
   "outputs": [
    {
     "data": {
      "text/plain": [
       "lifetime_amount    7262\n",
       "dtype: int64"
      ]
     },
     "execution_count": 172,
     "metadata": {},
     "output_type": "execute_result"
    }
   ],
   "source": [
    "donors_by_lifetime.loc[donors_by_lifetime[\"lifetime_amount\"] <= 500].count()"
   ]
  },
  {
   "cell_type": "code",
   "execution_count": 173,
   "metadata": {},
   "outputs": [
    {
     "data": {
      "text/plain": [
       "7645"
      ]
     },
     "execution_count": 173,
     "metadata": {},
     "output_type": "execute_result"
    }
   ],
   "source": [
    "len(donors_by_lifetime)"
   ]
  },
  {
   "cell_type": "code",
   "execution_count": 177,
   "metadata": {},
   "outputs": [
    {
     "data": {
      "text/plain": [
       "0.9499018966644865"
      ]
     },
     "execution_count": 177,
     "metadata": {},
     "output_type": "execute_result"
    }
   ],
   "source": [
    "7262/len(donors_by_lifetime)"
   ]
  },
  {
   "cell_type": "markdown",
   "metadata": {},
   "source": [
    "95% of New Era Colorado's donors have a lifetime value of \\$500 or below."
   ]
  },
  {
   "cell_type": "code",
   "execution_count": 175,
   "metadata": {},
   "outputs": [
    {
     "data": {
      "text/plain": [
       "lifetime_amount    6586\n",
       "dtype: int64"
      ]
     },
     "execution_count": 175,
     "metadata": {},
     "output_type": "execute_result"
    }
   ],
   "source": [
    "donors_by_lifetime.loc[donors_by_lifetime[\"lifetime_amount\"] <= 100].count()"
   ]
  },
  {
   "cell_type": "code",
   "execution_count": 176,
   "metadata": {},
   "outputs": [
    {
     "data": {
      "text/plain": [
       "0.8614780902550687"
      ]
     },
     "execution_count": 176,
     "metadata": {},
     "output_type": "execute_result"
    }
   ],
   "source": [
    "6586/len(donors_by_lifetime)"
   ]
  },
  {
   "cell_type": "markdown",
   "metadata": {},
   "source": [
    "86% of New Era Colorado's donors had a lifeitme value of below \\$100!  \n",
    "\n",
    "This leads to the question: how many donors only give once? and what is the spread of those one-time gifts?"
   ]
  },
  {
   "cell_type": "code",
   "execution_count": 296,
   "metadata": {},
   "outputs": [
    {
     "data": {
      "text/plain": [
       "lifetime_amount    361941.62\n",
       "dtype: float64"
      ]
     },
     "execution_count": 296,
     "metadata": {},
     "output_type": "execute_result"
    }
   ],
   "source": [
    "donors_by_lifetime.loc[donors_by_lifetime[\"lifetime_amount\"] <= 500].sum()"
   ]
  },
  {
   "cell_type": "code",
   "execution_count": 298,
   "metadata": {},
   "outputs": [
    {
     "data": {
      "text/plain": [
       "lifetime_amount    0.193997\n",
       "dtype: float64"
      ]
     },
     "execution_count": 298,
     "metadata": {},
     "output_type": "execute_result"
    }
   ],
   "source": [
    "donors_by_lifetime.loc[donors_by_lifetime[\"lifetime_amount\"] <= 500].sum()/donors_by_lifetime.sum()"
   ]
  },
  {
   "cell_type": "markdown",
   "metadata": {},
   "source": [
    "## Removing monthly donors"
   ]
  },
  {
   "cell_type": "code",
   "execution_count": 212,
   "metadata": {},
   "outputs": [
    {
     "data": {
      "text/html": [
       "<div>\n",
       "<style scoped>\n",
       "    .dataframe tbody tr th:only-of-type {\n",
       "        vertical-align: middle;\n",
       "    }\n",
       "\n",
       "    .dataframe tbody tr th {\n",
       "        vertical-align: top;\n",
       "    }\n",
       "\n",
       "    .dataframe thead th {\n",
       "        text-align: right;\n",
       "    }\n",
       "</style>\n",
       "<table border=\"1\" class=\"dataframe\">\n",
       "  <thead>\n",
       "    <tr style=\"text-align: right;\">\n",
       "      <th></th>\n",
       "      <th>Count</th>\n",
       "      <th>Contribution ID</th>\n",
       "      <th>Received On</th>\n",
       "      <th>Amount</th>\n",
       "      <th>Designation</th>\n",
       "      <th>Contribution Type</th>\n",
       "      <th>Cycle</th>\n",
       "      <th>Period</th>\n",
       "      <th>Contribution.Note</th>\n",
       "      <th>Source Code Path</th>\n",
       "      <th>Contact ID</th>\n",
       "      <th>Contact Name</th>\n",
       "    </tr>\n",
       "  </thead>\n",
       "  <tbody>\n",
       "    <tr>\n",
       "      <th>0</th>\n",
       "      <td>NaN</td>\n",
       "      <td>VNW16CXS6W4</td>\n",
       "      <td>06/15/2013</td>\n",
       "      <td>25.0</td>\n",
       "      <td>New Era Colorado Foundation</td>\n",
       "      <td>Monetary Contribution</td>\n",
       "      <td>NaN</td>\n",
       "      <td>NaN</td>\n",
       "      <td>NaN</td>\n",
       "      <td>NaN</td>\n",
       "      <td>VNX0EGHM673</td>\n",
       "      <td>Debra Johnson</td>\n",
       "    </tr>\n",
       "    <tr>\n",
       "      <th>1</th>\n",
       "      <td>NaN</td>\n",
       "      <td>VNW16CGKCY8</td>\n",
       "      <td>07/08/2011</td>\n",
       "      <td>2000.0</td>\n",
       "      <td>New Era Colorado Foundation</td>\n",
       "      <td>Monetary Contribution</td>\n",
       "      <td>NaN</td>\n",
       "      <td>NaN</td>\n",
       "      <td>NaN</td>\n",
       "      <td>NaN</td>\n",
       "      <td>VNX0EGHGYZ0</td>\n",
       "      <td>Ken Gordon</td>\n",
       "    </tr>\n",
       "    <tr>\n",
       "      <th>2</th>\n",
       "      <td>NaN</td>\n",
       "      <td>VNW16CGENE0</td>\n",
       "      <td>09/03/2013</td>\n",
       "      <td>25.0</td>\n",
       "      <td>New Era Colorado Foundation</td>\n",
       "      <td>Monetary Contribution</td>\n",
       "      <td>NaN</td>\n",
       "      <td>NaN</td>\n",
       "      <td>NaN</td>\n",
       "      <td>NaN</td>\n",
       "      <td>VNX0EGH1BC4</td>\n",
       "      <td>Kim Chinn</td>\n",
       "    </tr>\n",
       "    <tr>\n",
       "      <th>3</th>\n",
       "      <td>NaN</td>\n",
       "      <td>VNW16CGJP70</td>\n",
       "      <td>10/11/2013</td>\n",
       "      <td>100.0</td>\n",
       "      <td>New Era Colorado Foundation</td>\n",
       "      <td>Monetary Contribution</td>\n",
       "      <td>NaN</td>\n",
       "      <td>NaN</td>\n",
       "      <td>NaN</td>\n",
       "      <td>NaN</td>\n",
       "      <td>VNX0EGHVH14</td>\n",
       "      <td>Diana Miller</td>\n",
       "    </tr>\n",
       "    <tr>\n",
       "      <th>4</th>\n",
       "      <td>NaN</td>\n",
       "      <td>VNW16CGBAE5</td>\n",
       "      <td>09/03/2013</td>\n",
       "      <td>25.0</td>\n",
       "      <td>New Era Colorado Foundation</td>\n",
       "      <td>Monetary Contribution</td>\n",
       "      <td>NaN</td>\n",
       "      <td>NaN</td>\n",
       "      <td>NaN</td>\n",
       "      <td>NaN</td>\n",
       "      <td>VNX0EGGZJ57</td>\n",
       "      <td>Diane Driver</td>\n",
       "    </tr>\n",
       "  </tbody>\n",
       "</table>\n",
       "</div>"
      ],
      "text/plain": [
       "   Count Contribution ID Received On  Amount                  Designation  \\\n",
       "0    NaN     VNW16CXS6W4  06/15/2013    25.0  New Era Colorado Foundation   \n",
       "1    NaN     VNW16CGKCY8  07/08/2011  2000.0  New Era Colorado Foundation   \n",
       "2    NaN     VNW16CGENE0  09/03/2013    25.0  New Era Colorado Foundation   \n",
       "3    NaN     VNW16CGJP70  10/11/2013   100.0  New Era Colorado Foundation   \n",
       "4    NaN     VNW16CGBAE5  09/03/2013    25.0  New Era Colorado Foundation   \n",
       "\n",
       "       Contribution Type  Cycle Period Contribution.Note  Source Code Path  \\\n",
       "0  Monetary Contribution    NaN    NaN               NaN               NaN   \n",
       "1  Monetary Contribution    NaN    NaN               NaN               NaN   \n",
       "2  Monetary Contribution    NaN    NaN               NaN               NaN   \n",
       "3  Monetary Contribution    NaN    NaN               NaN               NaN   \n",
       "4  Monetary Contribution    NaN    NaN               NaN               NaN   \n",
       "\n",
       "    Contact ID   Contact Name  \n",
       "0  VNX0EGHM673  Debra Johnson  \n",
       "1  VNX0EGHGYZ0     Ken Gordon  \n",
       "2  VNX0EGH1BC4      Kim Chinn  \n",
       "3  VNX0EGHVH14   Diana Miller  \n",
       "4  VNX0EGGZJ57   Diane Driver  "
      ]
     },
     "execution_count": 212,
     "metadata": {},
     "output_type": "execute_result"
    }
   ],
   "source": [
    "c3.head()"
   ]
  },
  {
   "cell_type": "code",
   "execution_count": 214,
   "metadata": {},
   "outputs": [
    {
     "data": {
      "text/html": [
       "<div>\n",
       "<style scoped>\n",
       "    .dataframe tbody tr th:only-of-type {\n",
       "        vertical-align: middle;\n",
       "    }\n",
       "\n",
       "    .dataframe tbody tr th {\n",
       "        vertical-align: top;\n",
       "    }\n",
       "\n",
       "    .dataframe thead th {\n",
       "        text-align: right;\n",
       "    }\n",
       "</style>\n",
       "<table border=\"1\" class=\"dataframe\">\n",
       "  <thead>\n",
       "    <tr style=\"text-align: right;\">\n",
       "      <th></th>\n",
       "      <th>Received On</th>\n",
       "      <th>Amount</th>\n",
       "      <th>Source Code Path</th>\n",
       "      <th>Contact Name</th>\n",
       "    </tr>\n",
       "  </thead>\n",
       "  <tbody>\n",
       "    <tr>\n",
       "      <th>29609</th>\n",
       "      <td>10/15/2018</td>\n",
       "      <td>20.0</td>\n",
       "      <td>c3 Donors/Player contribution/COGDmonthly dona...</td>\n",
       "      <td>Susan Peterson</td>\n",
       "    </tr>\n",
       "    <tr>\n",
       "      <th>29610</th>\n",
       "      <td>05/08/2018</td>\n",
       "      <td>10.0</td>\n",
       "      <td>c3 Donors/Player contribution/COGDmonthly dona...</td>\n",
       "      <td>Robert Shurr</td>\n",
       "    </tr>\n",
       "    <tr>\n",
       "      <th>29611</th>\n",
       "      <td>07/13/2018</td>\n",
       "      <td>20.0</td>\n",
       "      <td>c3 Donors/Player contribution/COGDmonthly dona...</td>\n",
       "      <td>Susan Peterson</td>\n",
       "    </tr>\n",
       "    <tr>\n",
       "      <th>29612</th>\n",
       "      <td>07/08/2018</td>\n",
       "      <td>10.0</td>\n",
       "      <td>c3 Donors/Player contribution/COGDmonthly dona...</td>\n",
       "      <td>Robert Shurr</td>\n",
       "    </tr>\n",
       "    <tr>\n",
       "      <th>29613</th>\n",
       "      <td>NaN</td>\n",
       "      <td>NaN</td>\n",
       "      <td>NaN</td>\n",
       "      <td>NaN</td>\n",
       "    </tr>\n",
       "  </tbody>\n",
       "</table>\n",
       "</div>"
      ],
      "text/plain": [
       "      Received On  Amount                                   Source Code Path  \\\n",
       "29609  10/15/2018    20.0  c3 Donors/Player contribution/COGDmonthly dona...   \n",
       "29610  05/08/2018    10.0  c3 Donors/Player contribution/COGDmonthly dona...   \n",
       "29611  07/13/2018    20.0  c3 Donors/Player contribution/COGDmonthly dona...   \n",
       "29612  07/08/2018    10.0  c3 Donors/Player contribution/COGDmonthly dona...   \n",
       "29613         NaN     NaN                                                NaN   \n",
       "\n",
       "         Contact Name  \n",
       "29609  Susan Peterson  \n",
       "29610    Robert Shurr  \n",
       "29611  Susan Peterson  \n",
       "29612    Robert Shurr  \n",
       "29613             NaN  "
      ]
     },
     "execution_count": 214,
     "metadata": {},
     "output_type": "execute_result"
    }
   ],
   "source": [
    "c3_code = c3.iloc[:,[2,3,9,11]]\n",
    "c3_code.tail()"
   ]
  },
  {
   "cell_type": "code",
   "execution_count": 218,
   "metadata": {},
   "outputs": [
    {
     "data": {
      "text/html": [
       "<div>\n",
       "<style scoped>\n",
       "    .dataframe tbody tr th:only-of-type {\n",
       "        vertical-align: middle;\n",
       "    }\n",
       "\n",
       "    .dataframe tbody tr th {\n",
       "        vertical-align: top;\n",
       "    }\n",
       "\n",
       "    .dataframe thead th {\n",
       "        text-align: right;\n",
       "    }\n",
       "</style>\n",
       "<table border=\"1\" class=\"dataframe\">\n",
       "  <thead>\n",
       "    <tr style=\"text-align: right;\">\n",
       "      <th></th>\n",
       "      <th>date</th>\n",
       "      <th>amount</th>\n",
       "      <th>code</th>\n",
       "      <th>name</th>\n",
       "    </tr>\n",
       "  </thead>\n",
       "  <tbody>\n",
       "    <tr>\n",
       "      <th>0</th>\n",
       "      <td>06/15/2013</td>\n",
       "      <td>25.0</td>\n",
       "      <td>NaN</td>\n",
       "      <td>Debra Johnson</td>\n",
       "    </tr>\n",
       "    <tr>\n",
       "      <th>1</th>\n",
       "      <td>07/08/2011</td>\n",
       "      <td>2000.0</td>\n",
       "      <td>NaN</td>\n",
       "      <td>Ken Gordon</td>\n",
       "    </tr>\n",
       "    <tr>\n",
       "      <th>2</th>\n",
       "      <td>09/03/2013</td>\n",
       "      <td>25.0</td>\n",
       "      <td>NaN</td>\n",
       "      <td>Kim Chinn</td>\n",
       "    </tr>\n",
       "    <tr>\n",
       "      <th>3</th>\n",
       "      <td>10/11/2013</td>\n",
       "      <td>100.0</td>\n",
       "      <td>NaN</td>\n",
       "      <td>Diana Miller</td>\n",
       "    </tr>\n",
       "    <tr>\n",
       "      <th>4</th>\n",
       "      <td>09/03/2013</td>\n",
       "      <td>25.0</td>\n",
       "      <td>NaN</td>\n",
       "      <td>Diane Driver</td>\n",
       "    </tr>\n",
       "  </tbody>\n",
       "</table>\n",
       "</div>"
      ],
      "text/plain": [
       "         date  amount code           name\n",
       "0  06/15/2013    25.0  NaN  Debra Johnson\n",
       "1  07/08/2011  2000.0  NaN     Ken Gordon\n",
       "2  09/03/2013    25.0  NaN      Kim Chinn\n",
       "3  10/11/2013   100.0  NaN   Diana Miller\n",
       "4  09/03/2013    25.0  NaN   Diane Driver"
      ]
     },
     "execution_count": 218,
     "metadata": {},
     "output_type": "execute_result"
    }
   ],
   "source": [
    "c3_code.columns = ['date', 'amount', 'code', 'name']\n",
    "c3_code.head()"
   ]
  },
  {
   "cell_type": "code",
   "execution_count": 222,
   "metadata": {},
   "outputs": [
    {
     "data": {
      "text/html": [
       "<div>\n",
       "<style scoped>\n",
       "    .dataframe tbody tr th:only-of-type {\n",
       "        vertical-align: middle;\n",
       "    }\n",
       "\n",
       "    .dataframe tbody tr th {\n",
       "        vertical-align: top;\n",
       "    }\n",
       "\n",
       "    .dataframe thead th {\n",
       "        text-align: right;\n",
       "    }\n",
       "</style>\n",
       "<table border=\"1\" class=\"dataframe\">\n",
       "  <thead>\n",
       "    <tr style=\"text-align: right;\">\n",
       "      <th></th>\n",
       "      <th>date</th>\n",
       "      <th>amount</th>\n",
       "      <th>code</th>\n",
       "      <th>name</th>\n",
       "    </tr>\n",
       "  </thead>\n",
       "  <tbody>\n",
       "    <tr>\n",
       "      <th>15137</th>\n",
       "      <td>04/22/2015</td>\n",
       "      <td>50.0</td>\n",
       "      <td>c3 Donors/Player contribution</td>\n",
       "      <td>Joellen Raderstorf</td>\n",
       "    </tr>\n",
       "    <tr>\n",
       "      <th>15138</th>\n",
       "      <td>09/15/2015</td>\n",
       "      <td>50.0</td>\n",
       "      <td>c3 Donors/Player contribution</td>\n",
       "      <td>Joellen Raderstorf</td>\n",
       "    </tr>\n",
       "    <tr>\n",
       "      <th>15139</th>\n",
       "      <td>08/15/2016</td>\n",
       "      <td>50.0</td>\n",
       "      <td>c3 Donors/Player contribution</td>\n",
       "      <td>Joellen Raderstorf</td>\n",
       "    </tr>\n",
       "    <tr>\n",
       "      <th>15140</th>\n",
       "      <td>08/15/2016</td>\n",
       "      <td>5.0</td>\n",
       "      <td>c3 Donors/Player contribution</td>\n",
       "      <td>Jessie Fischer</td>\n",
       "    </tr>\n",
       "    <tr>\n",
       "      <th>15141</th>\n",
       "      <td>11/15/2015</td>\n",
       "      <td>5.0</td>\n",
       "      <td>c3 Donors/Player contribution</td>\n",
       "      <td>Kate Billman-Golemme</td>\n",
       "    </tr>\n",
       "  </tbody>\n",
       "</table>\n",
       "</div>"
      ],
      "text/plain": [
       "             date  amount                           code                  name\n",
       "15137  04/22/2015    50.0  c3 Donors/Player contribution    Joellen Raderstorf\n",
       "15138  09/15/2015    50.0  c3 Donors/Player contribution    Joellen Raderstorf\n",
       "15139  08/15/2016    50.0  c3 Donors/Player contribution    Joellen Raderstorf\n",
       "15140  08/15/2016     5.0  c3 Donors/Player contribution        Jessie Fischer\n",
       "15141  11/15/2015     5.0  c3 Donors/Player contribution  Kate Billman-Golemme"
      ]
     },
     "execution_count": 222,
     "metadata": {},
     "output_type": "execute_result"
    }
   ],
   "source": [
    "monthly_gifts = c3_code[c3_code['code'].str.contains(\"Player\") == True]\n",
    "monthly_gifts.head()"
   ]
  },
  {
   "cell_type": "code",
   "execution_count": 284,
   "metadata": {},
   "outputs": [
    {
     "data": {
      "text/html": [
       "<div>\n",
       "<style scoped>\n",
       "    .dataframe tbody tr th:only-of-type {\n",
       "        vertical-align: middle;\n",
       "    }\n",
       "\n",
       "    .dataframe tbody tr th {\n",
       "        vertical-align: top;\n",
       "    }\n",
       "\n",
       "    .dataframe thead th {\n",
       "        text-align: right;\n",
       "    }\n",
       "</style>\n",
       "<table border=\"1\" class=\"dataframe\">\n",
       "  <thead>\n",
       "    <tr style=\"text-align: right;\">\n",
       "      <th></th>\n",
       "      <th>date</th>\n",
       "      <th>amount</th>\n",
       "      <th>code</th>\n",
       "      <th>name</th>\n",
       "    </tr>\n",
       "  </thead>\n",
       "  <tbody>\n",
       "    <tr>\n",
       "      <th>0</th>\n",
       "      <td>06/15/2013</td>\n",
       "      <td>25.0</td>\n",
       "      <td>NaN</td>\n",
       "      <td>Debra Johnson</td>\n",
       "    </tr>\n",
       "    <tr>\n",
       "      <th>1</th>\n",
       "      <td>07/08/2011</td>\n",
       "      <td>2000.0</td>\n",
       "      <td>NaN</td>\n",
       "      <td>Ken Gordon</td>\n",
       "    </tr>\n",
       "    <tr>\n",
       "      <th>2</th>\n",
       "      <td>09/03/2013</td>\n",
       "      <td>25.0</td>\n",
       "      <td>NaN</td>\n",
       "      <td>Kim Chinn</td>\n",
       "    </tr>\n",
       "    <tr>\n",
       "      <th>3</th>\n",
       "      <td>10/11/2013</td>\n",
       "      <td>100.0</td>\n",
       "      <td>NaN</td>\n",
       "      <td>Diana Miller</td>\n",
       "    </tr>\n",
       "    <tr>\n",
       "      <th>4</th>\n",
       "      <td>09/03/2013</td>\n",
       "      <td>25.0</td>\n",
       "      <td>NaN</td>\n",
       "      <td>Diane Driver</td>\n",
       "    </tr>\n",
       "    <tr>\n",
       "      <th>5</th>\n",
       "      <td>09/03/2013</td>\n",
       "      <td>10.0</td>\n",
       "      <td>NaN</td>\n",
       "      <td>Donald Ray</td>\n",
       "    </tr>\n",
       "    <tr>\n",
       "      <th>6</th>\n",
       "      <td>09/13/2013</td>\n",
       "      <td>1.0</td>\n",
       "      <td>NaN</td>\n",
       "      <td>Doran Mauldinll</td>\n",
       "    </tr>\n",
       "    <tr>\n",
       "      <th>7</th>\n",
       "      <td>05/15/2014</td>\n",
       "      <td>10.0</td>\n",
       "      <td>NaN</td>\n",
       "      <td>Elise Jones</td>\n",
       "    </tr>\n",
       "    <tr>\n",
       "      <th>8</th>\n",
       "      <td>08/26/2014</td>\n",
       "      <td>10.0</td>\n",
       "      <td>NaN</td>\n",
       "      <td>Elise Jones</td>\n",
       "    </tr>\n",
       "    <tr>\n",
       "      <th>9</th>\n",
       "      <td>09/02/2013</td>\n",
       "      <td>5.0</td>\n",
       "      <td>NaN</td>\n",
       "      <td>Laura Reichardt</td>\n",
       "    </tr>\n",
       "  </tbody>\n",
       "</table>\n",
       "</div>"
      ],
      "text/plain": [
       "         date  amount code             name\n",
       "0  06/15/2013    25.0  NaN    Debra Johnson\n",
       "1  07/08/2011  2000.0  NaN       Ken Gordon\n",
       "2  09/03/2013    25.0  NaN        Kim Chinn\n",
       "3  10/11/2013   100.0  NaN     Diana Miller\n",
       "4  09/03/2013    25.0  NaN     Diane Driver\n",
       "5  09/03/2013    10.0  NaN       Donald Ray\n",
       "6  09/13/2013     1.0  NaN  Doran Mauldinll\n",
       "7  05/15/2014    10.0  NaN      Elise Jones\n",
       "8  08/26/2014    10.0  NaN      Elise Jones\n",
       "9  09/02/2013     5.0  NaN  Laura Reichardt"
      ]
     },
     "execution_count": 284,
     "metadata": {},
     "output_type": "execute_result"
    }
   ],
   "source": [
    "no_monthly = pd.concat([c3_code, monthly_gifts]).drop_duplicates(keep=False)\n",
    "no_monthly.head(10)"
   ]
  },
  {
   "cell_type": "markdown",
   "metadata": {},
   "source": [
    "# Repeating the analysis, minus monthly members\n",
    "## By Gift Count"
   ]
  },
  {
   "cell_type": "code",
   "execution_count": 227,
   "metadata": {},
   "outputs": [
    {
     "data": {
      "text/html": [
       "<div>\n",
       "<style scoped>\n",
       "    .dataframe tbody tr th:only-of-type {\n",
       "        vertical-align: middle;\n",
       "    }\n",
       "\n",
       "    .dataframe tbody tr th {\n",
       "        vertical-align: top;\n",
       "    }\n",
       "\n",
       "    .dataframe thead th {\n",
       "        text-align: right;\n",
       "    }\n",
       "</style>\n",
       "<table border=\"1\" class=\"dataframe\">\n",
       "  <thead>\n",
       "    <tr style=\"text-align: right;\">\n",
       "      <th></th>\n",
       "      <th>number_of_gifts</th>\n",
       "    </tr>\n",
       "    <tr>\n",
       "      <th>name</th>\n",
       "      <th></th>\n",
       "    </tr>\n",
       "  </thead>\n",
       "  <tbody>\n",
       "    <tr>\n",
       "      <th>David Winter</th>\n",
       "      <td>77</td>\n",
       "    </tr>\n",
       "    <tr>\n",
       "      <th>Susan Peterson</th>\n",
       "      <td>74</td>\n",
       "    </tr>\n",
       "    <tr>\n",
       "      <th>Jason Machado</th>\n",
       "      <td>69</td>\n",
       "    </tr>\n",
       "    <tr>\n",
       "      <th>Name Unknown</th>\n",
       "      <td>69</td>\n",
       "    </tr>\n",
       "    <tr>\n",
       "      <th>Bob Morehouse</th>\n",
       "      <td>64</td>\n",
       "    </tr>\n",
       "    <tr>\n",
       "      <th>Daniel Gonzales</th>\n",
       "      <td>57</td>\n",
       "    </tr>\n",
       "    <tr>\n",
       "      <th>Jill Grano</th>\n",
       "      <td>56</td>\n",
       "    </tr>\n",
       "    <tr>\n",
       "      <th>John and Maggie Fieldsteel</th>\n",
       "      <td>54</td>\n",
       "    </tr>\n",
       "    <tr>\n",
       "      <th>Kristen Painter</th>\n",
       "      <td>54</td>\n",
       "    </tr>\n",
       "    <tr>\n",
       "      <th>Carrie Jackson</th>\n",
       "      <td>53</td>\n",
       "    </tr>\n",
       "    <tr>\n",
       "      <th>Courtney Law</th>\n",
       "      <td>53</td>\n",
       "    </tr>\n",
       "    <tr>\n",
       "      <th>Philip Persson</th>\n",
       "      <td>53</td>\n",
       "    </tr>\n",
       "    <tr>\n",
       "      <th>Todd Siegel</th>\n",
       "      <td>52</td>\n",
       "    </tr>\n",
       "    <tr>\n",
       "      <th>Jared Greenberg</th>\n",
       "      <td>51</td>\n",
       "    </tr>\n",
       "    <tr>\n",
       "      <th>William Fitzpatrick</th>\n",
       "      <td>51</td>\n",
       "    </tr>\n",
       "  </tbody>\n",
       "</table>\n",
       "</div>"
      ],
      "text/plain": [
       "                            number_of_gifts\n",
       "name                                       \n",
       "David Winter                             77\n",
       "Susan Peterson                           74\n",
       "Jason Machado                            69\n",
       "Name Unknown                             69\n",
       "Bob Morehouse                            64\n",
       "Daniel Gonzales                          57\n",
       "Jill Grano                               56\n",
       "John and Maggie Fieldsteel               54\n",
       "Kristen Painter                          54\n",
       "Carrie Jackson                           53\n",
       "Courtney Law                             53\n",
       "Philip Persson                           53\n",
       "Todd Siegel                              52\n",
       "Jared Greenberg                          51\n",
       "William Fitzpatrick                      51"
      ]
     },
     "execution_count": 227,
     "metadata": {},
     "output_type": "execute_result"
    }
   ],
   "source": [
    "no_monthly_by_gifts = no_monthly.groupby(['name']).size().sort_values(ascending = False).to_frame()\n",
    "no_monthly_by_gifts.columns = ['number_of_gifts']\n",
    "no_monthly_by_gifts.head(15)"
   ]
  },
  {
   "cell_type": "markdown",
   "metadata": {},
   "source": [
    "## By Lifetime Value"
   ]
  },
  {
   "cell_type": "code",
   "execution_count": 228,
   "metadata": {},
   "outputs": [
    {
     "data": {
      "text/html": [
       "<div>\n",
       "<style scoped>\n",
       "    .dataframe tbody tr th:only-of-type {\n",
       "        vertical-align: middle;\n",
       "    }\n",
       "\n",
       "    .dataframe tbody tr th {\n",
       "        vertical-align: top;\n",
       "    }\n",
       "\n",
       "    .dataframe thead th {\n",
       "        text-align: right;\n",
       "    }\n",
       "</style>\n",
       "<table border=\"1\" class=\"dataframe\">\n",
       "  <thead>\n",
       "    <tr style=\"text-align: right;\">\n",
       "      <th></th>\n",
       "      <th>lifetime_amount</th>\n",
       "    </tr>\n",
       "    <tr>\n",
       "      <th>name</th>\n",
       "      <th></th>\n",
       "    </tr>\n",
       "  </thead>\n",
       "  <tbody>\n",
       "    <tr>\n",
       "      <th>Laurie Michaels</th>\n",
       "      <td>301000.0</td>\n",
       "    </tr>\n",
       "    <tr>\n",
       "      <th>Pat Stryker</th>\n",
       "      <td>50000.0</td>\n",
       "    </tr>\n",
       "    <tr>\n",
       "      <th>Becky and Dean Leffingwell</th>\n",
       "      <td>50000.0</td>\n",
       "    </tr>\n",
       "    <tr>\n",
       "      <th>Strategies 360 No Data</th>\n",
       "      <td>35500.0</td>\n",
       "    </tr>\n",
       "    <tr>\n",
       "      <th>Sue Anderson</th>\n",
       "      <td>35000.0</td>\n",
       "    </tr>\n",
       "    <tr>\n",
       "      <th>Brad Armstrong</th>\n",
       "      <td>35000.0</td>\n",
       "    </tr>\n",
       "    <tr>\n",
       "      <th>John Powers</th>\n",
       "      <td>30555.0</td>\n",
       "    </tr>\n",
       "    <tr>\n",
       "      <th>Colorado Education Association</th>\n",
       "      <td>26100.0</td>\n",
       "    </tr>\n",
       "    <tr>\n",
       "      <th>Peter Sargent</th>\n",
       "      <td>25000.0</td>\n",
       "    </tr>\n",
       "    <tr>\n",
       "      <th>Reuben Munger</th>\n",
       "      <td>25000.0</td>\n",
       "    </tr>\n",
       "    <tr>\n",
       "      <th>Jared Polis</th>\n",
       "      <td>24000.0</td>\n",
       "    </tr>\n",
       "    <tr>\n",
       "      <th>John Loewy</th>\n",
       "      <td>23000.0</td>\n",
       "    </tr>\n",
       "    <tr>\n",
       "      <th>Linda and Mark Stephan</th>\n",
       "      <td>18090.0</td>\n",
       "    </tr>\n",
       "    <tr>\n",
       "      <th>John (Jay) Kenney</th>\n",
       "      <td>18000.0</td>\n",
       "    </tr>\n",
       "    <tr>\n",
       "      <th>Jesse Fink</th>\n",
       "      <td>16000.0</td>\n",
       "    </tr>\n",
       "  </tbody>\n",
       "</table>\n",
       "</div>"
      ],
      "text/plain": [
       "                                lifetime_amount\n",
       "name                                           \n",
       "Laurie Michaels                        301000.0\n",
       "Pat Stryker                             50000.0\n",
       "Becky and Dean Leffingwell              50000.0\n",
       "Strategies 360 No Data                  35500.0\n",
       "Sue Anderson                            35000.0\n",
       "Brad Armstrong                          35000.0\n",
       "John Powers                             30555.0\n",
       "Colorado Education Association          26100.0\n",
       "Peter Sargent                           25000.0\n",
       "Reuben Munger                           25000.0\n",
       "Jared Polis                             24000.0\n",
       "John Loewy                              23000.0\n",
       "Linda and Mark Stephan                  18090.0\n",
       "John (Jay) Kenney                       18000.0\n",
       "Jesse Fink                              16000.0"
      ]
     },
     "execution_count": 228,
     "metadata": {},
     "output_type": "execute_result"
    }
   ],
   "source": [
    "no_monthly_by_lifetime = no_monthly.groupby(['name'])['amount'].sum().sort_values(ascending = False).to_frame()\n",
    "no_monthly_by_lifetime.columns = ['lifetime_amount']\n",
    "no_monthly_by_lifetime.head(15)"
   ]
  },
  {
   "cell_type": "markdown",
   "metadata": {},
   "source": [
    "We have **7,392 non monthly donors**.  \n",
    "The average lifetime value of our donors is \\$244.   \n",
    "The highest gift we ever received was for \\$300,000!  \n",
    "**75% of donors have a lifetime value of \\$50 or below.**"
   ]
  },
  {
   "cell_type": "code",
   "execution_count": 229,
   "metadata": {},
   "outputs": [
    {
     "data": {
      "text/html": [
       "<div>\n",
       "<style scoped>\n",
       "    .dataframe tbody tr th:only-of-type {\n",
       "        vertical-align: middle;\n",
       "    }\n",
       "\n",
       "    .dataframe tbody tr th {\n",
       "        vertical-align: top;\n",
       "    }\n",
       "\n",
       "    .dataframe thead th {\n",
       "        text-align: right;\n",
       "    }\n",
       "</style>\n",
       "<table border=\"1\" class=\"dataframe\">\n",
       "  <thead>\n",
       "    <tr style=\"text-align: right;\">\n",
       "      <th></th>\n",
       "      <th>lifetime_amount</th>\n",
       "    </tr>\n",
       "  </thead>\n",
       "  <tbody>\n",
       "    <tr>\n",
       "      <th>count</th>\n",
       "      <td>7392.000000</td>\n",
       "    </tr>\n",
       "    <tr>\n",
       "      <th>mean</th>\n",
       "      <td>220.286945</td>\n",
       "    </tr>\n",
       "    <tr>\n",
       "      <th>std</th>\n",
       "      <td>3804.712180</td>\n",
       "    </tr>\n",
       "    <tr>\n",
       "      <th>min</th>\n",
       "      <td>1.000000</td>\n",
       "    </tr>\n",
       "    <tr>\n",
       "      <th>25%</th>\n",
       "      <td>10.000000</td>\n",
       "    </tr>\n",
       "    <tr>\n",
       "      <th>50%</th>\n",
       "      <td>25.000000</td>\n",
       "    </tr>\n",
       "    <tr>\n",
       "      <th>75%</th>\n",
       "      <td>50.000000</td>\n",
       "    </tr>\n",
       "    <tr>\n",
       "      <th>max</th>\n",
       "      <td>301000.000000</td>\n",
       "    </tr>\n",
       "  </tbody>\n",
       "</table>\n",
       "</div>"
      ],
      "text/plain": [
       "       lifetime_amount\n",
       "count      7392.000000\n",
       "mean        220.286945\n",
       "std        3804.712180\n",
       "min           1.000000\n",
       "25%          10.000000\n",
       "50%          25.000000\n",
       "75%          50.000000\n",
       "max      301000.000000"
      ]
     },
     "execution_count": 229,
     "metadata": {},
     "output_type": "execute_result"
    }
   ],
   "source": [
    "no_monthly_by_lifetime.describe()"
   ]
  },
  {
   "cell_type": "code",
   "execution_count": 285,
   "metadata": {},
   "outputs": [
    {
     "data": {
      "text/plain": [
       "lifetime_amount    25.0\n",
       "dtype: float64"
      ]
     },
     "execution_count": 285,
     "metadata": {},
     "output_type": "execute_result"
    }
   ],
   "source": [
    "no_monthly_by_lifetime.median()"
   ]
  },
  {
   "cell_type": "markdown",
   "metadata": {},
   "source": [
    "## Repeat Donors (non monthly)"
   ]
  },
  {
   "cell_type": "code",
   "execution_count": 231,
   "metadata": {},
   "outputs": [
    {
     "data": {
      "text/plain": [
       "number_of_gifts    6403\n",
       "dtype: int64"
      ]
     },
     "execution_count": 231,
     "metadata": {},
     "output_type": "execute_result"
    }
   ],
   "source": [
    "no_monthly_by_gifts.loc[donors_by_gifts['number_of_gifts'] == 1].count()"
   ]
  },
  {
   "cell_type": "code",
   "execution_count": 232,
   "metadata": {},
   "outputs": [
    {
     "data": {
      "text/plain": [
       "number_of_gifts    0.837541\n",
       "dtype: float64"
      ]
     },
     "execution_count": 232,
     "metadata": {},
     "output_type": "execute_result"
    }
   ],
   "source": [
    "no_monthly_by_gifts.loc[donors_by_gifts['number_of_gifts'] == 1].count()/len(donors_by_gifts)"
   ]
  },
  {
   "cell_type": "markdown",
   "metadata": {},
   "source": [
    "83% of New Era's donors only give once!"
   ]
  },
  {
   "cell_type": "code",
   "execution_count": 233,
   "metadata": {},
   "outputs": [],
   "source": [
    "repeat_donors = no_monthly_by_gifts.loc[no_monthly_by_gifts['number_of_gifts'] != 1]"
   ]
  },
  {
   "cell_type": "code",
   "execution_count": 286,
   "metadata": {},
   "outputs": [
    {
     "data": {
      "text/html": [
       "<div>\n",
       "<style scoped>\n",
       "    .dataframe tbody tr th:only-of-type {\n",
       "        vertical-align: middle;\n",
       "    }\n",
       "\n",
       "    .dataframe tbody tr th {\n",
       "        vertical-align: top;\n",
       "    }\n",
       "\n",
       "    .dataframe thead th {\n",
       "        text-align: right;\n",
       "    }\n",
       "</style>\n",
       "<table border=\"1\" class=\"dataframe\">\n",
       "  <thead>\n",
       "    <tr style=\"text-align: right;\">\n",
       "      <th></th>\n",
       "      <th>number_of_gifts</th>\n",
       "    </tr>\n",
       "    <tr>\n",
       "      <th>name</th>\n",
       "      <th></th>\n",
       "    </tr>\n",
       "  </thead>\n",
       "  <tbody>\n",
       "    <tr>\n",
       "      <th>David Winter</th>\n",
       "      <td>77</td>\n",
       "    </tr>\n",
       "    <tr>\n",
       "      <th>Susan Peterson</th>\n",
       "      <td>74</td>\n",
       "    </tr>\n",
       "    <tr>\n",
       "      <th>Jason Machado</th>\n",
       "      <td>69</td>\n",
       "    </tr>\n",
       "    <tr>\n",
       "      <th>Name Unknown</th>\n",
       "      <td>69</td>\n",
       "    </tr>\n",
       "    <tr>\n",
       "      <th>Bob Morehouse</th>\n",
       "      <td>64</td>\n",
       "    </tr>\n",
       "    <tr>\n",
       "      <th>Daniel Gonzales</th>\n",
       "      <td>57</td>\n",
       "    </tr>\n",
       "    <tr>\n",
       "      <th>Jill Grano</th>\n",
       "      <td>56</td>\n",
       "    </tr>\n",
       "    <tr>\n",
       "      <th>John and Maggie Fieldsteel</th>\n",
       "      <td>54</td>\n",
       "    </tr>\n",
       "    <tr>\n",
       "      <th>Kristen Painter</th>\n",
       "      <td>54</td>\n",
       "    </tr>\n",
       "    <tr>\n",
       "      <th>Carrie Jackson</th>\n",
       "      <td>53</td>\n",
       "    </tr>\n",
       "  </tbody>\n",
       "</table>\n",
       "</div>"
      ],
      "text/plain": [
       "                            number_of_gifts\n",
       "name                                       \n",
       "David Winter                             77\n",
       "Susan Peterson                           74\n",
       "Jason Machado                            69\n",
       "Name Unknown                             69\n",
       "Bob Morehouse                            64\n",
       "Daniel Gonzales                          57\n",
       "Jill Grano                               56\n",
       "John and Maggie Fieldsteel               54\n",
       "Kristen Painter                          54\n",
       "Carrie Jackson                           53"
      ]
     },
     "execution_count": 286,
     "metadata": {},
     "output_type": "execute_result"
    }
   ],
   "source": [
    "repeat_donors.head(10)"
   ]
  },
  {
   "cell_type": "code",
   "execution_count": 235,
   "metadata": {},
   "outputs": [
    {
     "name": "stderr",
     "output_type": "stream",
     "text": [
      "/home/thebbennett/anaconda3/lib/python3.6/site-packages/scipy/stats/stats.py:1713: FutureWarning: Using a non-tuple sequence for multidimensional indexing is deprecated; use `arr[tuple(seq)]` instead of `arr[seq]`. In the future this will be interpreted as an array index, `arr[np.array(seq)]`, which will result either in an error or a different result.\n",
      "  return np.add.reduce(sorted[indexer] * weights, axis=axis) / sumval\n"
     ]
    },
    {
     "data": {
      "text/plain": [
       "<matplotlib.axes._subplots.AxesSubplot at 0x7f23bde5e470>"
      ]
     },
     "execution_count": 235,
     "metadata": {},
     "output_type": "execute_result"
    },
    {
     "data": {
      "image/png": "[encoded data removed]",
      "text/plain": [
       "<Figure size 432x288 with 1 Axes>"
      ]
     },
     "metadata": {},
     "output_type": "display_data"
    }
   ],
   "source": [
    "sns.distplot(repeat_donors['number_of_gifts'])"
   ]
  },
  {
   "cell_type": "code",
   "execution_count": 236,
   "metadata": {},
   "outputs": [],
   "source": [
    "repeat_donors_zoom = donors_by_gifts.loc[(donors_by_gifts['number_of_gifts'] > 1) & (donors_by_gifts['number_of_gifts'] < 50)]"
   ]
  },
  {
   "cell_type": "code",
   "execution_count": 237,
   "metadata": {},
   "outputs": [
    {
     "name": "stderr",
     "output_type": "stream",
     "text": [
      "/home/thebbennett/anaconda3/lib/python3.6/site-packages/scipy/stats/stats.py:1713: FutureWarning: Using a non-tuple sequence for multidimensional indexing is deprecated; use `arr[tuple(seq)]` instead of `arr[seq]`. In the future this will be interpreted as an array index, `arr[np.array(seq)]`, which will result either in an error or a different result.\n",
      "  return np.add.reduce(sorted[indexer] * weights, axis=axis) / sumval\n"
     ]
    },
    {
     "data": {
      "text/plain": [
       "<matplotlib.axes._subplots.AxesSubplot at 0x7f23b4c1eb70>"
      ]
     },
     "execution_count": 237,
     "metadata": {},
     "output_type": "execute_result"
    },
    {
     "data": {
      "image/png": "[encoded data removed]",
      "text/plain": [
       "<Figure size 432x288 with 1 Axes>"
      ]
     },
     "metadata": {},
     "output_type": "display_data"
    }
   ],
   "source": [
    "sns.distplot(repeat_donors_zoom['number_of_gifts'])"
   ]
  },
  {
   "cell_type": "code",
   "execution_count": 238,
   "metadata": {},
   "outputs": [
    {
     "data": {
      "image/png": "[encoded data removed]",
      "text/plain": [
       "<Figure size 432x288 with 1 Axes>"
      ]
     },
     "metadata": {},
     "output_type": "display_data"
    }
   ],
   "source": [
    "ax = sns.boxplot(x=repeat_donors[\"number_of_gifts\"])"
   ]
  },
  {
   "cell_type": "code",
   "execution_count": 239,
   "metadata": {},
   "outputs": [
    {
     "data": {
      "text/html": [
       "<div>\n",
       "<style scoped>\n",
       "    .dataframe tbody tr th:only-of-type {\n",
       "        vertical-align: middle;\n",
       "    }\n",
       "\n",
       "    .dataframe tbody tr th {\n",
       "        vertical-align: top;\n",
       "    }\n",
       "\n",
       "    .dataframe thead th {\n",
       "        text-align: right;\n",
       "    }\n",
       "</style>\n",
       "<table border=\"1\" class=\"dataframe\">\n",
       "  <thead>\n",
       "    <tr style=\"text-align: right;\">\n",
       "      <th></th>\n",
       "      <th>number_of_gifts</th>\n",
       "    </tr>\n",
       "  </thead>\n",
       "  <tbody>\n",
       "    <tr>\n",
       "      <th>count</th>\n",
       "      <td>901.000000</td>\n",
       "    </tr>\n",
       "    <tr>\n",
       "      <th>mean</th>\n",
       "      <td>10.354051</td>\n",
       "    </tr>\n",
       "    <tr>\n",
       "      <th>std</th>\n",
       "      <td>12.726702</td>\n",
       "    </tr>\n",
       "    <tr>\n",
       "      <th>min</th>\n",
       "      <td>2.000000</td>\n",
       "    </tr>\n",
       "    <tr>\n",
       "      <th>25%</th>\n",
       "      <td>2.000000</td>\n",
       "    </tr>\n",
       "    <tr>\n",
       "      <th>50%</th>\n",
       "      <td>4.000000</td>\n",
       "    </tr>\n",
       "    <tr>\n",
       "      <th>75%</th>\n",
       "      <td>13.000000</td>\n",
       "    </tr>\n",
       "    <tr>\n",
       "      <th>max</th>\n",
       "      <td>77.000000</td>\n",
       "    </tr>\n",
       "  </tbody>\n",
       "</table>\n",
       "</div>"
      ],
      "text/plain": [
       "       number_of_gifts\n",
       "count       901.000000\n",
       "mean         10.354051\n",
       "std          12.726702\n",
       "min           2.000000\n",
       "25%           2.000000\n",
       "50%           4.000000\n",
       "75%          13.000000\n",
       "max          77.000000"
      ]
     },
     "execution_count": 239,
     "metadata": {},
     "output_type": "execute_result"
    }
   ],
   "source": [
    "repeat_donors.describe()"
   ]
  },
  {
   "cell_type": "code",
   "execution_count": 287,
   "metadata": {},
   "outputs": [
    {
     "data": {
      "text/plain": [
       "number_of_gifts    4.0\n",
       "dtype: float64"
      ]
     },
     "execution_count": 287,
     "metadata": {},
     "output_type": "execute_result"
    }
   ],
   "source": [
    "repeat_donors.median()"
   ]
  },
  {
   "cell_type": "markdown",
   "metadata": {},
   "source": [
    "New Era has 901 donors that have given more than 1 gift (compared to 6,403 that have only given once!). The average number of repeat gifts is 10, with 75% of the data falling between 2 and 13 gifts. \n",
    "\n",
    "About a third (35%) of our repeat donors only give twice, however. 50% of our repeat donors give 4 or less gifts. "
   ]
  },
  {
   "cell_type": "code",
   "execution_count": 243,
   "metadata": {},
   "outputs": [
    {
     "data": {
      "text/plain": [
       "number_of_gifts    0.352941\n",
       "dtype: float64"
      ]
     },
     "execution_count": 243,
     "metadata": {},
     "output_type": "execute_result"
    }
   ],
   "source": [
    "no_monthly_by_gifts.loc[no_monthly_by_gifts['number_of_gifts'] == 2].count()/901"
   ]
  },
  {
   "cell_type": "code",
   "execution_count": 249,
   "metadata": {},
   "outputs": [
    {
     "data": {
      "text/plain": [
       "number_of_gifts    0.517203\n",
       "dtype: float64"
      ]
     },
     "execution_count": 249,
     "metadata": {},
     "output_type": "execute_result"
    }
   ],
   "source": [
    "no_monthly_by_gifts.loc[(no_monthly_by_gifts['number_of_gifts'] < 5) & (no_monthly_by_gifts['number_of_gifts'] > 1)].count()/901"
   ]
  },
  {
   "cell_type": "code",
   "execution_count": null,
   "metadata": {},
   "outputs": [],
   "source": []
  }
 ],
 "metadata": {
  "kernelspec": {
   "display_name": "Python 3",
   "language": "python",
   "name": "python3"
  },
  "language_info": {
   "codemirror_mode": {
    "name": "ipython",
    "version": 3
   },
   "file_extension": ".py",
   "mimetype": "text/x-python",
   "name": "python",
   "nbconvert_exporter": "python",
   "pygments_lexer": "ipython3",
   "version": "3.6.6"
  }
 },
 "nbformat": 4,
 "nbformat_minor": 2
}
