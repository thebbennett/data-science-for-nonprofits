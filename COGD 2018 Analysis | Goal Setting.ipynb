{
 "cells": [
  {
   "cell_type": "markdown",
   "metadata": {},
   "source": [
    "# COGD Historical Data\n",
    "## Setting Donor Goals for 2018"
   ]
  },
  {
   "cell_type": "markdown",
   "metadata": {},
   "source": [
    "## Overview\n",
    "2018 CO Gives Day is fast approaching and to kick things off we need to set some proper goals. What better way to determine how many donors can get on COGD than by doing a little bit of math.   \n",
    "\n",
    "## The Analysis \n",
    "Below you’ll see how many donors we had each year we ran COGD (Table 1). As you can see, we have some pretty consistent growth from the beginning (awesome!). It’s interesting to note that there was a significant dip in participation in 2017 (because of the non election year status?). Yet, 2017 was a standout fundraising year: COGD raised over $20,000 over the course of the entire year!\n",
    "\n",
    "As always, we'll read in the necessary libraries"
   ]
  },
  {
   "cell_type": "code",
   "execution_count": 185,
   "metadata": {},
   "outputs": [],
   "source": [
    "import pandas as pd\n",
    "import numpy as np\n",
    "from pandas.compat import StringIO\n",
    "import datetime\n",
    "import matplotlib.pyplot as plt\n",
    "import seaborn as sns\n",
    "from matplotlib.pyplot import figure\n",
    "from scipy import stats"
   ]
  },
  {
   "cell_type": "markdown",
   "metadata": {},
   "source": [
    "### Setting Up the Data\n",
    "We'll read in the data and take a peak at the dataframe. We see that every row is a unique transaction with the donor names, transaction data, and amount. \n",
    "\n",
    "We'll need to manipulate the data to summarise "
   ]
  },
  {
   "cell_type": "code",
   "execution_count": 133,
   "metadata": {},
   "outputs": [],
   "source": [
    "data = pd.read_csv(\"COGD giving history 2013-2017 - Sheet.csv\")"
   ]
  },
  {
   "cell_type": "code",
   "execution_count": 134,
   "metadata": {},
   "outputs": [
    {
     "data": {
      "text/html": [
       "<div>\n",
       "<style scoped>\n",
       "    .dataframe tbody tr th:only-of-type {\n",
       "        vertical-align: middle;\n",
       "    }\n",
       "\n",
       "    .dataframe tbody tr th {\n",
       "        vertical-align: top;\n",
       "    }\n",
       "\n",
       "    .dataframe thead th {\n",
       "        text-align: right;\n",
       "    }\n",
       "</style>\n",
       "<table border=\"1\" class=\"dataframe\">\n",
       "  <thead>\n",
       "    <tr style=\"text-align: right;\">\n",
       "      <th></th>\n",
       "      <th>Count</th>\n",
       "      <th>Contribution ID</th>\n",
       "      <th>Received On</th>\n",
       "      <th>Amount</th>\n",
       "      <th>Designation</th>\n",
       "      <th>Contribution Type</th>\n",
       "      <th>Cycle</th>\n",
       "      <th>Period</th>\n",
       "      <th>Note</th>\n",
       "      <th>Source Code Path</th>\n",
       "      <th>Contact ID</th>\n",
       "      <th>Contact Name</th>\n",
       "    </tr>\n",
       "  </thead>\n",
       "  <tbody>\n",
       "    <tr>\n",
       "      <th>0</th>\n",
       "      <td>NaN</td>\n",
       "      <td>VNW16E5Z4C7</td>\n",
       "      <td>12/7/2011</td>\n",
       "      <td>$15.00</td>\n",
       "      <td>New Era Colorado Foundation</td>\n",
       "      <td>Monetary Contribution</td>\n",
       "      <td>NaN</td>\n",
       "      <td>NaN</td>\n",
       "      <td>NaN</td>\n",
       "      <td>COGD</td>\n",
       "      <td>VNX0EGHDAM0</td>\n",
       "      <td>Erika Blum</td>\n",
       "    </tr>\n",
       "    <tr>\n",
       "      <th>1</th>\n",
       "      <td>NaN</td>\n",
       "      <td>VNW16E5Z4G9</td>\n",
       "      <td>12/4/2012</td>\n",
       "      <td>$250.00</td>\n",
       "      <td>New Era Colorado Foundation</td>\n",
       "      <td>Monetary Contribution</td>\n",
       "      <td>NaN</td>\n",
       "      <td>NaN</td>\n",
       "      <td>NaN</td>\n",
       "      <td>COGD</td>\n",
       "      <td>VNX0EGHKG27</td>\n",
       "      <td>Robert Shurr</td>\n",
       "    </tr>\n",
       "    <tr>\n",
       "      <th>2</th>\n",
       "      <td>NaN</td>\n",
       "      <td>VNW16DYYH24</td>\n",
       "      <td>12/8/2013</td>\n",
       "      <td>$100.00</td>\n",
       "      <td>New Era Colorado Foundation</td>\n",
       "      <td>Monetary Contribution</td>\n",
       "      <td>NaN</td>\n",
       "      <td>NaN</td>\n",
       "      <td>NaN</td>\n",
       "      <td>c3 Donors/COGD 2013</td>\n",
       "      <td>VNX0EJSCF16</td>\n",
       "      <td>Thomas Pritchard</td>\n",
       "    </tr>\n",
       "    <tr>\n",
       "      <th>3</th>\n",
       "      <td>NaN</td>\n",
       "      <td>VNW16DYYER9</td>\n",
       "      <td>12/9/2013</td>\n",
       "      <td>$100.00</td>\n",
       "      <td>New Era Colorado Foundation</td>\n",
       "      <td>Monetary Contribution</td>\n",
       "      <td>NaN</td>\n",
       "      <td>NaN</td>\n",
       "      <td>NaN</td>\n",
       "      <td>c3 Donors/COGD 2013</td>\n",
       "      <td>VNX0EGGX920</td>\n",
       "      <td>Diane Rosenthal</td>\n",
       "    </tr>\n",
       "    <tr>\n",
       "      <th>4</th>\n",
       "      <td>NaN</td>\n",
       "      <td>VNW16DYYH89</td>\n",
       "      <td>12/9/2013</td>\n",
       "      <td>$200.00</td>\n",
       "      <td>New Era Colorado Foundation</td>\n",
       "      <td>Monetary Contribution</td>\n",
       "      <td>NaN</td>\n",
       "      <td>NaN</td>\n",
       "      <td>NaN</td>\n",
       "      <td>c3 Donors/COGD 2013</td>\n",
       "      <td>VNX0EKDVCZ7</td>\n",
       "      <td>William Briggs</td>\n",
       "    </tr>\n",
       "  </tbody>\n",
       "</table>\n",
       "</div>"
      ],
      "text/plain": [
       "  Count Contribution ID Received On   Amount                  Designation  \\\n",
       "0   NaN     VNW16E5Z4C7   12/7/2011   $15.00  New Era Colorado Foundation   \n",
       "1   NaN     VNW16E5Z4G9   12/4/2012  $250.00  New Era Colorado Foundation   \n",
       "2   NaN     VNW16DYYH24   12/8/2013  $100.00  New Era Colorado Foundation   \n",
       "3   NaN     VNW16DYYER9   12/9/2013  $100.00  New Era Colorado Foundation   \n",
       "4   NaN     VNW16DYYH89   12/9/2013  $200.00  New Era Colorado Foundation   \n",
       "\n",
       "       Contribution Type  Cycle  Period  Note     Source Code Path  \\\n",
       "0  Monetary Contribution    NaN     NaN   NaN                 COGD   \n",
       "1  Monetary Contribution    NaN     NaN   NaN                 COGD   \n",
       "2  Monetary Contribution    NaN     NaN   NaN  c3 Donors/COGD 2013   \n",
       "3  Monetary Contribution    NaN     NaN   NaN  c3 Donors/COGD 2013   \n",
       "4  Monetary Contribution    NaN     NaN   NaN  c3 Donors/COGD 2013   \n",
       "\n",
       "    Contact ID      Contact Name  \n",
       "0  VNX0EGHDAM0        Erika Blum  \n",
       "1  VNX0EGHKG27      Robert Shurr  \n",
       "2  VNX0EJSCF16  Thomas Pritchard  \n",
       "3  VNX0EGGX920   Diane Rosenthal  \n",
       "4  VNX0EKDVCZ7    William Briggs  "
      ]
     },
     "execution_count": 134,
     "metadata": {},
     "output_type": "execute_result"
    }
   ],
   "source": [
    "data.head()"
   ]
  },
  {
   "cell_type": "code",
   "execution_count": 135,
   "metadata": {},
   "outputs": [],
   "source": [
    "# Conver the Received On column to datetime so we can perform operations on these data!\n",
    "data['Received On'] = pd.to_datetime(data['Received On'])"
   ]
  },
  {
   "cell_type": "code",
   "execution_count": 136,
   "metadata": {},
   "outputs": [
    {
     "data": {
      "text/html": [
       "<div>\n",
       "<style scoped>\n",
       "    .dataframe tbody tr th:only-of-type {\n",
       "        vertical-align: middle;\n",
       "    }\n",
       "\n",
       "    .dataframe tbody tr th {\n",
       "        vertical-align: top;\n",
       "    }\n",
       "\n",
       "    .dataframe thead th {\n",
       "        text-align: right;\n",
       "    }\n",
       "</style>\n",
       "<table border=\"1\" class=\"dataframe\">\n",
       "  <thead>\n",
       "    <tr style=\"text-align: right;\">\n",
       "      <th></th>\n",
       "      <th>Count</th>\n",
       "      <th>Contribution ID</th>\n",
       "      <th>Received On</th>\n",
       "      <th>Amount</th>\n",
       "      <th>Designation</th>\n",
       "      <th>Contribution Type</th>\n",
       "      <th>Cycle</th>\n",
       "      <th>Period</th>\n",
       "      <th>Note</th>\n",
       "      <th>Source Code Path</th>\n",
       "      <th>Contact ID</th>\n",
       "      <th>Contact Name</th>\n",
       "    </tr>\n",
       "  </thead>\n",
       "  <tbody>\n",
       "    <tr>\n",
       "      <th>0</th>\n",
       "      <td>NaN</td>\n",
       "      <td>VNW16E5Z4C7</td>\n",
       "      <td>2011.0</td>\n",
       "      <td>$15.00</td>\n",
       "      <td>New Era Colorado Foundation</td>\n",
       "      <td>Monetary Contribution</td>\n",
       "      <td>NaN</td>\n",
       "      <td>NaN</td>\n",
       "      <td>NaN</td>\n",
       "      <td>COGD</td>\n",
       "      <td>VNX0EGHDAM0</td>\n",
       "      <td>Erika Blum</td>\n",
       "    </tr>\n",
       "    <tr>\n",
       "      <th>1</th>\n",
       "      <td>NaN</td>\n",
       "      <td>VNW16E5Z4G9</td>\n",
       "      <td>2012.0</td>\n",
       "      <td>$250.00</td>\n",
       "      <td>New Era Colorado Foundation</td>\n",
       "      <td>Monetary Contribution</td>\n",
       "      <td>NaN</td>\n",
       "      <td>NaN</td>\n",
       "      <td>NaN</td>\n",
       "      <td>COGD</td>\n",
       "      <td>VNX0EGHKG27</td>\n",
       "      <td>Robert Shurr</td>\n",
       "    </tr>\n",
       "    <tr>\n",
       "      <th>2</th>\n",
       "      <td>NaN</td>\n",
       "      <td>VNW16DYYH24</td>\n",
       "      <td>2013.0</td>\n",
       "      <td>$100.00</td>\n",
       "      <td>New Era Colorado Foundation</td>\n",
       "      <td>Monetary Contribution</td>\n",
       "      <td>NaN</td>\n",
       "      <td>NaN</td>\n",
       "      <td>NaN</td>\n",
       "      <td>c3 Donors/COGD 2013</td>\n",
       "      <td>VNX0EJSCF16</td>\n",
       "      <td>Thomas Pritchard</td>\n",
       "    </tr>\n",
       "    <tr>\n",
       "      <th>3</th>\n",
       "      <td>NaN</td>\n",
       "      <td>VNW16DYYER9</td>\n",
       "      <td>2013.0</td>\n",
       "      <td>$100.00</td>\n",
       "      <td>New Era Colorado Foundation</td>\n",
       "      <td>Monetary Contribution</td>\n",
       "      <td>NaN</td>\n",
       "      <td>NaN</td>\n",
       "      <td>NaN</td>\n",
       "      <td>c3 Donors/COGD 2013</td>\n",
       "      <td>VNX0EGGX920</td>\n",
       "      <td>Diane Rosenthal</td>\n",
       "    </tr>\n",
       "    <tr>\n",
       "      <th>4</th>\n",
       "      <td>NaN</td>\n",
       "      <td>VNW16DYYH89</td>\n",
       "      <td>2013.0</td>\n",
       "      <td>$200.00</td>\n",
       "      <td>New Era Colorado Foundation</td>\n",
       "      <td>Monetary Contribution</td>\n",
       "      <td>NaN</td>\n",
       "      <td>NaN</td>\n",
       "      <td>NaN</td>\n",
       "      <td>c3 Donors/COGD 2013</td>\n",
       "      <td>VNX0EKDVCZ7</td>\n",
       "      <td>William Briggs</td>\n",
       "    </tr>\n",
       "  </tbody>\n",
       "</table>\n",
       "</div>"
      ],
      "text/plain": [
       "  Count Contribution ID  Received On   Amount                  Designation  \\\n",
       "0   NaN     VNW16E5Z4C7       2011.0   $15.00  New Era Colorado Foundation   \n",
       "1   NaN     VNW16E5Z4G9       2012.0  $250.00  New Era Colorado Foundation   \n",
       "2   NaN     VNW16DYYH24       2013.0  $100.00  New Era Colorado Foundation   \n",
       "3   NaN     VNW16DYYER9       2013.0  $100.00  New Era Colorado Foundation   \n",
       "4   NaN     VNW16DYYH89       2013.0  $200.00  New Era Colorado Foundation   \n",
       "\n",
       "       Contribution Type  Cycle  Period  Note     Source Code Path  \\\n",
       "0  Monetary Contribution    NaN     NaN   NaN                 COGD   \n",
       "1  Monetary Contribution    NaN     NaN   NaN                 COGD   \n",
       "2  Monetary Contribution    NaN     NaN   NaN  c3 Donors/COGD 2013   \n",
       "3  Monetary Contribution    NaN     NaN   NaN  c3 Donors/COGD 2013   \n",
       "4  Monetary Contribution    NaN     NaN   NaN  c3 Donors/COGD 2013   \n",
       "\n",
       "    Contact ID      Contact Name  \n",
       "0  VNX0EGHDAM0        Erika Blum  \n",
       "1  VNX0EGHKG27      Robert Shurr  \n",
       "2  VNX0EJSCF16  Thomas Pritchard  \n",
       "3  VNX0EGGX920   Diane Rosenthal  \n",
       "4  VNX0EKDVCZ7    William Briggs  "
      ]
     },
     "execution_count": 136,
     "metadata": {},
     "output_type": "execute_result"
    }
   ],
   "source": [
    "#We only care about the year of the gift, so we'll simplify the Received On column to the year\n",
    "data['Received On'] = data['Received On'].dt.year\n",
    "data.head()"
   ]
  },
  {
   "cell_type": "code",
   "execution_count": 137,
   "metadata": {},
   "outputs": [],
   "source": [
    "data = data.drop(data.index[927])"
   ]
  },
  {
   "cell_type": "markdown",
   "metadata": {},
   "source": [
    "## Number of Unique Donors per Year"
   ]
  },
  {
   "cell_type": "code",
   "execution_count": 166,
   "metadata": {},
   "outputs": [
    {
     "data": {
      "text/html": [
       "<div>\n",
       "<style scoped>\n",
       "    .dataframe tbody tr th:only-of-type {\n",
       "        vertical-align: middle;\n",
       "    }\n",
       "\n",
       "    .dataframe tbody tr th {\n",
       "        vertical-align: top;\n",
       "    }\n",
       "\n",
       "    .dataframe thead th {\n",
       "        text-align: right;\n",
       "    }\n",
       "</style>\n",
       "<table border=\"1\" class=\"dataframe\">\n",
       "  <thead>\n",
       "    <tr style=\"text-align: right;\">\n",
       "      <th></th>\n",
       "      <th>Received On</th>\n",
       "      <th>Number of Donors</th>\n",
       "    </tr>\n",
       "  </thead>\n",
       "  <tbody>\n",
       "    <tr>\n",
       "      <th>0</th>\n",
       "      <td>2011.0</td>\n",
       "      <td>1</td>\n",
       "    </tr>\n",
       "    <tr>\n",
       "      <th>1</th>\n",
       "      <td>2012.0</td>\n",
       "      <td>1</td>\n",
       "    </tr>\n",
       "    <tr>\n",
       "      <th>2</th>\n",
       "      <td>2013.0</td>\n",
       "      <td>116</td>\n",
       "    </tr>\n",
       "    <tr>\n",
       "      <th>3</th>\n",
       "      <td>2014.0</td>\n",
       "      <td>198</td>\n",
       "    </tr>\n",
       "    <tr>\n",
       "      <th>4</th>\n",
       "      <td>2015.0</td>\n",
       "      <td>195</td>\n",
       "    </tr>\n",
       "    <tr>\n",
       "      <th>5</th>\n",
       "      <td>2016.0</td>\n",
       "      <td>224</td>\n",
       "    </tr>\n",
       "    <tr>\n",
       "      <th>6</th>\n",
       "      <td>2017.0</td>\n",
       "      <td>126</td>\n",
       "    </tr>\n",
       "  </tbody>\n",
       "</table>\n",
       "</div>"
      ],
      "text/plain": [
       "   Received On  Number of Donors\n",
       "0       2011.0                 1\n",
       "1       2012.0                 1\n",
       "2       2013.0               116\n",
       "3       2014.0               198\n",
       "4       2015.0               195\n",
       "5       2016.0               224\n",
       "6       2017.0               126"
      ]
     },
     "execution_count": 166,
     "metadata": {},
     "output_type": "execute_result"
    }
   ],
   "source": [
    "num_donors = data.groupby('Received On')['Contact Name'].nunique().to_frame().reset_index()\n",
    "num_donors.columns = ['Received On', 'Number of Donors']\n",
    "num_donors = num_donors.drop(num_donors.index[7])\n",
    "num_donors\n"
   ]
  },
  {
   "cell_type": "code",
   "execution_count": 182,
   "metadata": {},
   "outputs": [
    {
     "data": {
      "text/plain": [
       "[<matplotlib.lines.Line2D at 0x7fd9d7436e48>]"
      ]
     },
     "execution_count": 182,
     "metadata": {},
     "output_type": "execute_result"
    },
    {
     "data": {
      "image/png": "[encoded data removed]",
      "text/plain": [
       "<Figure size 640x480 with 1 Axes>"
      ]
     },
     "metadata": {},
     "output_type": "display_data"
    }
   ],
   "source": [
    "A = num_donors[\"Received On\"]\n",
    "B = num_donors[\"Number of Donors\"]\n",
    "fig = plt.figure(num=None, figsize=(8, 6), dpi=80, facecolor='w', edgecolor='k')\n",
    "\n",
    "ax = fig.add_subplot(111)\n",
    "plt.plot(num_donors[\"Received On\"], num_donors[\"Number of Donors\"], marker='o', color='b')"
   ]
  },
  {
   "cell_type": "markdown",
   "metadata": {},
   "source": [
    "## Predicting the Number of Donors for 2018\n",
    "A LOT goes into predicting participating in any fundraising campaign -- there’s just so many variables that influence giving year to year, season to season. For the purposes of this analysis, I just wanted to get a feel for the general growth of the program over time, so I plotted a linear regression line on top of the data, shown below (Figure 1).\n"
   ]
  },
  {
   "cell_type": "code",
   "execution_count": 190,
   "metadata": {},
   "outputs": [
    {
     "data": {
      "text/plain": [
       "<matplotlib.legend.Legend at 0x7fd9d69c5518>"
      ]
     },
     "execution_count": 190,
     "metadata": {},
     "output_type": "execute_result"
    },
    {
     "data": {
      "image/png": "[encoded data removed]",
      "text/plain": [
       "<Figure size 640x480 with 1 Axes>"
      ]
     },
     "metadata": {},
     "output_type": "display_data"
    }
   ],
   "source": [
    "fig = plt.figure(num=None, figsize=(8, 6), dpi=80, facecolor='w', edgecolor='k')\n",
    "\n",
    "slope, intercept, r_value, p_value, std_err = stats.linregress(num_donors['Received On'],num_donors['Number of Donors'])\n",
    "ax = sns.regplot(x=\"Received On\", y=\"Number of Donors\", data=num_donors, color='b', \n",
    " line_kws={'label':\"y={0:.1f}x+{1:.1f}\".format(slope,intercept)})\n",
    "\n",
    "ax.legend()"
   ]
  },
  {
   "cell_type": "code",
   "execution_count": 199,
   "metadata": {},
   "outputs": [
    {
     "data": {
      "text/plain": [
       "251.57142857142753"
      ]
     },
     "execution_count": 199,
     "metadata": {},
     "output_type": "execute_result"
    }
   ],
   "source": [
    "# Predicting the number of new donors\n",
    "year = 2018\n",
    "(32.14285714285714 * year) -64612.714285714275"
   ]
  },
  {
   "cell_type": "markdown",
   "metadata": {},
   "source": [
    "We can expect to reach **250 donors** this year if we continue growing at the same rate.\n",
    "\n",
    "But will we?\n",
    "\n",
    "## Hold Up...Wait a Minute.\n",
    "250 is a LOT of donors compared to last year ‘s reach (126 donors). Is this really feasible? \n",
    "We had a pretty big dip in donors last year in 2017 that but a bit stop to our pretty awesome linear growth. What could impact the number of donors we reach this year?\n",
    "\n",
    "Here are my questions:\n",
    "\n",
    "**Staff Turnover** Have we lost a lot of staff that had ties to previous COGD donors? \n",
    "\n",
    "**How many have already given** How many donors from our go to lists have already given this year? Are we still waiting on any gifts from donors?\n",
    "\n",
    "**How big our the staff lists?** Can we reliably expect to bring in new donors from our staff? If so, how many historically?   \n",
    "\n"
   ]
  },
  {
   "cell_type": "markdown",
   "metadata": {},
   "source": [
    "## Money Raised per Year  \n",
    "\n",
    "It's all about the dollar, dollar bills, y'all!\n",
    "\n",
    "We have to do a bit of data cleaning to take the Amount column in the dataframe and make the values numeric (and take care of all those pesky dollar signs!)  \n",
    "\n",
    "Once we do that, it's pretty easy to group the data by year and amount to find the annual amount raised!"
   ]
  },
  {
   "cell_type": "code",
   "execution_count": 139,
   "metadata": {
    "scrolled": true
   },
   "outputs": [
    {
     "data": {
      "text/html": [
       "<div>\n",
       "<style scoped>\n",
       "    .dataframe tbody tr th:only-of-type {\n",
       "        vertical-align: middle;\n",
       "    }\n",
       "\n",
       "    .dataframe tbody tr th {\n",
       "        vertical-align: top;\n",
       "    }\n",
       "\n",
       "    .dataframe thead th {\n",
       "        text-align: right;\n",
       "    }\n",
       "</style>\n",
       "<table border=\"1\" class=\"dataframe\">\n",
       "  <thead>\n",
       "    <tr style=\"text-align: right;\">\n",
       "      <th></th>\n",
       "      <th>Count</th>\n",
       "      <th>Contribution ID</th>\n",
       "      <th>Received On</th>\n",
       "      <th>Amount</th>\n",
       "      <th>Designation</th>\n",
       "      <th>Contribution Type</th>\n",
       "      <th>Cycle</th>\n",
       "      <th>Period</th>\n",
       "      <th>Note</th>\n",
       "      <th>Source Code Path</th>\n",
       "      <th>Contact ID</th>\n",
       "      <th>Contact Name</th>\n",
       "    </tr>\n",
       "  </thead>\n",
       "  <tbody>\n",
       "    <tr>\n",
       "      <th>0</th>\n",
       "      <td>NaN</td>\n",
       "      <td>VNW16E5Z4C7</td>\n",
       "      <td>2011.0</td>\n",
       "      <td>15.0</td>\n",
       "      <td>New Era Colorado Foundation</td>\n",
       "      <td>Monetary Contribution</td>\n",
       "      <td>NaN</td>\n",
       "      <td>NaN</td>\n",
       "      <td>NaN</td>\n",
       "      <td>COGD</td>\n",
       "      <td>VNX0EGHDAM0</td>\n",
       "      <td>Erika Blum</td>\n",
       "    </tr>\n",
       "    <tr>\n",
       "      <th>1</th>\n",
       "      <td>NaN</td>\n",
       "      <td>VNW16E5Z4G9</td>\n",
       "      <td>2012.0</td>\n",
       "      <td>250.0</td>\n",
       "      <td>New Era Colorado Foundation</td>\n",
       "      <td>Monetary Contribution</td>\n",
       "      <td>NaN</td>\n",
       "      <td>NaN</td>\n",
       "      <td>NaN</td>\n",
       "      <td>COGD</td>\n",
       "      <td>VNX0EGHKG27</td>\n",
       "      <td>Robert Shurr</td>\n",
       "    </tr>\n",
       "    <tr>\n",
       "      <th>2</th>\n",
       "      <td>NaN</td>\n",
       "      <td>VNW16DYYH24</td>\n",
       "      <td>2013.0</td>\n",
       "      <td>100.0</td>\n",
       "      <td>New Era Colorado Foundation</td>\n",
       "      <td>Monetary Contribution</td>\n",
       "      <td>NaN</td>\n",
       "      <td>NaN</td>\n",
       "      <td>NaN</td>\n",
       "      <td>c3 Donors/COGD 2013</td>\n",
       "      <td>VNX0EJSCF16</td>\n",
       "      <td>Thomas Pritchard</td>\n",
       "    </tr>\n",
       "    <tr>\n",
       "      <th>3</th>\n",
       "      <td>NaN</td>\n",
       "      <td>VNW16DYYER9</td>\n",
       "      <td>2013.0</td>\n",
       "      <td>100.0</td>\n",
       "      <td>New Era Colorado Foundation</td>\n",
       "      <td>Monetary Contribution</td>\n",
       "      <td>NaN</td>\n",
       "      <td>NaN</td>\n",
       "      <td>NaN</td>\n",
       "      <td>c3 Donors/COGD 2013</td>\n",
       "      <td>VNX0EGGX920</td>\n",
       "      <td>Diane Rosenthal</td>\n",
       "    </tr>\n",
       "    <tr>\n",
       "      <th>4</th>\n",
       "      <td>NaN</td>\n",
       "      <td>VNW16DYYH89</td>\n",
       "      <td>2013.0</td>\n",
       "      <td>200.0</td>\n",
       "      <td>New Era Colorado Foundation</td>\n",
       "      <td>Monetary Contribution</td>\n",
       "      <td>NaN</td>\n",
       "      <td>NaN</td>\n",
       "      <td>NaN</td>\n",
       "      <td>c3 Donors/COGD 2013</td>\n",
       "      <td>VNX0EKDVCZ7</td>\n",
       "      <td>William Briggs</td>\n",
       "    </tr>\n",
       "  </tbody>\n",
       "</table>\n",
       "</div>"
      ],
      "text/plain": [
       "  Count Contribution ID  Received On  Amount                  Designation  \\\n",
       "0   NaN     VNW16E5Z4C7       2011.0    15.0  New Era Colorado Foundation   \n",
       "1   NaN     VNW16E5Z4G9       2012.0   250.0  New Era Colorado Foundation   \n",
       "2   NaN     VNW16DYYH24       2013.0   100.0  New Era Colorado Foundation   \n",
       "3   NaN     VNW16DYYER9       2013.0   100.0  New Era Colorado Foundation   \n",
       "4   NaN     VNW16DYYH89       2013.0   200.0  New Era Colorado Foundation   \n",
       "\n",
       "       Contribution Type  Cycle  Period  Note     Source Code Path  \\\n",
       "0  Monetary Contribution    NaN     NaN   NaN                 COGD   \n",
       "1  Monetary Contribution    NaN     NaN   NaN                 COGD   \n",
       "2  Monetary Contribution    NaN     NaN   NaN  c3 Donors/COGD 2013   \n",
       "3  Monetary Contribution    NaN     NaN   NaN  c3 Donors/COGD 2013   \n",
       "4  Monetary Contribution    NaN     NaN   NaN  c3 Donors/COGD 2013   \n",
       "\n",
       "    Contact ID      Contact Name  \n",
       "0  VNX0EGHDAM0        Erika Blum  \n",
       "1  VNX0EGHKG27      Robert Shurr  \n",
       "2  VNX0EJSCF16  Thomas Pritchard  \n",
       "3  VNX0EGGX920   Diane Rosenthal  \n",
       "4  VNX0EKDVCZ7    William Briggs  "
      ]
     },
     "execution_count": 139,
     "metadata": {},
     "output_type": "execute_result"
    }
   ],
   "source": [
    "data['Amount'] = data[data.columns[3]].replace('[\\$,]', '', regex=True).astype(float)\n",
    "data.head()"
   ]
  },
  {
   "cell_type": "code",
   "execution_count": 144,
   "metadata": {},
   "outputs": [
    {
     "data": {
      "text/html": [
       "<div>\n",
       "<style scoped>\n",
       "    .dataframe tbody tr th:only-of-type {\n",
       "        vertical-align: middle;\n",
       "    }\n",
       "\n",
       "    .dataframe tbody tr th {\n",
       "        vertical-align: top;\n",
       "    }\n",
       "\n",
       "    .dataframe thead th {\n",
       "        text-align: right;\n",
       "    }\n",
       "</style>\n",
       "<table border=\"1\" class=\"dataframe\">\n",
       "  <thead>\n",
       "    <tr style=\"text-align: right;\">\n",
       "      <th></th>\n",
       "      <th>Count</th>\n",
       "      <th>Contribution ID</th>\n",
       "      <th>Received On</th>\n",
       "      <th>Amount</th>\n",
       "      <th>Designation</th>\n",
       "      <th>Contribution Type</th>\n",
       "      <th>Cycle</th>\n",
       "      <th>Period</th>\n",
       "      <th>Note</th>\n",
       "      <th>Source Code Path</th>\n",
       "      <th>Contact ID</th>\n",
       "      <th>Contact Name</th>\n",
       "    </tr>\n",
       "  </thead>\n",
       "  <tbody>\n",
       "    <tr>\n",
       "      <th>922</th>\n",
       "      <td>NaN</td>\n",
       "      <td>VNW16G3N6C3</td>\n",
       "      <td>2018.0</td>\n",
       "      <td>25.0</td>\n",
       "      <td>New Era Colorado Foundation</td>\n",
       "      <td>Monetary Contribution</td>\n",
       "      <td>NaN</td>\n",
       "      <td>NaN</td>\n",
       "      <td>NaN</td>\n",
       "      <td>COGD</td>\n",
       "      <td>VNX0ETVWTW5</td>\n",
       "      <td>Carla Slatt-Burns</td>\n",
       "    </tr>\n",
       "    <tr>\n",
       "      <th>923</th>\n",
       "      <td>NaN</td>\n",
       "      <td>VNW16G9E7A6</td>\n",
       "      <td>2018.0</td>\n",
       "      <td>10.0</td>\n",
       "      <td>New Era Colorado Foundation</td>\n",
       "      <td>Monetary Contribution</td>\n",
       "      <td>NaN</td>\n",
       "      <td>NaN</td>\n",
       "      <td>NaN</td>\n",
       "      <td>COGD</td>\n",
       "      <td>VNX0EGHKG27</td>\n",
       "      <td>Robert Shurr</td>\n",
       "    </tr>\n",
       "    <tr>\n",
       "      <th>924</th>\n",
       "      <td>NaN</td>\n",
       "      <td>VNW16G9E798</td>\n",
       "      <td>2018.0</td>\n",
       "      <td>20.0</td>\n",
       "      <td>New Era Colorado Foundation</td>\n",
       "      <td>Monetary Contribution</td>\n",
       "      <td>NaN</td>\n",
       "      <td>NaN</td>\n",
       "      <td>NaN</td>\n",
       "      <td>COGD</td>\n",
       "      <td>VNX0EGH2WM1</td>\n",
       "      <td>Susan Peterson</td>\n",
       "    </tr>\n",
       "    <tr>\n",
       "      <th>925</th>\n",
       "      <td>NaN</td>\n",
       "      <td>VNW16G9CNK9</td>\n",
       "      <td>2018.0</td>\n",
       "      <td>25.0</td>\n",
       "      <td>New Era Colorado Foundation</td>\n",
       "      <td>Monetary Contribution</td>\n",
       "      <td>NaN</td>\n",
       "      <td>NaN</td>\n",
       "      <td>NaN</td>\n",
       "      <td>COGD</td>\n",
       "      <td>VNX0ETVWTW5</td>\n",
       "      <td>Carla Slatt-Burns</td>\n",
       "    </tr>\n",
       "    <tr>\n",
       "      <th>926</th>\n",
       "      <td>NaN</td>\n",
       "      <td>VNW16G9E7B4</td>\n",
       "      <td>2018.0</td>\n",
       "      <td>10.0</td>\n",
       "      <td>New Era Colorado Foundation</td>\n",
       "      <td>Monetary Contribution</td>\n",
       "      <td>NaN</td>\n",
       "      <td>NaN</td>\n",
       "      <td>NaN</td>\n",
       "      <td>COGD</td>\n",
       "      <td>VNX0EGHKG27</td>\n",
       "      <td>Robert Shurr</td>\n",
       "    </tr>\n",
       "  </tbody>\n",
       "</table>\n",
       "</div>"
      ],
      "text/plain": [
       "    Count Contribution ID  Received On  Amount                  Designation  \\\n",
       "922   NaN     VNW16G3N6C3       2018.0    25.0  New Era Colorado Foundation   \n",
       "923   NaN     VNW16G9E7A6       2018.0    10.0  New Era Colorado Foundation   \n",
       "924   NaN     VNW16G9E798       2018.0    20.0  New Era Colorado Foundation   \n",
       "925   NaN     VNW16G9CNK9       2018.0    25.0  New Era Colorado Foundation   \n",
       "926   NaN     VNW16G9E7B4       2018.0    10.0  New Era Colorado Foundation   \n",
       "\n",
       "         Contribution Type  Cycle  Period  Note Source Code Path   Contact ID  \\\n",
       "922  Monetary Contribution    NaN     NaN   NaN             COGD  VNX0ETVWTW5   \n",
       "923  Monetary Contribution    NaN     NaN   NaN             COGD  VNX0EGHKG27   \n",
       "924  Monetary Contribution    NaN     NaN   NaN             COGD  VNX0EGH2WM1   \n",
       "925  Monetary Contribution    NaN     NaN   NaN             COGD  VNX0ETVWTW5   \n",
       "926  Monetary Contribution    NaN     NaN   NaN             COGD  VNX0EGHKG27   \n",
       "\n",
       "          Contact Name  \n",
       "922  Carla Slatt-Burns  \n",
       "923       Robert Shurr  \n",
       "924     Susan Peterson  \n",
       "925  Carla Slatt-Burns  \n",
       "926       Robert Shurr  "
      ]
     },
     "execution_count": 144,
     "metadata": {},
     "output_type": "execute_result"
    }
   ],
   "source": [
    "data.tail()\n"
   ]
  },
  {
   "cell_type": "code",
   "execution_count": 216,
   "metadata": {},
   "outputs": [
    {
     "data": {
      "text/html": [
       "<div>\n",
       "<style scoped>\n",
       "    .dataframe tbody tr th:only-of-type {\n",
       "        vertical-align: middle;\n",
       "    }\n",
       "\n",
       "    .dataframe tbody tr th {\n",
       "        vertical-align: top;\n",
       "    }\n",
       "\n",
       "    .dataframe thead th {\n",
       "        text-align: right;\n",
       "    }\n",
       "</style>\n",
       "<table border=\"1\" class=\"dataframe\">\n",
       "  <thead>\n",
       "    <tr style=\"text-align: right;\">\n",
       "      <th></th>\n",
       "      <th>Received On</th>\n",
       "      <th>Amount</th>\n",
       "    </tr>\n",
       "  </thead>\n",
       "  <tbody>\n",
       "    <tr>\n",
       "      <th>1</th>\n",
       "      <td>2012.0</td>\n",
       "      <td>250.00</td>\n",
       "    </tr>\n",
       "    <tr>\n",
       "      <th>2</th>\n",
       "      <td>2013.0</td>\n",
       "      <td>9625.43</td>\n",
       "    </tr>\n",
       "    <tr>\n",
       "      <th>3</th>\n",
       "      <td>2014.0</td>\n",
       "      <td>15938.49</td>\n",
       "    </tr>\n",
       "    <tr>\n",
       "      <th>4</th>\n",
       "      <td>2015.0</td>\n",
       "      <td>14538.00</td>\n",
       "    </tr>\n",
       "    <tr>\n",
       "      <th>5</th>\n",
       "      <td>2016.0</td>\n",
       "      <td>13272.00</td>\n",
       "    </tr>\n",
       "    <tr>\n",
       "      <th>6</th>\n",
       "      <td>2017.0</td>\n",
       "      <td>20149.11</td>\n",
       "    </tr>\n",
       "  </tbody>\n",
       "</table>\n",
       "</div>"
      ],
      "text/plain": [
       "   Received On    Amount\n",
       "1       2012.0    250.00\n",
       "2       2013.0   9625.43\n",
       "3       2014.0  15938.49\n",
       "4       2015.0  14538.00\n",
       "5       2016.0  13272.00\n",
       "6       2017.0  20149.11"
      ]
     },
     "execution_count": 216,
     "metadata": {},
     "output_type": "execute_result"
    }
   ],
   "source": [
    "byyear = data.groupby('Received On')['Amount'].agg('sum')\n",
    "byyear = byyear.to_frame().reset_index()\n",
    "byyear = byyear.drop(byyear.index[0])\n",
    "byyear = byyear.drop(byyear.index[6])\n",
    "byyear"
   ]
  },
  {
   "cell_type": "code",
   "execution_count": 217,
   "metadata": {},
   "outputs": [
    {
     "data": {
      "text/plain": [
       "Text(0.5,1,'Growth of Colorado Gives Day Since 2013')"
      ]
     },
     "execution_count": 217,
     "metadata": {},
     "output_type": "execute_result"
    },
    {
     "data": {
      "image/png": "[encoded data removed]",
      "text/plain": [
       "<Figure size 640x480 with 1 Axes>"
      ]
     },
     "metadata": {},
     "output_type": "display_data"
    }
   ],
   "source": [
    "%matplotlib inline\n",
    "x = byyear['Amount']\n",
    "figure(num=None, figsize=(8, 6), dpi=80, facecolor='w', edgecolor='k')\n",
    "plt.bar(byyear['Received On'], byyear['Amount'], align='center')\n",
    "plt.ylabel('Dollars Raised')\n",
    "plt.title('Growth of Colorado Gives Day Since 2013')"
   ]
  },
  {
   "cell_type": "code",
   "execution_count": 218,
   "metadata": {
    "scrolled": false
   },
   "outputs": [
    {
     "data": {
      "text/plain": [
       "<matplotlib.legend.Legend at 0x7fd9d67ef9e8>"
      ]
     },
     "execution_count": 218,
     "metadata": {},
     "output_type": "execute_result"
    },
    {
     "data": {
      "image/png": "[encoded data removed]",
      "text/plain": [
       "<Figure size 640x480 with 1 Axes>"
      ]
     },
     "metadata": {},
     "output_type": "display_data"
    }
   ],
   "source": [
    "fig = plt.figure(num=None, figsize=(8, 6), dpi=80, facecolor='w', edgecolor='k')\n",
    "\n",
    "slope, intercept, r_value, p_value, std_err = stats.linregress(byyear['Received On'],byyear['Amount'])\n",
    "ax = sns.regplot(x=\"Received On\", y=\"Amount\", data=byyear, color='b', \n",
    " line_kws={'label':\"y={0:.1f}x+{1:.1f}\".format(slope,intercept)})\n",
    "\n",
    "ax.legend()"
   ]
  },
  {
   "cell_type": "code",
   "execution_count": 220,
   "metadata": {},
   "outputs": [
    {
     "data": {
      "text/plain": [
       "3115.2791428571422"
      ]
     },
     "execution_count": 220,
     "metadata": {},
     "output_type": "execute_result"
    }
   ],
   "source": [
    "## print out a more precise intercept for the calculation below\n",
    "slope"
   ]
  },
  {
   "cell_type": "code",
   "execution_count": 221,
   "metadata": {},
   "outputs": [
    {
     "data": {
      "text/plain": [
       "23198.981999999844"
      ]
     },
     "execution_count": 221,
     "metadata": {},
     "output_type": "execute_result"
    }
   ],
   "source": [
    "## Predicting our revenue for 2018!\n",
    "year = 2018\n",
    "3115.2791428571422 * year -6263434.328285713"
   ]
  },
  {
   "cell_type": "markdown",
   "metadata": {},
   "source": [
    "It looks like over the course of all of 2018, we can expect to raise $23,198 from COGD!"
   ]
  },
  {
   "cell_type": "markdown",
   "metadata": {},
   "source": [
    "## Conclusion \n",
    "Given the spread of the data in the last two years, and a lack of knowledge about NEC’s donor lists, I suggest  compromise of 200 donors for COGD 2018. \n"
   ]
  },
  {
   "cell_type": "code",
   "execution_count": null,
   "metadata": {},
   "outputs": [],
   "source": []
  }
 ],
 "metadata": {
  "kernelspec": {
   "display_name": "Python 3",
   "language": "python",
   "name": "python3"
  },
  "language_info": {
   "codemirror_mode": {
    "name": "ipython",
    "version": 3
   },
   "file_extension": ".py",
   "mimetype": "text/x-python",
   "name": "python",
   "nbconvert_exporter": "python",
   "pygments_lexer": "ipython3",
   "version": "3.6.5"
  }
 },
 "nbformat": 4,
 "nbformat_minor": 2
}
